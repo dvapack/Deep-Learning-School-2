{
  "cells": [
    {
      "cell_type": "markdown",
      "metadata": {
        "id": "Ot3c4fjZwC4T"
      },
      "source": [
        "<img src=\"https://s8.hostingkartinok.com/uploads/images/2018/08/308b49fcfbc619d629fe4604bceb67ac.jpg\" width=500, height=450>\n",
        "<h3 style=\"text-align: center;\"><b>Физтех-Школа Прикладной математики и информатики (ФПМИ) МФТИ</b></h3>"
      ]
    },
    {
      "cell_type": "markdown",
      "metadata": {
        "id": "P2JdzEXmwRU5"
      },
      "source": [
        "---"
      ]
    },
    {
      "cell_type": "markdown",
      "metadata": {
        "id": "Fc8iHXIVwDwj"
      },
      "source": [
        "***Some parts of the notebook are almost the copy of [ mmta-team course](https://github.com/mmta-team/mmta_fall_2020). Special thanks to mmta-team for making them publicly available. [Original notebook](https://github.com/mmta-team/mmta_fall_2020/blob/master/tasks/01_word_embeddings/task_word_embeddings.ipynb).***"
      ]
    },
    {
      "cell_type": "markdown",
      "metadata": {
        "id": "7D0wm5jt6j0U"
      },
      "source": [
        "<b> Прочитайте семинар, пожалуйста, для успешного выполнения домашнего задания. В конце ноутка напишите свой вывод. Работа без вывода оценивается ниже."
      ]
    },
    {
      "cell_type": "markdown",
      "metadata": {
        "id": "BIWqBuEa6j0b"
      },
      "source": [
        "## Задача поиска схожих по смыслу предложений"
      ]
    },
    {
      "cell_type": "markdown",
      "metadata": {
        "id": "NUkwMPLA6j0g"
      },
      "source": [
        "Мы будем ранжировать вопросы [StackOverflow](https://stackoverflow.com) на основе семантического векторного представления"
      ]
    },
    {
      "cell_type": "markdown",
      "metadata": {
        "id": "dNRXIEfu5a3Q"
      },
      "source": [
        "До этого в курсе не было речи про задачу ранжировния, поэтому введем математическую формулировку"
      ]
    },
    {
      "cell_type": "markdown",
      "metadata": {
        "id": "uS9FwWNd5a3S"
      },
      "source": [
        "## Задача ранжирования(Learning to Rank)"
      ]
    },
    {
      "cell_type": "markdown",
      "metadata": {
        "id": "wdwY9-f75a3T"
      },
      "source": [
        "* $X$ - множество объектов\n",
        "* $X^l = \\{x_1, x_2, ..., x_l\\}$ - обучающая выборка\n",
        "<br>На обучающей выборке задан порядок между некоторыми элементами, то есть нам известно, что некий объект выборки более релевантный для нас, чем другой:\n",
        "* $i \\prec j$ - порядок пары индексов объектов на выборке $X^l$ c индексами $i$ и $j$\n",
        "### Задача:\n",
        "построить ранжирующую функцию $a$ : $X \\rightarrow R$ такую, что\n",
        "$$i \\prec j \\Rightarrow a(x_i) < a(x_j)$$"
      ]
    },
    {
      "cell_type": "markdown",
      "metadata": {
        "id": "WG2IGBsh5a3U"
      },
      "source": [
        "<img src=\"https://d25skit2l41vkl.cloudfront.net/wp-content/uploads/2016/12/Featured-Image.jpg\" width=500, height=450>"
      ]
    },
    {
      "cell_type": "markdown",
      "metadata": {
        "id": "MQk_rolFwT_h"
      },
      "source": [
        "### Embeddings"
      ]
    },
    {
      "cell_type": "markdown",
      "metadata": {
        "id": "xUe1PGXn6j0l"
      },
      "source": [
        "Будем использовать предобученные векторные представления слов на постах Stack Overflow.<br>\n",
        "[A word2vec model trained on Stack Overflow posts](https://github.com/vefstathiou/SO_word2vec)"
      ]
    },
    {
      "cell_type": "code",
      "execution_count": 1,
      "metadata": {
        "id": "O8YJTOYv6j0s"
      },
      "outputs": [],
      "source": [
        "from gensim.models.keyedvectors import KeyedVectors\n",
        "wv_embeddings = KeyedVectors.load_word2vec_format(\"SO_vectors_200.bin\", binary=True)"
      ]
    },
    {
      "cell_type": "markdown",
      "metadata": {
        "id": "aIcT_g-C6j1E"
      },
      "source": [
        "#### Как пользоваться этими векторами?"
      ]
    },
    {
      "cell_type": "markdown",
      "metadata": {
        "id": "DWO5SPDY6j1G"
      },
      "source": [
        "Посмотрим на примере одного слова, что из себя представляет embedding"
      ]
    },
    {
      "cell_type": "code",
      "execution_count": 2,
      "metadata": {
        "colab": {
          "base_uri": "https://localhost:8080/"
        },
        "id": "KeSBlQfk6j1J",
        "outputId": "53a7b26a-22a3-481e-9fd8-32e7b1a9ee79",
        "scrolled": true
      },
      "outputs": [
        {
          "name": "stdout",
          "output_type": "stream",
          "text": [
            "float32 (200,)\n"
          ]
        }
      ],
      "source": [
        "word = 'dog'\n",
        "if word in wv_embeddings:\n",
        "    print(wv_embeddings[word].dtype, wv_embeddings[word].shape)"
      ]
    },
    {
      "cell_type": "code",
      "execution_count": 3,
      "metadata": {
        "colab": {
          "base_uri": "https://localhost:8080/"
        },
        "id": "T4Eq-D1qxpMJ",
        "outputId": "72780089-e552-467f-9c66-aa7e1689b7d4"
      },
      "outputs": [
        {
          "name": "stdout",
          "output_type": "stream",
          "text": [
            "Num of words: 1787145\n"
          ]
        }
      ],
      "source": [
        "print(f\"Num of words: {len(wv_embeddings.index_to_key)}\")"
      ]
    },
    {
      "cell_type": "markdown",
      "metadata": {
        "id": "ZT6NTCys6j1Q"
      },
      "source": [
        "Найдем наиболее близкие слова к слову `dog`:"
      ]
    },
    {
      "cell_type": "markdown",
      "metadata": {
        "id": "n08z2PjMwC5o"
      },
      "source": [
        "#### ***Вопрос 1:***\n",
        "* Входит ли слово `cat` в топ-5 близких слов к слову `dog`? Какое место оно занимает?\n"
      ]
    },
    {
      "cell_type": "code",
      "execution_count": 4,
      "metadata": {
        "colab": {
          "base_uri": "https://localhost:8080/"
        },
        "id": "nYwVz0xG6j1U",
        "outputId": "c78f47b9-6ca1-4fbf-e325-213a04309aaf",
        "scrolled": true
      },
      "outputs": [
        {
          "data": {
            "text/plain": [
              "[('animal', 0.8564180135726929),\n",
              " ('dogs', 0.7880867123603821),\n",
              " ('mammal', 0.7623804211616516),\n",
              " ('cats', 0.7621253728866577),\n",
              " ('animals', 0.760793924331665)]"
            ]
          },
          "execution_count": 4,
          "metadata": {},
          "output_type": "execute_result"
        }
      ],
      "source": [
        "# method most_simmilar\n",
        "wv_embeddings.most_similar('dog', topn=5)"
      ]
    },
    {
      "cell_type": "markdown",
      "metadata": {
        "id": "7Wu7O43AY5jH"
      },
      "source": [
        "***Ваш ответ:*** 'cat' не входит в топ-5 ближайших слов к 'dog'. Входит слово **cats**"
      ]
    },
    {
      "cell_type": "markdown",
      "metadata": {
        "id": "ai48-5vv6j1d"
      },
      "source": [
        "### Векторные представления текста\n",
        "\n",
        "Перейдем от векторных представлений отдельных слов к векторным представлениям вопросов, как к **среднему** векторов всех слов в вопросе. Если для какого-то слова нет предобученного вектора, то его нужно пропустить. Если вопрос не содержит ни одного известного слова, то нужно вернуть нулевой вектор."
      ]
    },
    {
      "cell_type": "code",
      "execution_count": 4,
      "metadata": {
        "id": "EhNuxBJd6j1f"
      },
      "outputs": [
        {
          "name": "stderr",
          "output_type": "stream",
          "text": [
            "<>:9: SyntaxWarning: invalid escape sequence '\\w'\n",
            "<>:9: SyntaxWarning: invalid escape sequence '\\w'\n",
            "C:\\Users\\mserg\\AppData\\Local\\Temp\\ipykernel_22548\\2760772041.py:9: SyntaxWarning: invalid escape sequence '\\w'\n",
            "  return re.findall('\\w+', text)\n"
          ]
        }
      ],
      "source": [
        "import numpy as np\n",
        "import re\n",
        "# you can use your tokenizer\n",
        "# for example, from nltk.tokenize import WordPunctTokenizer\n",
        "class MyTokenizer:\n",
        "    def __init__(self):\n",
        "        pass\n",
        "    def tokenize(self, text):\n",
        "        return re.findall('\\w+', text)\n",
        "tokenizer = MyTokenizer()"
      ]
    },
    {
      "cell_type": "code",
      "execution_count": 5,
      "metadata": {
        "id": "YHcvu6186j1m"
      },
      "outputs": [],
      "source": [
        "def question_to_vec(question, embeddings, tokenizer, dim=200):\n",
        "    \"\"\"\n",
        "        question: строка\n",
        "        embeddings: наше векторное представление\n",
        "        dim: размер любого вектора в нашем представлении\n",
        "\n",
        "        return: векторное представление для вопроса\n",
        "    \"\"\"\n",
        "    mean = np.zeros(shape=dim)\n",
        "    size = 0\n",
        "    words = tokenizer.tokenize(question.lower())\n",
        "    for word in words:\n",
        "      if word in embeddings:\n",
        "         mean += embeddings[word]\n",
        "         size += 1\n",
        "    return mean / size if size != 0 else mean\n"
      ]
    },
    {
      "cell_type": "markdown",
      "metadata": {
        "id": "u5Q_4j7r6j1u"
      },
      "source": [
        "Теперь у нас есть метод для создания векторного представления любого предложения."
      ]
    },
    {
      "cell_type": "markdown",
      "metadata": {
        "id": "EsJSNkhm6j1y"
      },
      "source": [
        "#### ***Вопрос 2:***\n",
        "\n",
        "* Какая третья (с индексом 2) компонента вектора предложения `I love neural networks` (округлите до 2 знаков после запятой)?"
      ]
    },
    {
      "cell_type": "code",
      "execution_count": 7,
      "metadata": {
        "id": "a62r11cT6j10",
        "scrolled": true
      },
      "outputs": [
        {
          "data": {
            "text/plain": [
              "-1.29"
            ]
          },
          "execution_count": 7,
          "metadata": {},
          "output_type": "execute_result"
        }
      ],
      "source": [
        "# Предложение\n",
        "question = \"I love neural networks\"\n",
        "\n",
        "round(question_to_vec(question, wv_embeddings, tokenizer)[2], 2)"
      ]
    },
    {
      "cell_type": "markdown",
      "metadata": {
        "id": "wGNTG18dY73d"
      },
      "source": [
        "-1.29"
      ]
    },
    {
      "cell_type": "markdown",
      "metadata": {
        "id": "Y60z4t6W6j16"
      },
      "source": [
        "### Оценка близости текстов\n",
        "\n",
        "Представим, что мы используем идеальные векторные представления слов. Тогда косинусное расстояние между дублирующими предложениями должно быть меньше, чем между случайно взятыми предложениями.\n",
        "\n",
        "Сгенерируем для каждого из $N$ вопросов $R$ случайных отрицательных примеров и примешаем к ним также настоящие дубликаты. Для каждого вопроса будем ранжировать с помощью нашей модели $R + 1$ примеров и смотреть на позицию дубликата. Мы хотим, чтобы дубликат был первым в ранжированном списке.\n",
        "\n",
        "#### Hits@K\n",
        "Первой простой метрикой будет количество корректных попаданий для какого-то $K$:\n",
        "$$ \\text{Hits@K} = \\frac{1}{N}\\sum_{i=1}^N \\, [rank\\_q_i^{'} \\le K],$$\n",
        "* $\\begin{equation}\n",
        "[x < 0 ] \\equiv\n",
        " \\begin{cases}\n",
        "   1, &x < 0 \\\\\n",
        "   0, &x \\geq 0\n",
        " \\end{cases}\n",
        "\\end{equation}$ - индикаторная функция\n",
        "* $q_i$ - $i$-ый вопрос\n",
        "* $q_i^{'}$ - его дубликат\n",
        "* $rank\\_q_i^{'}$ - позиция дубликата в ранжированном списке ближайших предложений для вопроса $q_i$.\n",
        "\n",
        "Hits@K  измеряет долю вопросов, для которых правильный ответ попал в топ-K позиций среди отранжированных кандидатов.\n",
        "\n",
        "#### DCG@K\n",
        "Второй метрикой будет упрощенная DCG метрика, учитывающая порядок элементов в списке путем домножения релевантности элемента на вес равный обратному логарифму номера позиции::\n",
        "$$ \\text{DCG@K} = \\frac{1}{N} \\sum_{i=1}^N\\frac{1}{\\log_2(1+rank\\_q_i^{'})}\\cdot[rank\\_q_i^{'} \\le K],$$\n",
        "С такой метрикой модель штрафуется за большой ранк корректного ответа.\n",
        "\n",
        "DCG@K  измеряет качество ранжирования, учитывая не только факт наличия правильного ответа в топ-K, но и ***его точную позицию***."
      ]
    },
    {
      "cell_type": "markdown",
      "metadata": {
        "id": "_tFemBkP6j1-"
      },
      "source": [
        "<img src='https://hsto.org/files/1c5/edf/dee/1c5edfdeebce4b71a86bdf986d9f88f2.jpg' width=400, height=200>"
      ]
    },
    {
      "cell_type": "markdown",
      "metadata": {
        "id": "0sUSxk866j1_"
      },
      "source": [
        "#### Пример оценок\n",
        "\n",
        "Вычислим описанные выше метрики для игрушечного примера.\n",
        "Пусть\n",
        "* $N = 1$, $R = 3$\n",
        "* <font color='green'>\"Что такое python?\"</font> - вопрос $q_1$\n",
        "* <font color='red'>\"Что такое язык python?\"</font> - его дубликат $q_i^{'}$\n",
        "\n",
        "Пусть модель выдала следующий ранжированный список кандидатов:\n",
        "\n",
        "1. \"Как изучить с++?\"\n",
        "2. <font color='red'>\"Что такое язык python?\"</font>\n",
        "3. \"Хочу учить Java\"\n",
        "4. \"Не понимаю Tensorflow\"\n",
        "\n",
        "$\\Rightarrow rank\\_q_i^{'} = 2$"
      ]
    },
    {
      "cell_type": "markdown",
      "metadata": {
        "id": "-XXCbN3uUiHU"
      },
      "source": [
        "Вычислим метрику *Hits@K* для *K = 1, 4*:\n",
        "\n",
        "- [K = 1] $\\text{Hits@1} =  [rank\\_q_i^{'} \\le 1]$\n",
        "\n",
        "Проверяем условие $ \\text{rank}_{q'_1} \\leq 1 $: ***условие неверно***.\n",
        "\n",
        "Следовательно, $[\\text{rank}_{q'_1} \\leq 1] = 0$.\n",
        "\n",
        "- [K = 4] $\\text{Hits@4} =  [rank\\_q_i^{'} \\le 4] = 1$\n",
        "\n",
        "Проверяем условие $ \\text{rank}_{q'_1} \\leq 4 $: ***условие верно***."
      ]
    },
    {
      "cell_type": "markdown",
      "metadata": {
        "id": "Ya9gf-dvVGmm"
      },
      "source": [
        "Вычислим метрику *DCG@K* для *K = 1, 4*:\n",
        "- [K = 1] $\\text{DCG@1} = \\frac{1}{\\log_2(1+2)}\\cdot[2 \\le 1] = 0$\n",
        "- [K = 4] $\\text{DCG@4} = \\frac{1}{\\log_2(1+2)}\\cdot[2 \\le 4] = \\frac{1}{\\log_2{3}}$"
      ]
    },
    {
      "cell_type": "markdown",
      "metadata": {
        "id": "B4L6HJJC6j2B"
      },
      "source": [
        "#### ***Вопрос 3***:\n",
        "* Вычислите `DCG@10`, если $rank\\_q_i^{'} = 9$(округлите до одного знака после запятой)\n",
        "\n"
      ]
    },
    {
      "cell_type": "markdown",
      "metadata": {},
      "source": [
        "[K=10] $\\text{DCG@10} = \\frac{1}{\\log_2(1+9)}\\cdot[9 \\le 10] = \\frac{1}{\\log_2{10}}\\approx  0.3$"
      ]
    },
    {
      "cell_type": "markdown",
      "metadata": {
        "id": "hM1PtUq3haNS"
      },
      "source": [
        "#### Более сложный пример оценок\n",
        "\n",
        "Рассмотрим пример с $ N > 1 $, где $ N = 3 $ (три вопроса) и для каждого вопроса заданы позиции их дубликатов. Вычислим метрики **Hits@K** для разных значений $ K $.\n",
        "\n",
        "---\n",
        "\n",
        "- $ N = 3 $: Три вопроса ($ q_1, q_2, q_3 $).\n",
        "- Для каждого вопроса известна позиция его дубликата ($ \\text{rank}_{q'_i} $):\n",
        "  - $ \\text{rank}_{q'_1} = 2 $,\n",
        "  - $ \\text{rank}_{q'_2} = 5 $,\n",
        "  - $ \\text{rank}_{q'_3} = 1 $.\n",
        "\n",
        "Мы будем вычислять **Hits@K** для $ K = 1, 5 $.\n",
        "\n",
        "---\n",
        "\n",
        "**Для $ K = 1 $:**\n",
        "\n",
        "Подставим значения:\n",
        "$$\n",
        "\\text{Hits@1} = \\frac{1}{3} \\cdot \\left( [\\text{rank}_{q'_1} \\leq 1] + [\\text{rank}_{q'_2} \\leq 1] + [\\text{rank}_{q'_3} \\leq 1] \\right).\n",
        "$$\n",
        "\n",
        "Проверяем условие $ \\text{rank}_{q'_i} \\leq 1 $ для каждого вопроса:\n",
        "- $ \\text{rank}_{q'_1} = 2 $ → $ 2 \\not\\leq 1 $ → $ 0 $,\n",
        "- $ \\text{rank}_{q'_2} = 5 $ → $ 5 \\not\\leq 1 $ → $ 0 $,\n",
        "- $ \\text{rank}_{q'_3} = 1 $ → $ 1 \\leq 1 $ → $ 1 $.\n",
        "\n",
        "Сумма:\n",
        "$$\n",
        "\\text{Hits@1} = \\frac{1}{3} \\cdot (0 + 0 + 1) = \\frac{1}{3}.\n",
        "$$\n",
        "\n",
        "$$\n",
        "\\boxed{\\text{Hits@1} = \\frac{1}{3}}.\n",
        "$$\n",
        "\n",
        "---\n",
        "\n",
        "**Для $ K = 5 $:**\n",
        "\n",
        "Подставим значения:\n",
        "$$\n",
        "\\text{Hits@5} = \\frac{1}{3} \\cdot \\left( [\\text{rank}_{q'_1} \\leq 5] + [\\text{rank}_{q'_2} \\leq 5] + [\\text{rank}_{q'_3} \\leq 5] \\right).\n",
        "$$\n",
        "\n",
        "Проверяем условие $ \\text{rank}_{q'_i} \\leq 5 $ для каждого вопроса:\n",
        "- $ \\text{rank}_{q'_1} = 2 $ → $ 2 \\leq 5 $ → $ 1 $,\n",
        "- $ \\text{rank}_{q'_2} = 5 $ → $ 5 \\leq 5 $ → $ 1 $,\n",
        "- $ \\text{rank}_{q'_3} = 1 $ → $ 1 \\leq 5 $ → $ 1 $.\n",
        "\n",
        "Сумма:\n",
        "$$\n",
        "\\text{Hits@5} = \\frac{1}{3} \\cdot (1 + 1 + 1) = 1.\n",
        "$$\n",
        "\n",
        "$$\n",
        "\\boxed{\\text{Hits@5} = 1}.\n",
        "$$"
      ]
    },
    {
      "cell_type": "markdown",
      "metadata": {
        "id": "ngfvO7JsqROf"
      },
      "source": [
        "Теперь вычислим метрику **DCG@K** для того же примера, где $ N = 3 $ (три вопроса), и для каждого вопроса известна позиция его дубликата ($ \\text{rank}_{q'_i} $):\n",
        "\n",
        "- $ \\text{rank}_{q'_1} = 2 $,\n",
        "- $ \\text{rank}_{q'_2} = 5 $,\n",
        "- $ \\text{rank}_{q'_3} = 1 $.\n",
        "\n",
        "Мы будем вычислять **DCG@K** для $ K = 1, 5 $.\n",
        "\n",
        "---\n",
        "**Для $ K = 1 $:**\n",
        "Подставим значения:\n",
        "$$\n",
        "\\text{DCG@1} = \\frac{1}{3} \\cdot \\left( \\frac{1}{\\log_2(1 + \\text{rank}_{q'_1})} \\cdot [\\text{rank}_{q'_1} \\leq 1] + \\frac{1}{\\log_2(1 + \\text{rank}_{q'_2})} \\cdot [\\text{rank}_{q'_2} \\leq 1] + \\frac{1}{\\log_2(1 + \\text{rank}_{q'_3})} \\cdot [\\text{rank}_{q'_3} \\leq 1] \\right).\n",
        "$$\n",
        "\n",
        "Проверяем условие $ \\text{rank}_{q'_i} \\leq 1 $ для каждого вопроса:\n",
        "- $ \\text{rank}_{q'_1} = 2 $ → $ 2 \\not\\leq 1 $ → $ 0 $,\n",
        "- $ \\text{rank}_{q'_2} = 5 $ → $ 5 \\not\\leq 1 $ → $ 0 $,\n",
        "- $ \\text{rank}_{q'_3} = 1 $ → $ 1 \\leq 1 $ → $ 1 $.\n",
        "\n",
        "Сумма:\n",
        "$$\n",
        "\\text{DCG@1} = \\frac{1}{3} \\cdot (0 + 0 + 1) = \\frac{1}{3}.\n",
        "$$\n",
        "$$\n",
        "\\boxed{\\text{DCG@1} = \\frac{1}{3}}.\n",
        "$$\n",
        "\n",
        "---\n",
        "\n",
        "\n",
        "**Для $ K = 5 $:**\n",
        "Подставим значения:\n",
        "$$\n",
        "\\text{DCG@5} = \\frac{1}{3} \\cdot \\left( \\frac{1}{\\log_2(1 + \\text{rank}_{q'_1})} \\cdot [\\text{rank}_{q'_1} \\leq 5] + \\frac{1}{\\log_2(1 + \\text{rank}_{q'_2})} \\cdot [\\text{rank}_{q'_2} \\leq 5] + \\frac{1}{\\log_2(1 + \\text{rank}_{q'_3})} \\cdot [\\text{rank}_{q'_3} \\leq 5] \\right).\n",
        "$$\n",
        "\n",
        "Проверяем условие $ \\text{rank}_{q'_i} \\leq 5 $ для каждого вопроса:\n",
        "- $ \\text{rank}_{q'_1} = 2 $ → $ 2 \\leq 5 $ → $ 1 $,\n",
        "- $ \\text{rank}_{q'_2} = 5 $ → $ 5 \\leq 5 $ → $ 1 $,\n",
        "- $ \\text{rank}_{q'_3} = 1 $ → $ 1 \\leq 5 $ → $ 1 $.\n",
        "\n",
        "Сумма:\n",
        "$$\n",
        "\\text{DCG@5} = \\frac{1}{3} \\cdot (0.631 + 0.387 + 1) = \\frac{1}{3} \\cdot 2.018 \\approx 0.673.\n",
        "$$\n",
        "\n",
        "$$\n",
        "\\boxed{\\text{DCG@5} \\approx 0.673}.\n",
        "$$"
      ]
    },
    {
      "cell_type": "markdown",
      "metadata": {
        "id": "eHCnH-jw6j18"
      },
      "source": [
        "#### ***Вопрос 4:***\n",
        "* Найдите максимум `Hits@47 - DCG@1`?\n",
        "\n"
      ]
    },
    {
      "cell_type": "markdown",
      "metadata": {},
      "source": [
        "$$ \\text{Hits@47} = \\frac{1}{N}\\sum_{i=1}^N \\, [rank\\_q_i^{'} \\le 47],$$\n",
        "$$ \\text{DCG@1} = \\frac{1}{N} \\sum_{i=1}^N\\frac{1}{\\log_2(1+rank\\_q_i^{'})}\\cdot[rank\\_q_i^{'} \\le 1].$$\n",
        "Максимум будет достигнут при двух условиях:\n",
        "1. $ \\text{rank}_{q'_i} \\leq 47 \\,\\,\\,\\forall  i \\in [1, N], N <= K$ для функции Hits@47\n",
        "2. $ \\text{rank}_{q'_i} > 1 \\,\\,\\,\\forall  i \\in [1, 1]$ для функции DCG@1\n",
        "\n",
        "Т.е при выполнении первого условия по определению индикаторной функции сумма будет равна N, что в итоге даёт $\\large \\frac{N}{N}=1$, и при выполнении второго условия по определению индикаторной функции сумма будет равняться 0, что в итоге даёт $\\large 0\\times\\frac{1}{N}$ => Максимум будет равен $1-0=1$"
      ]
    },
    {
      "cell_type": "markdown",
      "metadata": {
        "id": "J5xWOORI6j2F"
      },
      "source": [
        "### HITS\\_COUNT и DCG\\_SCORE"
      ]
    },
    {
      "cell_type": "markdown",
      "metadata": {
        "id": "I1q9WQOx6j2H"
      },
      "source": [
        "Каждая функция имеет два аргумента: $dup\\_ranks$ и $k$.\n",
        "\n",
        "$dup\\_ranks$ является списком, который содержит рейтинги дубликатов (их позиции в ранжированном списке).\n",
        "\n",
        "К примеру для <font color='red'>\"Что такое язык python?\"</font> $dup\\_ranks = [2]$."
      ]
    },
    {
      "cell_type": "code",
      "execution_count": 6,
      "metadata": {
        "id": "F5VwySUB6j2J"
      },
      "outputs": [],
      "source": [
        "\n",
        "\n",
        "def hits_count(dup_ranks, k):\n",
        "    \"\"\"\n",
        "        dup_ranks: list индексов дубликатов\n",
        "        k: пороговое значение для ранга\n",
        "        result: вернуть Hits@k\n",
        "    \"\"\"\n",
        "    # Подсчитываем количество дубликатов, чей ранг <= k\n",
        "\n",
        "    return sum([0 if rank > k else 1 for rank in dup_ranks]) / len(dup_ranks)"
      ]
    },
    {
      "cell_type": "code",
      "execution_count": 9,
      "metadata": {
        "id": "vSjm_5eWYVYI"
      },
      "outputs": [
        {
          "name": "stdout",
          "output_type": "stream",
          "text": [
            "Hits@1 = 0.0\n",
            "Hits@4 = 1.0\n"
          ]
        }
      ],
      "source": [
        "dup_ranks = [2]\n",
        "\n",
        "k = 1\n",
        "hits_value = hits_count(dup_ranks, k)\n",
        "print(f\"Hits@1 = {hits_value}\")\n",
        "\n",
        "k = 4\n",
        "hits_value = hits_count(dup_ranks, k)\n",
        "print(f\"Hits@4 = {hits_value}\")"
      ]
    },
    {
      "cell_type": "code",
      "execution_count": 7,
      "metadata": {
        "id": "82hQaxCH6j2R"
      },
      "outputs": [],
      "source": [
        "import math\n",
        "\n",
        "def dcg_score(dup_ranks, k):\n",
        "    \"\"\"\n",
        "        dup_ranks: list индексов дубликатов\n",
        "        k: пороговое значение для ранга\n",
        "        result: вернуть DCG@k\n",
        "    \"\"\"\n",
        "    # Вычисляем сумму для всех релевантных дубликатов\n",
        "    summa = sum([0 if rank > k else math.log2(1+rank)**(-1) for rank in dup_ranks])\n",
        "\n",
        "    # Делим на общее количество вопросов\n",
        "    dcg_value = summa / len(dup_ranks)\n",
        "    return dcg_value"
      ]
    },
    {
      "cell_type": "code",
      "execution_count": 11,
      "metadata": {
        "id": "OJYsEdx-amB4"
      },
      "outputs": [
        {
          "name": "stdout",
          "output_type": "stream",
          "text": [
            "DCG@1 = 0.000\n",
            "DCG@10 = 0.631\n"
          ]
        }
      ],
      "source": [
        "# Пример списка позиций дубликатов\n",
        "dup_ranks = [2]\n",
        "\n",
        "# Вычисляем DCG@1\n",
        "dcg_value = dcg_score(dup_ranks, k=1)\n",
        "print(f\"DCG@1 = {dcg_value:.3f}\")\n",
        "\n",
        "# Вычисляем DCG@4\n",
        "dcg_value = dcg_score(dup_ranks, k=4)\n",
        "print(f\"DCG@10 = {dcg_value:.3f}\")"
      ]
    },
    {
      "cell_type": "markdown",
      "metadata": {
        "id": "PcwHeXN26j2Y"
      },
      "source": [
        "Протестируем функции. Пусть $N = 1$, то есть один эксперимент. Будем искать копию вопроса и оценивать метрики."
      ]
    },
    {
      "cell_type": "code",
      "execution_count": 8,
      "metadata": {
        "id": "fjISmOEW6j2h"
      },
      "outputs": [],
      "source": [
        "import pandas as pd"
      ]
    },
    {
      "cell_type": "code",
      "execution_count": 13,
      "metadata": {
        "id": "gLa_Wqfh6j2m"
      },
      "outputs": [
        {
          "name": "stdout",
          "output_type": "stream",
          "text": [
            "Ваш ответ HIT: [0.0, 1.0, 1.0, 1.0]\n",
            "Ваш ответ DCG: [0.0, 0.63093, 0.63093, 0.63093]\n"
          ]
        }
      ],
      "source": [
        "copy_answers = [\"How does the catch keyword determine the type of exception that was thrown\",]\n",
        "\n",
        "# наши кандидаты\n",
        "candidates_ranking = [[\"How Can I Make These Links Rotate in PHP\",\n",
        "                       \"How does the catch keyword determine the type of exception that was thrown\",\n",
        "                       \"NSLog array description not memory address\",\n",
        "                       \"PECL_HTTP not recognised php ubuntu\"],]\n",
        "\n",
        "# dup_ranks — позиции наших копий, так как эксперимент один, то этот массив длины 1\n",
        "dup_ranks = [2]\n",
        "\n",
        "# вычисляем метрику для разных k\n",
        "print('Ваш ответ HIT:', [hits_count(dup_ranks, k) for k in range(1, 5)])\n",
        "print('Ваш ответ DCG:', [round(dcg_score(dup_ranks, k), 5) for k in range(1, 5)])"
      ]
    },
    {
      "cell_type": "markdown",
      "metadata": {
        "id": "MoHC3YoQ6j2t"
      },
      "source": [
        "У вас должно получиться"
      ]
    },
    {
      "cell_type": "code",
      "execution_count": 14,
      "metadata": {
        "colab": {
          "base_uri": "https://localhost:8080/",
          "height": 112
        },
        "id": "B0NFWq4f6j2u",
        "outputId": "4d70f590-9924-4b50-d400-cdbf43edf093",
        "scrolled": true
      },
      "outputs": [
        {
          "data": {
            "text/html": [
              "<div>\n",
              "<style scoped>\n",
              "    .dataframe tbody tr th:only-of-type {\n",
              "        vertical-align: middle;\n",
              "    }\n",
              "\n",
              "    .dataframe tbody tr th {\n",
              "        vertical-align: top;\n",
              "    }\n",
              "\n",
              "    .dataframe thead th {\n",
              "        text-align: right;\n",
              "    }\n",
              "</style>\n",
              "<table border=\"1\" class=\"dataframe\">\n",
              "  <thead>\n",
              "    <tr style=\"text-align: right;\">\n",
              "      <th></th>\n",
              "      <th>1</th>\n",
              "      <th>2</th>\n",
              "      <th>3</th>\n",
              "      <th>4</th>\n",
              "    </tr>\n",
              "  </thead>\n",
              "  <tbody>\n",
              "    <tr>\n",
              "      <th>HITS</th>\n",
              "      <td>0</td>\n",
              "      <td>1.00000</td>\n",
              "      <td>1.00000</td>\n",
              "      <td>1.00000</td>\n",
              "    </tr>\n",
              "    <tr>\n",
              "      <th>DCG</th>\n",
              "      <td>0</td>\n",
              "      <td>0.63093</td>\n",
              "      <td>0.63093</td>\n",
              "      <td>0.63093</td>\n",
              "    </tr>\n",
              "  </tbody>\n",
              "</table>\n",
              "</div>"
            ],
            "text/plain": [
              "      1        2        3        4\n",
              "HITS  0  1.00000  1.00000  1.00000\n",
              "DCG   0  0.63093  0.63093  0.63093"
            ]
          },
          "execution_count": 14,
          "metadata": {},
          "output_type": "execute_result"
        }
      ],
      "source": [
        "# correct_answers - метрика для разных k\n",
        "correct_answers = pd.DataFrame([[0, 1, 1, 1], [0, 1 / (np.log2(3)), 1 / (np.log2(3)), 1 / (np.log2(3))]],\n",
        "                               index=['HITS', 'DCG'], columns=range(1,5))\n",
        "correct_answers"
      ]
    },
    {
      "cell_type": "markdown",
      "metadata": {
        "id": "tHZqgDTo6j0i"
      },
      "source": [
        "### Данные\n",
        "[arxiv link](https://drive.google.com/file/d/1QqT4D0EoqJTy7v9VrNCYD-m964XZFR7_/edit)\n",
        "\n",
        "`train.tsv` - выборка для обучения.<br> В каждой строке через табуляцию записаны: **<вопрос>, <похожий вопрос>**\n",
        "\n",
        "`validation.tsv` - тестовая выборка.<br> В каждой строке через табуляцию записаны: **<вопрос>, <похожий вопрос>, <отрицательный пример 1>, <отрицательный пример 2>, ...**"
      ]
    },
    {
      "cell_type": "markdown",
      "metadata": {
        "id": "hil2UsUG6j22"
      },
      "source": [
        "Считайте данные."
      ]
    },
    {
      "cell_type": "code",
      "execution_count": 9,
      "metadata": {
        "id": "B4EBho8s6j26"
      },
      "outputs": [],
      "source": [
        "def read_corpus(filename):\n",
        "    data = []\n",
        "    with open(filename, encoding='utf-8') as file:\n",
        "        for line in file:\n",
        "            data.append(line.strip().split('\\t'))\n",
        "    return data"
      ]
    },
    {
      "cell_type": "markdown",
      "metadata": {
        "id": "kkTxY3Mk9_nG"
      },
      "source": [
        "Нам понадобиться только файл validation."
      ]
    },
    {
      "cell_type": "code",
      "execution_count": 10,
      "metadata": {
        "id": "PTVB9Tnp6j29"
      },
      "outputs": [],
      "source": [
        "validation_data = read_corpus('datasets/validation.tsv')"
      ]
    },
    {
      "cell_type": "markdown",
      "metadata": {
        "id": "bTHfL-9y6j3F"
      },
      "source": [
        "Кол-во строк"
      ]
    },
    {
      "cell_type": "code",
      "execution_count": 17,
      "metadata": {
        "id": "z6ubXhIe6j3H",
        "scrolled": false
      },
      "outputs": [
        {
          "data": {
            "text/plain": [
              "3760"
            ]
          },
          "execution_count": 17,
          "metadata": {},
          "output_type": "execute_result"
        }
      ],
      "source": [
        "len(validation_data)"
      ]
    },
    {
      "cell_type": "markdown",
      "metadata": {
        "id": "kaOQblBy6j3M"
      },
      "source": [
        "Размер нескольких первых строк"
      ]
    },
    {
      "cell_type": "code",
      "execution_count": 18,
      "metadata": {
        "id": "yRx6e-Pe6j3M"
      },
      "outputs": [
        {
          "name": "stdout",
          "output_type": "stream",
          "text": [
            "1 1001\n",
            "2 1001\n",
            "3 1001\n",
            "4 1001\n",
            "5 1001\n",
            "6 1001\n",
            "7 1001\n",
            "8 1001\n",
            "9 1001\n",
            "10 1001\n",
            "11 1001\n",
            "12 1001\n",
            "13 1001\n",
            "14 1001\n",
            "15 1001\n",
            "16 1001\n",
            "17 1001\n",
            "18 1001\n",
            "19 1001\n",
            "20 1001\n",
            "21 1001\n",
            "22 1001\n",
            "23 1001\n",
            "24 1001\n",
            "25 1001\n"
          ]
        }
      ],
      "source": [
        "for i in range(25):\n",
        "    print(i + 1, len(validation_data[i]))"
      ]
    },
    {
      "cell_type": "markdown",
      "metadata": {
        "id": "ySQQp0oQt1Ep"
      },
      "source": [
        "### Ранжирование без обучения"
      ]
    },
    {
      "cell_type": "markdown",
      "metadata": {
        "id": "iElEDhj-6j3R"
      },
      "source": [
        "Реализуйте функцию ранжирования кандидатов на основе косинусного расстояния. Функция должна по списку кандидатов вернуть отсортированный список пар (позиция в исходном списке кандидатов, кандидат). При этом позиция кандидата в полученном списке является его рейтингом (первый - лучший). Например, если исходный список кандидатов был [a, b, c], и самый похожий на исходный вопрос среди них - c, затем a, и в конце b, то функция должна вернуть список **[(2, c), (0, a), (1, b)]**."
      ]
    },
    {
      "cell_type": "code",
      "execution_count": 12,
      "metadata": {
        "id": "K02JARKr6j3T"
      },
      "outputs": [],
      "source": [
        "from sklearn.metrics.pairwise import cosine_similarity\n",
        "from copy import deepcopy"
      ]
    },
    {
      "cell_type": "code",
      "execution_count": 11,
      "metadata": {
        "id": "1yP8wJWj6j3X"
      },
      "outputs": [],
      "source": [
        "def rank_candidates(question, candidates, embeddings, tokenizer, dim=200):\n",
        "    \"\"\"\n",
        "        question: строка\n",
        "        candidates: массив строк(кандидатов) [a, b, c]\n",
        "        result: пары (начальная позиция, кандидат) [(2, c), (0, a), (1, b)]\n",
        "    \"\"\"\n",
        "    question_vec = question_to_vec(question, embeddings, tokenizer, dim)\n",
        "\n",
        "    candidates_cosine_sim = []\n",
        "    for candidate in candidates:\n",
        "        candidates_cosine_sim.append(cosine_similarity(question_vec.reshape(1, -1), question_to_vec(candidate, embeddings, tokenizer, dim).reshape(1, -1))[0][0])\n",
        "\n",
        "    indexed_candidates_cosine_sim = list(enumerate(candidates_cosine_sim))\n",
        "    \n",
        "    sorted_candidates_cosine_sim = sorted(indexed_candidates_cosine_sim, key=lambda x: x[1], reverse=True)\n",
        "\n",
        "    result = [(index, candidates[index]) for index, _ in sorted_candidates_cosine_sim]\n",
        "\n",
        "    return deepcopy(result)"
      ]
    },
    {
      "cell_type": "markdown",
      "metadata": {
        "id": "TnBszTb76j3c"
      },
      "source": [
        "Протестируйте работу функции на примерах ниже. Пусть $N=2$, то есть два эксперимента"
      ]
    },
    {
      "cell_type": "code",
      "execution_count": 21,
      "metadata": {
        "id": "xvQgtP176j3h"
      },
      "outputs": [],
      "source": [
        "questions = ['converting string to list', 'Sending array via Ajax fails']\n",
        "\n",
        "candidates = [['Convert Google results object (pure js) to Python object', # первый эксперимент\n",
        "               'C# create cookie from string and send it',\n",
        "               'How to use jQuery AJAX for an outside domain?'],\n",
        "\n",
        "              ['Getting all list items of an unordered list in PHP',      # второй эксперимент\n",
        "               'WPF- How to update the changes in list item of a list',\n",
        "               'select2 not displaying search results']]"
      ]
    },
    {
      "cell_type": "code",
      "execution_count": 22,
      "metadata": {
        "id": "bPj1JGFi6j3m"
      },
      "outputs": [
        {
          "name": "stdout",
          "output_type": "stream",
          "text": [
            "[(1, 'C# create cookie from string and send it'), (0, 'Convert Google results object (pure js) to Python object'), (2, 'How to use jQuery AJAX for an outside domain?')]\n",
            "\n",
            "[(0, 'Getting all list items of an unordered list in PHP'), (2, 'select2 not displaying search results'), (1, 'WPF- How to update the changes in list item of a list')]\n",
            "\n"
          ]
        }
      ],
      "source": [
        "for question, q_candidates in zip(questions, candidates):\n",
        "        ranks = rank_candidates(question, q_candidates, wv_embeddings, tokenizer)\n",
        "        print(ranks)\n",
        "        print()\n"
      ]
    },
    {
      "cell_type": "markdown",
      "metadata": {
        "id": "jm4cidj56j3q"
      },
      "source": [
        "Для первого экперимента вы можете полностью сравнить ваши ответы и правильные ответы. Но для второго эксперимента два ответа на кандидаты будут <b>скрыты</b>(*)"
      ]
    },
    {
      "cell_type": "code",
      "execution_count": null,
      "metadata": {
        "id": "0LeKMIsn6j3s"
      },
      "outputs": [],
      "source": [
        "# должно вывести\n",
        "results = [[(1, 'C# create cookie from string and send it'),\n",
        "            (0, 'Convert Google results object (pure js) to Python object'),\n",
        "            (2, 'How to use jQuery AJAX for an outside domain?')],\n",
        "           [(*, 'Getting all list items of an unordered list in PHP'), #скрыт\n",
        "            (*, 'select2 not displaying search results'), #скрыт\n",
        "            (*, 'WPF- How to update the changes in list item of a list')]] #скрыт"
      ]
    },
    {
      "cell_type": "markdown",
      "metadata": {
        "id": "t1ttnIBe6j3x"
      },
      "source": [
        "Последовательность начальных индексов вы должны получить `для эксперимента 1`  1, 0, 2."
      ]
    },
    {
      "cell_type": "markdown",
      "metadata": {
        "id": "5WQgYDWd6j3y"
      },
      "source": [
        "#### ***Вопрос 5:***\n",
        "* Какую последовательность начальных индексов вы получили `для эксперимента 2`(перечисление без запятой и пробелов, например, `102` для первого эксперимента?\n"
      ]
    },
    {
      "cell_type": "markdown",
      "metadata": {},
      "source": [
        "021"
      ]
    },
    {
      "cell_type": "markdown",
      "metadata": {
        "id": "fPllOY-Y6j30"
      },
      "source": [
        "Теперь мы можем оценить качество нашего метода. Запустите следующие два блока кода для получения результата. Обратите внимание, что вычисление расстояния между векторами занимает некоторое время (примерно 10 минут). Можете взять для validation 1000 примеров."
      ]
    },
    {
      "cell_type": "code",
      "execution_count": 25,
      "metadata": {
        "id": "Z3q9sxddz-yU"
      },
      "outputs": [],
      "source": [
        "from tqdm.notebook import tqdm"
      ]
    },
    {
      "cell_type": "code",
      "execution_count": 24,
      "metadata": {
        "id": "nu7K4mis6j32"
      },
      "outputs": [
        {
          "data": {
            "application/vnd.jupyter.widget-view+json": {
              "model_id": "ab09209429f047158e5c3672158ec358",
              "version_major": 2,
              "version_minor": 0
            },
            "text/plain": [
              "  0%|          | 0/3760 [00:00<?, ?it/s]"
            ]
          },
          "metadata": {},
          "output_type": "display_data"
        }
      ],
      "source": [
        "wv_ranking = []\n",
        "max_validation_examples = 1000\n",
        "for i, line in enumerate(tqdm(validation_data)):\n",
        "    if i == max_validation_examples:\n",
        "        break\n",
        "    q, *ex = line\n",
        "    ranks = rank_candidates(q, ex, wv_embeddings, tokenizer)\n",
        "    wv_ranking.append([r[0] for r in ranks].index(0) + 1)"
      ]
    },
    {
      "cell_type": "code",
      "execution_count": 25,
      "metadata": {
        "id": "gDtS520v6j35",
        "scrolled": true
      },
      "outputs": [
        {
          "data": {
            "application/vnd.jupyter.widget-view+json": {
              "model_id": "f903615e2d5f42949b888b3fa305dd94",
              "version_major": 2,
              "version_minor": 0
            },
            "text/plain": [
              "  0%|          | 0/6 [00:00<?, ?it/s]"
            ]
          },
          "metadata": {},
          "output_type": "display_data"
        },
        {
          "name": "stdout",
          "output_type": "stream",
          "text": [
            "DCG@   1: 0.415 | Hits@   1: 0.415\n",
            "DCG@   5: 0.502 | Hits@   5: 0.582\n",
            "DCG@  10: 0.525 | Hits@  10: 0.651\n",
            "DCG@ 100: 0.570 | Hits@ 100: 0.874\n",
            "DCG@ 500: 0.583 | Hits@ 500: 0.973\n",
            "DCG@1000: 0.586 | Hits@1000: 1.000\n"
          ]
        }
      ],
      "source": [
        "for k in tqdm([1, 5, 10, 100, 500, 1000]):\n",
        "    print(\"DCG@%4d: %.3f | Hits@%4d: %.3f\" % (k, dcg_score(wv_ranking, k), k, hits_count(wv_ranking, k)))"
      ]
    },
    {
      "cell_type": "markdown",
      "metadata": {
        "id": "SZ16fNZ4mxTC"
      },
      "source": [
        "Из формул выше можно понять, что\n",
        "\n",
        "- $ \\text{Hits@K} $ **монотонно неубывающая функция** $ K $, которая стремится к 1 при $ K \\to \\infty $.\n",
        "\n",
        "- $ \\text{DCG@K} $ **монотонно неубывающая функция** $ K $, но рост замедляется с увеличением $ K $ из-за убывания веса $ \\frac{1}{\\log_2(1 + \\text{rank}_{q'_i})} $."
      ]
    },
    {
      "cell_type": "markdown",
      "metadata": {
        "id": "LL6_Rjg3InL8"
      },
      "source": [
        "### Эмбеддинги, обученные на корпусе похожих вопросов"
      ]
    },
    {
      "cell_type": "code",
      "execution_count": 14,
      "metadata": {
        "id": "iNvbpR5gJIPz"
      },
      "outputs": [],
      "source": [
        "train_data = read_corpus('datasets/train.tsv')"
      ]
    },
    {
      "cell_type": "markdown",
      "metadata": {
        "id": "Nr281ZyEJfjT"
      },
      "source": [
        "Улучшите качество модели.<br>Склеим вопросы в пары и обучим на них модель Word2Vec из gensim. Выберите размер window. Объясните свой выбор.\n",
        "\n",
        "***Рассмотрим подробнее*** данное склеивание.\n",
        "\n",
        "1. Каждая строка из train_data разбивается на вопрос (question) и список кандидатов.\n",
        "\n",
        "2. Для каждого кандидата вопрос склеивается с ним в одну строку.\n",
        "\n",
        "3. Склеенная строка (combined_text) токенизируется, и полученный список токенов добавляется в общий корпус (corpus).\n",
        "\n",
        "***Пример***\n",
        "\n",
        "    Вопрос: \"What is Python?\"\n",
        "    Кандидаты: [\"Python is a programming language\", \"Java is another language\"]\n",
        "    Склеенные строки:\n",
        "        \"What is Python? Python is a programming language\"\n",
        "        \"What is Python? Java is another language\"\n",
        "         \n",
        "    Токенизированные списки:\n",
        "        ['what', 'is', 'python', 'python', 'is', 'a', 'programming', 'language']\n",
        "        ['what', 'is', 'python', 'java', 'is', 'another', 'language']\n",
        "         \n",
        "     "
      ]
    },
    {
      "cell_type": "code",
      "execution_count": 27,
      "metadata": {
        "id": "9NNgRRiu8-LL"
      },
      "outputs": [
        {
          "data": {
            "text/plain": [
              "['Determine if the device is a smartphone or tablet?',\n",
              " 'Change imageView params in all cards together']"
            ]
          },
          "execution_count": 27,
          "metadata": {},
          "output_type": "execute_result"
        }
      ],
      "source": [
        "train_data[111258]"
      ]
    },
    {
      "cell_type": "markdown",
      "metadata": {},
      "source": [
        "#### Попробуем подобрать оптимальные значения min_count и window"
      ]
    },
    {
      "cell_type": "markdown",
      "metadata": {},
      "source": [
        "Также будем использовать стоп слова"
      ]
    },
    {
      "cell_type": "code",
      "execution_count": 15,
      "metadata": {},
      "outputs": [
        {
          "name": "stderr",
          "output_type": "stream",
          "text": [
            "[nltk_data] Error loading stopwords: <urlopen error [Errno 11001]\n",
            "[nltk_data]     getaddrinfo failed>\n"
          ]
        }
      ],
      "source": [
        "import nltk\n",
        "from nltk.tokenize import word_tokenize\n",
        "nltk.download('stopwords')\n",
        "from nltk.corpus import stopwords\n",
        "stopWords = set(stopwords.words('english'))"
      ]
    },
    {
      "cell_type": "code",
      "execution_count": 75,
      "metadata": {},
      "outputs": [],
      "source": [
        "def preprocess(text):\n",
        "    result = ' '.join([word for word in word_tokenize(text.lower()) if word not in stopWords]) # из семинара\n",
        "    return result"
      ]
    },
    {
      "cell_type": "code",
      "execution_count": 76,
      "metadata": {
        "id": "f6Y46SSQMTL0"
      },
      "outputs": [],
      "source": [
        "# Создаем общий корпус текстов\n",
        "corpus = []\n",
        "\n",
        "for couple in train_data:\n",
        "    combined_text = couple[0] + \" \" + couple[1]\n",
        "    corpus.append(preprocess(combined_text).split())"
      ]
    },
    {
      "cell_type": "code",
      "execution_count": 77,
      "metadata": {},
      "outputs": [
        {
          "data": {
            "text/plain": [
              "['converting string to list',\n",
              " 'Convert Google results object (pure js) to Python object']"
            ]
          },
          "execution_count": 77,
          "metadata": {},
          "output_type": "execute_result"
        }
      ],
      "source": [
        "train_data[0]"
      ]
    },
    {
      "cell_type": "code",
      "execution_count": 78,
      "metadata": {},
      "outputs": [
        {
          "name": "stdout",
          "output_type": "stream",
          "text": [
            "['converting', 'string', 'list', 'convert', 'google', 'results', 'object', '(', 'pure', 'js', ')', 'python', 'object']\n"
          ]
        }
      ],
      "source": [
        "print(corpus[0])"
      ]
    },
    {
      "cell_type": "markdown",
      "metadata": {},
      "source": [
        "вроде гуд"
      ]
    },
    {
      "cell_type": "code",
      "execution_count": 51,
      "metadata": {
        "id": "QuJzAM0cI-UH"
      },
      "outputs": [
        {
          "data": {
            "application/vnd.jupyter.widget-view+json": {
              "model_id": "ee9ed3f7e8c24e5a998a4c874c04b051",
              "version_major": 2,
              "version_minor": 0
            },
            "text/plain": [
              "  0%|          | 0/3760 [00:00<?, ?it/s]"
            ]
          },
          "metadata": {},
          "output_type": "display_data"
        },
        {
          "name": "stdout",
          "output_type": "stream",
          "text": [
            "min_count = 1, window = 1\n"
          ]
        },
        {
          "data": {
            "application/vnd.jupyter.widget-view+json": {
              "model_id": "eff8d38c3aea43549c5039e82d4093c2",
              "version_major": 2,
              "version_minor": 0
            },
            "text/plain": [
              "  0%|          | 0/6 [00:00<?, ?it/s]"
            ]
          },
          "metadata": {},
          "output_type": "display_data"
        },
        {
          "name": "stdout",
          "output_type": "stream",
          "text": [
            "DCG@   1: 0.358 | Hits@   1: 0.358\n",
            "DCG@   5: 0.449 | Hits@   5: 0.534\n",
            "DCG@  10: 0.474 | Hits@  10: 0.610\n",
            "DCG@ 100: 0.517 | Hits@ 100: 0.821\n",
            "DCG@ 500: 0.534 | Hits@ 500: 0.951\n",
            "DCG@1000: 0.539 | Hits@1000: 1.000\n",
            "\n"
          ]
        },
        {
          "data": {
            "application/vnd.jupyter.widget-view+json": {
              "model_id": "0d6d0f3510b345f98ece3741a6a3a0ff",
              "version_major": 2,
              "version_minor": 0
            },
            "text/plain": [
              "  0%|          | 0/3760 [00:00<?, ?it/s]"
            ]
          },
          "metadata": {},
          "output_type": "display_data"
        },
        {
          "name": "stdout",
          "output_type": "stream",
          "text": [
            "min_count = 1, window = 2\n"
          ]
        },
        {
          "data": {
            "application/vnd.jupyter.widget-view+json": {
              "model_id": "8ad80f5ed89647759c293cabdba0c5c5",
              "version_major": 2,
              "version_minor": 0
            },
            "text/plain": [
              "  0%|          | 0/6 [00:00<?, ?it/s]"
            ]
          },
          "metadata": {},
          "output_type": "display_data"
        },
        {
          "name": "stdout",
          "output_type": "stream",
          "text": [
            "DCG@   1: 0.375 | Hits@   1: 0.375\n",
            "DCG@   5: 0.464 | Hits@   5: 0.540\n",
            "DCG@  10: 0.489 | Hits@  10: 0.618\n",
            "DCG@ 100: 0.536 | Hits@ 100: 0.852\n",
            "DCG@ 500: 0.551 | Hits@ 500: 0.970\n",
            "DCG@1000: 0.554 | Hits@1000: 1.000\n",
            "\n"
          ]
        },
        {
          "data": {
            "application/vnd.jupyter.widget-view+json": {
              "model_id": "b5529421a6d84ff5801c56884b70110c",
              "version_major": 2,
              "version_minor": 0
            },
            "text/plain": [
              "  0%|          | 0/3760 [00:00<?, ?it/s]"
            ]
          },
          "metadata": {},
          "output_type": "display_data"
        },
        {
          "name": "stdout",
          "output_type": "stream",
          "text": [
            "min_count = 1, window = 3\n"
          ]
        },
        {
          "data": {
            "application/vnd.jupyter.widget-view+json": {
              "model_id": "f8a79ff85bba415b95104f782db0063a",
              "version_major": 2,
              "version_minor": 0
            },
            "text/plain": [
              "  0%|          | 0/6 [00:00<?, ?it/s]"
            ]
          },
          "metadata": {},
          "output_type": "display_data"
        },
        {
          "name": "stdout",
          "output_type": "stream",
          "text": [
            "DCG@   1: 0.379 | Hits@   1: 0.379\n",
            "DCG@   5: 0.472 | Hits@   5: 0.554\n",
            "DCG@  10: 0.494 | Hits@  10: 0.624\n",
            "DCG@ 100: 0.543 | Hits@ 100: 0.862\n",
            "DCG@ 500: 0.558 | Hits@ 500: 0.971\n",
            "DCG@1000: 0.561 | Hits@1000: 1.000\n",
            "\n"
          ]
        },
        {
          "data": {
            "application/vnd.jupyter.widget-view+json": {
              "model_id": "4412069d3d914529a6ca5aedcf7675d8",
              "version_major": 2,
              "version_minor": 0
            },
            "text/plain": [
              "  0%|          | 0/3760 [00:00<?, ?it/s]"
            ]
          },
          "metadata": {},
          "output_type": "display_data"
        },
        {
          "name": "stdout",
          "output_type": "stream",
          "text": [
            "min_count = 1, window = 4\n"
          ]
        },
        {
          "data": {
            "application/vnd.jupyter.widget-view+json": {
              "model_id": "494557fd777b4a96a9a12e4c9eafaea0",
              "version_major": 2,
              "version_minor": 0
            },
            "text/plain": [
              "  0%|          | 0/6 [00:00<?, ?it/s]"
            ]
          },
          "metadata": {},
          "output_type": "display_data"
        },
        {
          "name": "stdout",
          "output_type": "stream",
          "text": [
            "DCG@   1: 0.387 | Hits@   1: 0.387\n",
            "DCG@   5: 0.476 | Hits@   5: 0.554\n",
            "DCG@  10: 0.502 | Hits@  10: 0.634\n",
            "DCG@ 100: 0.549 | Hits@ 100: 0.866\n",
            "DCG@ 500: 0.564 | Hits@ 500: 0.977\n",
            "DCG@1000: 0.566 | Hits@1000: 1.000\n",
            "\n"
          ]
        },
        {
          "data": {
            "application/vnd.jupyter.widget-view+json": {
              "model_id": "ae9996ff4db544178e3809adbe505e6a",
              "version_major": 2,
              "version_minor": 0
            },
            "text/plain": [
              "  0%|          | 0/3760 [00:00<?, ?it/s]"
            ]
          },
          "metadata": {},
          "output_type": "display_data"
        },
        {
          "name": "stdout",
          "output_type": "stream",
          "text": [
            "min_count = 1, window = 5\n"
          ]
        },
        {
          "data": {
            "application/vnd.jupyter.widget-view+json": {
              "model_id": "721f7d98c9f449f89fde1df62f9adcc3",
              "version_major": 2,
              "version_minor": 0
            },
            "text/plain": [
              "  0%|          | 0/6 [00:00<?, ?it/s]"
            ]
          },
          "metadata": {},
          "output_type": "display_data"
        },
        {
          "name": "stdout",
          "output_type": "stream",
          "text": [
            "DCG@   1: 0.394 | Hits@   1: 0.394\n",
            "DCG@   5: 0.483 | Hits@   5: 0.564\n",
            "DCG@  10: 0.509 | Hits@  10: 0.644\n",
            "DCG@ 100: 0.556 | Hits@ 100: 0.873\n",
            "DCG@ 500: 0.570 | Hits@ 500: 0.976\n",
            "DCG@1000: 0.572 | Hits@1000: 1.000\n",
            "\n"
          ]
        },
        {
          "data": {
            "application/vnd.jupyter.widget-view+json": {
              "model_id": "614d8a69da764173b08739f8a349b5db",
              "version_major": 2,
              "version_minor": 0
            },
            "text/plain": [
              "  0%|          | 0/3760 [00:00<?, ?it/s]"
            ]
          },
          "metadata": {},
          "output_type": "display_data"
        },
        {
          "name": "stdout",
          "output_type": "stream",
          "text": [
            "min_count = 1, window = 6\n"
          ]
        },
        {
          "data": {
            "application/vnd.jupyter.widget-view+json": {
              "model_id": "58837fe7f9e94fa1a8d6753e32460f77",
              "version_major": 2,
              "version_minor": 0
            },
            "text/plain": [
              "  0%|          | 0/6 [00:00<?, ?it/s]"
            ]
          },
          "metadata": {},
          "output_type": "display_data"
        },
        {
          "name": "stdout",
          "output_type": "stream",
          "text": [
            "DCG@   1: 0.400 | Hits@   1: 0.400\n",
            "DCG@   5: 0.487 | Hits@   5: 0.566\n",
            "DCG@  10: 0.512 | Hits@  10: 0.642\n",
            "DCG@ 100: 0.561 | Hits@ 100: 0.877\n",
            "DCG@ 500: 0.574 | Hits@ 500: 0.976\n",
            "DCG@1000: 0.576 | Hits@1000: 1.000\n",
            "\n"
          ]
        },
        {
          "data": {
            "application/vnd.jupyter.widget-view+json": {
              "model_id": "c0f5a9ee851246dfa997ae1ee5a06b39",
              "version_major": 2,
              "version_minor": 0
            },
            "text/plain": [
              "  0%|          | 0/3760 [00:00<?, ?it/s]"
            ]
          },
          "metadata": {},
          "output_type": "display_data"
        },
        {
          "name": "stdout",
          "output_type": "stream",
          "text": [
            "min_count = 1, window = 7\n"
          ]
        },
        {
          "data": {
            "application/vnd.jupyter.widget-view+json": {
              "model_id": "e0a3675954fb4ecd8a9e46f436cff968",
              "version_major": 2,
              "version_minor": 0
            },
            "text/plain": [
              "  0%|          | 0/6 [00:00<?, ?it/s]"
            ]
          },
          "metadata": {},
          "output_type": "display_data"
        },
        {
          "name": "stdout",
          "output_type": "stream",
          "text": [
            "DCG@   1: 0.399 | Hits@   1: 0.399\n",
            "DCG@   5: 0.493 | Hits@   5: 0.578\n",
            "DCG@  10: 0.516 | Hits@  10: 0.649\n",
            "DCG@ 100: 0.564 | Hits@ 100: 0.876\n",
            "DCG@ 500: 0.577 | Hits@ 500: 0.975\n",
            "DCG@1000: 0.579 | Hits@1000: 1.000\n",
            "\n"
          ]
        },
        {
          "data": {
            "application/vnd.jupyter.widget-view+json": {
              "model_id": "a11522083b2f494eaa71e141d4262d06",
              "version_major": 2,
              "version_minor": 0
            },
            "text/plain": [
              "  0%|          | 0/3760 [00:00<?, ?it/s]"
            ]
          },
          "metadata": {},
          "output_type": "display_data"
        },
        {
          "name": "stdout",
          "output_type": "stream",
          "text": [
            "min_count = 1, window = 8\n"
          ]
        },
        {
          "data": {
            "application/vnd.jupyter.widget-view+json": {
              "model_id": "5429612418354849adc22294beeeba8f",
              "version_major": 2,
              "version_minor": 0
            },
            "text/plain": [
              "  0%|          | 0/6 [00:00<?, ?it/s]"
            ]
          },
          "metadata": {},
          "output_type": "display_data"
        },
        {
          "name": "stdout",
          "output_type": "stream",
          "text": [
            "DCG@   1: 0.403 | Hits@   1: 0.403\n",
            "DCG@   5: 0.492 | Hits@   5: 0.575\n",
            "DCG@  10: 0.517 | Hits@  10: 0.652\n",
            "DCG@ 100: 0.565 | Hits@ 100: 0.881\n",
            "DCG@ 500: 0.578 | Hits@ 500: 0.980\n",
            "DCG@1000: 0.580 | Hits@1000: 1.000\n",
            "\n"
          ]
        },
        {
          "data": {
            "application/vnd.jupyter.widget-view+json": {
              "model_id": "3a397eeaddc94706a8b4c8b4ce700a0c",
              "version_major": 2,
              "version_minor": 0
            },
            "text/plain": [
              "  0%|          | 0/3760 [00:00<?, ?it/s]"
            ]
          },
          "metadata": {},
          "output_type": "display_data"
        },
        {
          "name": "stdout",
          "output_type": "stream",
          "text": [
            "min_count = 1, window = 9\n"
          ]
        },
        {
          "data": {
            "application/vnd.jupyter.widget-view+json": {
              "model_id": "d4287b3e821944719df0882c2991727f",
              "version_major": 2,
              "version_minor": 0
            },
            "text/plain": [
              "  0%|          | 0/6 [00:00<?, ?it/s]"
            ]
          },
          "metadata": {},
          "output_type": "display_data"
        },
        {
          "name": "stdout",
          "output_type": "stream",
          "text": [
            "DCG@   1: 0.404 | Hits@   1: 0.404\n",
            "DCG@   5: 0.496 | Hits@   5: 0.578\n",
            "DCG@  10: 0.520 | Hits@  10: 0.654\n",
            "DCG@ 100: 0.568 | Hits@ 100: 0.882\n",
            "DCG@ 500: 0.580 | Hits@ 500: 0.978\n",
            "DCG@1000: 0.582 | Hits@1000: 1.000\n",
            "\n"
          ]
        },
        {
          "data": {
            "application/vnd.jupyter.widget-view+json": {
              "model_id": "7c9100a804c343d1815b21203fbe15c6",
              "version_major": 2,
              "version_minor": 0
            },
            "text/plain": [
              "  0%|          | 0/3760 [00:00<?, ?it/s]"
            ]
          },
          "metadata": {},
          "output_type": "display_data"
        },
        {
          "name": "stdout",
          "output_type": "stream",
          "text": [
            "min_count = 2, window = 1\n"
          ]
        },
        {
          "data": {
            "application/vnd.jupyter.widget-view+json": {
              "model_id": "fef17426a8e247debea31f3b05b4fa88",
              "version_major": 2,
              "version_minor": 0
            },
            "text/plain": [
              "  0%|          | 0/6 [00:00<?, ?it/s]"
            ]
          },
          "metadata": {},
          "output_type": "display_data"
        },
        {
          "name": "stdout",
          "output_type": "stream",
          "text": [
            "DCG@   1: 0.372 | Hits@   1: 0.372\n",
            "DCG@   5: 0.458 | Hits@   5: 0.538\n",
            "DCG@  10: 0.487 | Hits@  10: 0.626\n",
            "DCG@ 100: 0.530 | Hits@ 100: 0.836\n",
            "DCG@ 500: 0.546 | Hits@ 500: 0.961\n",
            "DCG@1000: 0.550 | Hits@1000: 1.000\n",
            "\n"
          ]
        },
        {
          "data": {
            "application/vnd.jupyter.widget-view+json": {
              "model_id": "1f5f8df3cb494f96b383b5559b3b78b8",
              "version_major": 2,
              "version_minor": 0
            },
            "text/plain": [
              "  0%|          | 0/3760 [00:00<?, ?it/s]"
            ]
          },
          "metadata": {},
          "output_type": "display_data"
        },
        {
          "name": "stdout",
          "output_type": "stream",
          "text": [
            "min_count = 2, window = 2\n"
          ]
        },
        {
          "data": {
            "application/vnd.jupyter.widget-view+json": {
              "model_id": "5f144b4f043f4271bf3a0339f59a4ea4",
              "version_major": 2,
              "version_minor": 0
            },
            "text/plain": [
              "  0%|          | 0/6 [00:00<?, ?it/s]"
            ]
          },
          "metadata": {},
          "output_type": "display_data"
        },
        {
          "name": "stdout",
          "output_type": "stream",
          "text": [
            "DCG@   1: 0.376 | Hits@   1: 0.376\n",
            "DCG@   5: 0.471 | Hits@   5: 0.554\n",
            "DCG@  10: 0.497 | Hits@  10: 0.634\n",
            "DCG@ 100: 0.543 | Hits@ 100: 0.862\n",
            "DCG@ 500: 0.557 | Hits@ 500: 0.973\n",
            "DCG@1000: 0.560 | Hits@1000: 1.000\n",
            "\n"
          ]
        },
        {
          "data": {
            "application/vnd.jupyter.widget-view+json": {
              "model_id": "d444729341e1447697cd09a8140ac4fb",
              "version_major": 2,
              "version_minor": 0
            },
            "text/plain": [
              "  0%|          | 0/3760 [00:00<?, ?it/s]"
            ]
          },
          "metadata": {},
          "output_type": "display_data"
        },
        {
          "name": "stdout",
          "output_type": "stream",
          "text": [
            "min_count = 2, window = 3\n"
          ]
        },
        {
          "data": {
            "application/vnd.jupyter.widget-view+json": {
              "model_id": "460bb8eeac4b487bb662f27b46a1e5c4",
              "version_major": 2,
              "version_minor": 0
            },
            "text/plain": [
              "  0%|          | 0/6 [00:00<?, ?it/s]"
            ]
          },
          "metadata": {},
          "output_type": "display_data"
        },
        {
          "name": "stdout",
          "output_type": "stream",
          "text": [
            "DCG@   1: 0.381 | Hits@   1: 0.381\n",
            "DCG@   5: 0.476 | Hits@   5: 0.557\n",
            "DCG@  10: 0.503 | Hits@  10: 0.641\n",
            "DCG@ 100: 0.549 | Hits@ 100: 0.868\n",
            "DCG@ 500: 0.563 | Hits@ 500: 0.976\n",
            "DCG@1000: 0.566 | Hits@1000: 1.000\n",
            "\n"
          ]
        },
        {
          "data": {
            "application/vnd.jupyter.widget-view+json": {
              "model_id": "304de56547d9483c8f63208a3f55a747",
              "version_major": 2,
              "version_minor": 0
            },
            "text/plain": [
              "  0%|          | 0/3760 [00:00<?, ?it/s]"
            ]
          },
          "metadata": {},
          "output_type": "display_data"
        },
        {
          "name": "stdout",
          "output_type": "stream",
          "text": [
            "min_count = 2, window = 4\n"
          ]
        },
        {
          "data": {
            "application/vnd.jupyter.widget-view+json": {
              "model_id": "bdbb6e7015684e5bb778b257b4a543d9",
              "version_major": 2,
              "version_minor": 0
            },
            "text/plain": [
              "  0%|          | 0/6 [00:00<?, ?it/s]"
            ]
          },
          "metadata": {},
          "output_type": "display_data"
        },
        {
          "name": "stdout",
          "output_type": "stream",
          "text": [
            "DCG@   1: 0.393 | Hits@   1: 0.393\n",
            "DCG@   5: 0.485 | Hits@   5: 0.566\n",
            "DCG@  10: 0.512 | Hits@  10: 0.649\n",
            "DCG@ 100: 0.557 | Hits@ 100: 0.871\n",
            "DCG@ 500: 0.571 | Hits@ 500: 0.974\n",
            "DCG@1000: 0.573 | Hits@1000: 1.000\n",
            "\n"
          ]
        },
        {
          "data": {
            "application/vnd.jupyter.widget-view+json": {
              "model_id": "cf40a1d67dd64fda96c6fbddaff11a02",
              "version_major": 2,
              "version_minor": 0
            },
            "text/plain": [
              "  0%|          | 0/3760 [00:00<?, ?it/s]"
            ]
          },
          "metadata": {},
          "output_type": "display_data"
        },
        {
          "name": "stdout",
          "output_type": "stream",
          "text": [
            "min_count = 2, window = 5\n"
          ]
        },
        {
          "data": {
            "application/vnd.jupyter.widget-view+json": {
              "model_id": "4d26c88f6c784e6c99aa81c3a5dee15f",
              "version_major": 2,
              "version_minor": 0
            },
            "text/plain": [
              "  0%|          | 0/6 [00:00<?, ?it/s]"
            ]
          },
          "metadata": {},
          "output_type": "display_data"
        },
        {
          "name": "stdout",
          "output_type": "stream",
          "text": [
            "DCG@   1: 0.398 | Hits@   1: 0.398\n",
            "DCG@   5: 0.493 | Hits@   5: 0.577\n",
            "DCG@  10: 0.515 | Hits@  10: 0.649\n",
            "DCG@ 100: 0.562 | Hits@ 100: 0.878\n",
            "DCG@ 500: 0.575 | Hits@ 500: 0.974\n",
            "DCG@1000: 0.578 | Hits@1000: 1.000\n",
            "\n"
          ]
        },
        {
          "data": {
            "application/vnd.jupyter.widget-view+json": {
              "model_id": "7d72479912424a69b21346a499c05932",
              "version_major": 2,
              "version_minor": 0
            },
            "text/plain": [
              "  0%|          | 0/3760 [00:00<?, ?it/s]"
            ]
          },
          "metadata": {},
          "output_type": "display_data"
        },
        {
          "name": "stdout",
          "output_type": "stream",
          "text": [
            "min_count = 2, window = 6\n"
          ]
        },
        {
          "data": {
            "application/vnd.jupyter.widget-view+json": {
              "model_id": "1a18f7dfe5cf4439b544f736477ad46c",
              "version_major": 2,
              "version_minor": 0
            },
            "text/plain": [
              "  0%|          | 0/6 [00:00<?, ?it/s]"
            ]
          },
          "metadata": {},
          "output_type": "display_data"
        },
        {
          "name": "stdout",
          "output_type": "stream",
          "text": [
            "DCG@   1: 0.402 | Hits@   1: 0.402\n",
            "DCG@   5: 0.495 | Hits@   5: 0.576\n",
            "DCG@  10: 0.521 | Hits@  10: 0.658\n",
            "DCG@ 100: 0.567 | Hits@ 100: 0.879\n",
            "DCG@ 500: 0.579 | Hits@ 500: 0.977\n",
            "DCG@1000: 0.582 | Hits@1000: 1.000\n",
            "\n"
          ]
        },
        {
          "data": {
            "application/vnd.jupyter.widget-view+json": {
              "model_id": "54f4d1c1b6f4457d95694316f8489fd3",
              "version_major": 2,
              "version_minor": 0
            },
            "text/plain": [
              "  0%|          | 0/3760 [00:00<?, ?it/s]"
            ]
          },
          "metadata": {},
          "output_type": "display_data"
        },
        {
          "name": "stdout",
          "output_type": "stream",
          "text": [
            "min_count = 2, window = 7\n"
          ]
        },
        {
          "data": {
            "application/vnd.jupyter.widget-view+json": {
              "model_id": "d61f1306942f4e49bc7e73dedc89e041",
              "version_major": 2,
              "version_minor": 0
            },
            "text/plain": [
              "  0%|          | 0/6 [00:00<?, ?it/s]"
            ]
          },
          "metadata": {},
          "output_type": "display_data"
        },
        {
          "name": "stdout",
          "output_type": "stream",
          "text": [
            "DCG@   1: 0.405 | Hits@   1: 0.405\n",
            "DCG@   5: 0.498 | Hits@   5: 0.578\n",
            "DCG@  10: 0.524 | Hits@  10: 0.659\n",
            "DCG@ 100: 0.570 | Hits@ 100: 0.881\n",
            "DCG@ 500: 0.582 | Hits@ 500: 0.977\n",
            "DCG@1000: 0.585 | Hits@1000: 1.000\n",
            "\n"
          ]
        },
        {
          "data": {
            "application/vnd.jupyter.widget-view+json": {
              "model_id": "89a79dd91cd9489790dde2e6a858d3d8",
              "version_major": 2,
              "version_minor": 0
            },
            "text/plain": [
              "  0%|          | 0/3760 [00:00<?, ?it/s]"
            ]
          },
          "metadata": {},
          "output_type": "display_data"
        },
        {
          "name": "stdout",
          "output_type": "stream",
          "text": [
            "min_count = 2, window = 8\n"
          ]
        },
        {
          "data": {
            "application/vnd.jupyter.widget-view+json": {
              "model_id": "59175a3ba3244d1c80e9b2dab0c70bb9",
              "version_major": 2,
              "version_minor": 0
            },
            "text/plain": [
              "  0%|          | 0/6 [00:00<?, ?it/s]"
            ]
          },
          "metadata": {},
          "output_type": "display_data"
        },
        {
          "name": "stdout",
          "output_type": "stream",
          "text": [
            "DCG@   1: 0.398 | Hits@   1: 0.398\n",
            "DCG@   5: 0.498 | Hits@   5: 0.582\n",
            "DCG@  10: 0.521 | Hits@  10: 0.653\n",
            "DCG@ 100: 0.568 | Hits@ 100: 0.880\n",
            "DCG@ 500: 0.581 | Hits@ 500: 0.977\n",
            "DCG@1000: 0.584 | Hits@1000: 1.000\n",
            "\n"
          ]
        },
        {
          "data": {
            "application/vnd.jupyter.widget-view+json": {
              "model_id": "70f8a85a30684091a4794cf449696443",
              "version_major": 2,
              "version_minor": 0
            },
            "text/plain": [
              "  0%|          | 0/3760 [00:00<?, ?it/s]"
            ]
          },
          "metadata": {},
          "output_type": "display_data"
        },
        {
          "name": "stdout",
          "output_type": "stream",
          "text": [
            "min_count = 2, window = 9\n"
          ]
        },
        {
          "data": {
            "application/vnd.jupyter.widget-view+json": {
              "model_id": "7ac5e432102d48e4818a1b4480d0104d",
              "version_major": 2,
              "version_minor": 0
            },
            "text/plain": [
              "  0%|          | 0/6 [00:00<?, ?it/s]"
            ]
          },
          "metadata": {},
          "output_type": "display_data"
        },
        {
          "name": "stdout",
          "output_type": "stream",
          "text": [
            "DCG@   1: 0.404 | Hits@   1: 0.404\n",
            "DCG@   5: 0.502 | Hits@   5: 0.588\n",
            "DCG@  10: 0.525 | Hits@  10: 0.661\n",
            "DCG@ 100: 0.571 | Hits@ 100: 0.883\n",
            "DCG@ 500: 0.584 | Hits@ 500: 0.977\n",
            "DCG@1000: 0.586 | Hits@1000: 1.000\n",
            "\n"
          ]
        },
        {
          "data": {
            "application/vnd.jupyter.widget-view+json": {
              "model_id": "e4f0fb63c0484daa9907ecfd8cb18f72",
              "version_major": 2,
              "version_minor": 0
            },
            "text/plain": [
              "  0%|          | 0/3760 [00:00<?, ?it/s]"
            ]
          },
          "metadata": {},
          "output_type": "display_data"
        },
        {
          "name": "stdout",
          "output_type": "stream",
          "text": [
            "min_count = 3, window = 1\n"
          ]
        },
        {
          "data": {
            "application/vnd.jupyter.widget-view+json": {
              "model_id": "1e423be25c414535965fa788fd13603a",
              "version_major": 2,
              "version_minor": 0
            },
            "text/plain": [
              "  0%|          | 0/6 [00:00<?, ?it/s]"
            ]
          },
          "metadata": {},
          "output_type": "display_data"
        },
        {
          "name": "stdout",
          "output_type": "stream",
          "text": [
            "DCG@   1: 0.382 | Hits@   1: 0.382\n",
            "DCG@   5: 0.470 | Hits@   5: 0.552\n",
            "DCG@  10: 0.496 | Hits@  10: 0.632\n",
            "DCG@ 100: 0.538 | Hits@ 100: 0.839\n",
            "DCG@ 500: 0.554 | Hits@ 500: 0.961\n",
            "DCG@1000: 0.558 | Hits@1000: 1.000\n",
            "\n"
          ]
        },
        {
          "data": {
            "application/vnd.jupyter.widget-view+json": {
              "model_id": "736a16d189294f57be64b98bba4e257a",
              "version_major": 2,
              "version_minor": 0
            },
            "text/plain": [
              "  0%|          | 0/3760 [00:00<?, ?it/s]"
            ]
          },
          "metadata": {},
          "output_type": "display_data"
        },
        {
          "name": "stdout",
          "output_type": "stream",
          "text": [
            "min_count = 3, window = 2\n"
          ]
        },
        {
          "data": {
            "application/vnd.jupyter.widget-view+json": {
              "model_id": "25b312884e344c9286ccdb7f0e94c3b3",
              "version_major": 2,
              "version_minor": 0
            },
            "text/plain": [
              "  0%|          | 0/6 [00:00<?, ?it/s]"
            ]
          },
          "metadata": {},
          "output_type": "display_data"
        },
        {
          "name": "stdout",
          "output_type": "stream",
          "text": [
            "DCG@   1: 0.379 | Hits@   1: 0.379\n",
            "DCG@   5: 0.474 | Hits@   5: 0.557\n",
            "DCG@  10: 0.499 | Hits@  10: 0.636\n",
            "DCG@ 100: 0.546 | Hits@ 100: 0.865\n",
            "DCG@ 500: 0.560 | Hits@ 500: 0.971\n",
            "DCG@1000: 0.563 | Hits@1000: 1.000\n",
            "\n"
          ]
        },
        {
          "data": {
            "application/vnd.jupyter.widget-view+json": {
              "model_id": "d3a5966c4aa14b4d81855ee22a9051be",
              "version_major": 2,
              "version_minor": 0
            },
            "text/plain": [
              "  0%|          | 0/3760 [00:00<?, ?it/s]"
            ]
          },
          "metadata": {},
          "output_type": "display_data"
        },
        {
          "name": "stdout",
          "output_type": "stream",
          "text": [
            "min_count = 3, window = 3\n"
          ]
        },
        {
          "data": {
            "application/vnd.jupyter.widget-view+json": {
              "model_id": "7f58e7b6089d45789c581538f05b7729",
              "version_major": 2,
              "version_minor": 0
            },
            "text/plain": [
              "  0%|          | 0/6 [00:00<?, ?it/s]"
            ]
          },
          "metadata": {},
          "output_type": "display_data"
        },
        {
          "name": "stdout",
          "output_type": "stream",
          "text": [
            "DCG@   1: 0.389 | Hits@   1: 0.389\n",
            "DCG@   5: 0.481 | Hits@   5: 0.562\n",
            "DCG@  10: 0.505 | Hits@  10: 0.636\n",
            "DCG@ 100: 0.552 | Hits@ 100: 0.866\n",
            "DCG@ 500: 0.566 | Hits@ 500: 0.974\n",
            "DCG@1000: 0.569 | Hits@1000: 1.000\n",
            "\n"
          ]
        },
        {
          "data": {
            "application/vnd.jupyter.widget-view+json": {
              "model_id": "2dfea818993b4b61991a8ebb91828f0e",
              "version_major": 2,
              "version_minor": 0
            },
            "text/plain": [
              "  0%|          | 0/3760 [00:00<?, ?it/s]"
            ]
          },
          "metadata": {},
          "output_type": "display_data"
        },
        {
          "name": "stdout",
          "output_type": "stream",
          "text": [
            "min_count = 3, window = 4\n"
          ]
        },
        {
          "data": {
            "application/vnd.jupyter.widget-view+json": {
              "model_id": "d7ce0f7d2eb24c4aa6e212e18960a53f",
              "version_major": 2,
              "version_minor": 0
            },
            "text/plain": [
              "  0%|          | 0/6 [00:00<?, ?it/s]"
            ]
          },
          "metadata": {},
          "output_type": "display_data"
        },
        {
          "name": "stdout",
          "output_type": "stream",
          "text": [
            "DCG@   1: 0.389 | Hits@   1: 0.389\n",
            "DCG@   5: 0.483 | Hits@   5: 0.564\n",
            "DCG@  10: 0.507 | Hits@  10: 0.641\n",
            "DCG@ 100: 0.555 | Hits@ 100: 0.872\n",
            "DCG@ 500: 0.569 | Hits@ 500: 0.977\n",
            "DCG@1000: 0.571 | Hits@1000: 1.000\n",
            "\n"
          ]
        },
        {
          "data": {
            "application/vnd.jupyter.widget-view+json": {
              "model_id": "ad480053058046eaa7fc25f78d9d83fb",
              "version_major": 2,
              "version_minor": 0
            },
            "text/plain": [
              "  0%|          | 0/3760 [00:00<?, ?it/s]"
            ]
          },
          "metadata": {},
          "output_type": "display_data"
        },
        {
          "name": "stdout",
          "output_type": "stream",
          "text": [
            "min_count = 3, window = 5\n"
          ]
        },
        {
          "data": {
            "application/vnd.jupyter.widget-view+json": {
              "model_id": "1c89cbbcfb09424e91247514561552e1",
              "version_major": 2,
              "version_minor": 0
            },
            "text/plain": [
              "  0%|          | 0/6 [00:00<?, ?it/s]"
            ]
          },
          "metadata": {},
          "output_type": "display_data"
        },
        {
          "name": "stdout",
          "output_type": "stream",
          "text": [
            "DCG@   1: 0.399 | Hits@   1: 0.399\n",
            "DCG@   5: 0.491 | Hits@   5: 0.573\n",
            "DCG@  10: 0.517 | Hits@  10: 0.655\n",
            "DCG@ 100: 0.563 | Hits@ 100: 0.878\n",
            "DCG@ 500: 0.576 | Hits@ 500: 0.975\n",
            "DCG@1000: 0.578 | Hits@1000: 1.000\n",
            "\n"
          ]
        },
        {
          "data": {
            "application/vnd.jupyter.widget-view+json": {
              "model_id": "8b22bc1d72614ee98a5225e818184a51",
              "version_major": 2,
              "version_minor": 0
            },
            "text/plain": [
              "  0%|          | 0/3760 [00:00<?, ?it/s]"
            ]
          },
          "metadata": {},
          "output_type": "display_data"
        },
        {
          "name": "stdout",
          "output_type": "stream",
          "text": [
            "min_count = 3, window = 6\n"
          ]
        },
        {
          "data": {
            "application/vnd.jupyter.widget-view+json": {
              "model_id": "e66b190ac6574f6c90b3f3b182c0742b",
              "version_major": 2,
              "version_minor": 0
            },
            "text/plain": [
              "  0%|          | 0/6 [00:00<?, ?it/s]"
            ]
          },
          "metadata": {},
          "output_type": "display_data"
        },
        {
          "name": "stdout",
          "output_type": "stream",
          "text": [
            "DCG@   1: 0.405 | Hits@   1: 0.405\n",
            "DCG@   5: 0.495 | Hits@   5: 0.574\n",
            "DCG@  10: 0.522 | Hits@  10: 0.659\n",
            "DCG@ 100: 0.568 | Hits@ 100: 0.881\n",
            "DCG@ 500: 0.580 | Hits@ 500: 0.978\n",
            "DCG@1000: 0.583 | Hits@1000: 1.000\n",
            "\n"
          ]
        },
        {
          "data": {
            "application/vnd.jupyter.widget-view+json": {
              "model_id": "af9f96e1e9944a7d9e4eb4083168363a",
              "version_major": 2,
              "version_minor": 0
            },
            "text/plain": [
              "  0%|          | 0/3760 [00:00<?, ?it/s]"
            ]
          },
          "metadata": {},
          "output_type": "display_data"
        },
        {
          "name": "stdout",
          "output_type": "stream",
          "text": [
            "min_count = 3, window = 7\n"
          ]
        },
        {
          "data": {
            "application/vnd.jupyter.widget-view+json": {
              "model_id": "1232a14b72324914aa1c5634bfd200e2",
              "version_major": 2,
              "version_minor": 0
            },
            "text/plain": [
              "  0%|          | 0/6 [00:00<?, ?it/s]"
            ]
          },
          "metadata": {},
          "output_type": "display_data"
        },
        {
          "name": "stdout",
          "output_type": "stream",
          "text": [
            "DCG@   1: 0.410 | Hits@   1: 0.410\n",
            "DCG@   5: 0.501 | Hits@   5: 0.582\n",
            "DCG@  10: 0.525 | Hits@  10: 0.657\n",
            "DCG@ 100: 0.571 | Hits@ 100: 0.879\n",
            "DCG@ 500: 0.584 | Hits@ 500: 0.979\n",
            "DCG@1000: 0.586 | Hits@1000: 1.000\n",
            "\n"
          ]
        },
        {
          "data": {
            "application/vnd.jupyter.widget-view+json": {
              "model_id": "4b90a38533244910aba4177fcde3c709",
              "version_major": 2,
              "version_minor": 0
            },
            "text/plain": [
              "  0%|          | 0/3760 [00:00<?, ?it/s]"
            ]
          },
          "metadata": {},
          "output_type": "display_data"
        },
        {
          "name": "stdout",
          "output_type": "stream",
          "text": [
            "min_count = 3, window = 8\n"
          ]
        },
        {
          "data": {
            "application/vnd.jupyter.widget-view+json": {
              "model_id": "a0edab1aa6ad419bbf609d2f9fdf74d9",
              "version_major": 2,
              "version_minor": 0
            },
            "text/plain": [
              "  0%|          | 0/6 [00:00<?, ?it/s]"
            ]
          },
          "metadata": {},
          "output_type": "display_data"
        },
        {
          "name": "stdout",
          "output_type": "stream",
          "text": [
            "DCG@   1: 0.406 | Hits@   1: 0.406\n",
            "DCG@   5: 0.503 | Hits@   5: 0.589\n",
            "DCG@  10: 0.524 | Hits@  10: 0.654\n",
            "DCG@ 100: 0.571 | Hits@ 100: 0.879\n",
            "DCG@ 500: 0.584 | Hits@ 500: 0.979\n",
            "DCG@1000: 0.586 | Hits@1000: 1.000\n",
            "\n"
          ]
        },
        {
          "data": {
            "application/vnd.jupyter.widget-view+json": {
              "model_id": "35864b206ae54417bf328903ffdcb733",
              "version_major": 2,
              "version_minor": 0
            },
            "text/plain": [
              "  0%|          | 0/3760 [00:00<?, ?it/s]"
            ]
          },
          "metadata": {},
          "output_type": "display_data"
        },
        {
          "name": "stdout",
          "output_type": "stream",
          "text": [
            "min_count = 3, window = 9\n"
          ]
        },
        {
          "data": {
            "application/vnd.jupyter.widget-view+json": {
              "model_id": "4314b62d36ec46bf9a0cf4a207999465",
              "version_major": 2,
              "version_minor": 0
            },
            "text/plain": [
              "  0%|          | 0/6 [00:00<?, ?it/s]"
            ]
          },
          "metadata": {},
          "output_type": "display_data"
        },
        {
          "name": "stdout",
          "output_type": "stream",
          "text": [
            "DCG@   1: 0.414 | Hits@   1: 0.414\n",
            "DCG@   5: 0.505 | Hits@   5: 0.585\n",
            "DCG@  10: 0.529 | Hits@  10: 0.658\n",
            "DCG@ 100: 0.576 | Hits@ 100: 0.886\n",
            "DCG@ 500: 0.588 | Hits@ 500: 0.975\n",
            "DCG@1000: 0.590 | Hits@1000: 1.000\n",
            "\n"
          ]
        },
        {
          "data": {
            "application/vnd.jupyter.widget-view+json": {
              "model_id": "aeb6846d8a274d11b2dfbb719717c309",
              "version_major": 2,
              "version_minor": 0
            },
            "text/plain": [
              "  0%|          | 0/3760 [00:00<?, ?it/s]"
            ]
          },
          "metadata": {},
          "output_type": "display_data"
        },
        {
          "name": "stdout",
          "output_type": "stream",
          "text": [
            "min_count = 4, window = 1\n"
          ]
        },
        {
          "data": {
            "application/vnd.jupyter.widget-view+json": {
              "model_id": "b6658bfa35fa454d8db8710197c1ec3d",
              "version_major": 2,
              "version_minor": 0
            },
            "text/plain": [
              "  0%|          | 0/6 [00:00<?, ?it/s]"
            ]
          },
          "metadata": {},
          "output_type": "display_data"
        },
        {
          "name": "stdout",
          "output_type": "stream",
          "text": [
            "DCG@   1: 0.382 | Hits@   1: 0.382\n",
            "DCG@   5: 0.471 | Hits@   5: 0.553\n",
            "DCG@  10: 0.499 | Hits@  10: 0.638\n",
            "DCG@ 100: 0.542 | Hits@ 100: 0.851\n",
            "DCG@ 500: 0.556 | Hits@ 500: 0.965\n",
            "DCG@1000: 0.560 | Hits@1000: 1.000\n",
            "\n"
          ]
        },
        {
          "data": {
            "application/vnd.jupyter.widget-view+json": {
              "model_id": "a5e9237d88cf4fc8867e68841268ad09",
              "version_major": 2,
              "version_minor": 0
            },
            "text/plain": [
              "  0%|          | 0/3760 [00:00<?, ?it/s]"
            ]
          },
          "metadata": {},
          "output_type": "display_data"
        },
        {
          "name": "stdout",
          "output_type": "stream",
          "text": [
            "min_count = 4, window = 2\n"
          ]
        },
        {
          "data": {
            "application/vnd.jupyter.widget-view+json": {
              "model_id": "dc8f8be938d44e929404b6094307bf07",
              "version_major": 2,
              "version_minor": 0
            },
            "text/plain": [
              "  0%|          | 0/6 [00:00<?, ?it/s]"
            ]
          },
          "metadata": {},
          "output_type": "display_data"
        },
        {
          "name": "stdout",
          "output_type": "stream",
          "text": [
            "DCG@   1: 0.381 | Hits@   1: 0.381\n",
            "DCG@   5: 0.474 | Hits@   5: 0.557\n",
            "DCG@  10: 0.501 | Hits@  10: 0.642\n",
            "DCG@ 100: 0.546 | Hits@ 100: 0.865\n",
            "DCG@ 500: 0.560 | Hits@ 500: 0.973\n",
            "DCG@1000: 0.563 | Hits@1000: 1.000\n",
            "\n"
          ]
        },
        {
          "data": {
            "application/vnd.jupyter.widget-view+json": {
              "model_id": "cb5759274cb34fb4bc964f6ae9a9c728",
              "version_major": 2,
              "version_minor": 0
            },
            "text/plain": [
              "  0%|          | 0/3760 [00:00<?, ?it/s]"
            ]
          },
          "metadata": {},
          "output_type": "display_data"
        },
        {
          "name": "stdout",
          "output_type": "stream",
          "text": [
            "min_count = 4, window = 3\n"
          ]
        },
        {
          "data": {
            "application/vnd.jupyter.widget-view+json": {
              "model_id": "f14da191748941ecae5db7bf075ae5fc",
              "version_major": 2,
              "version_minor": 0
            },
            "text/plain": [
              "  0%|          | 0/6 [00:00<?, ?it/s]"
            ]
          },
          "metadata": {},
          "output_type": "display_data"
        },
        {
          "name": "stdout",
          "output_type": "stream",
          "text": [
            "DCG@   1: 0.384 | Hits@   1: 0.384\n",
            "DCG@   5: 0.481 | Hits@   5: 0.564\n",
            "DCG@  10: 0.507 | Hits@  10: 0.645\n",
            "DCG@ 100: 0.553 | Hits@ 100: 0.868\n",
            "DCG@ 500: 0.567 | Hits@ 500: 0.976\n",
            "DCG@1000: 0.569 | Hits@1000: 1.000\n",
            "\n"
          ]
        },
        {
          "data": {
            "application/vnd.jupyter.widget-view+json": {
              "model_id": "a4b31ce08c9c46ecabefd1391faa7746",
              "version_major": 2,
              "version_minor": 0
            },
            "text/plain": [
              "  0%|          | 0/3760 [00:00<?, ?it/s]"
            ]
          },
          "metadata": {},
          "output_type": "display_data"
        },
        {
          "name": "stdout",
          "output_type": "stream",
          "text": [
            "min_count = 4, window = 4\n"
          ]
        },
        {
          "data": {
            "application/vnd.jupyter.widget-view+json": {
              "model_id": "1d28054f700c47118804ac0ebe7b0fdb",
              "version_major": 2,
              "version_minor": 0
            },
            "text/plain": [
              "  0%|          | 0/6 [00:00<?, ?it/s]"
            ]
          },
          "metadata": {},
          "output_type": "display_data"
        },
        {
          "name": "stdout",
          "output_type": "stream",
          "text": [
            "DCG@   1: 0.397 | Hits@   1: 0.397\n",
            "DCG@   5: 0.488 | Hits@   5: 0.568\n",
            "DCG@  10: 0.512 | Hits@  10: 0.644\n",
            "DCG@ 100: 0.560 | Hits@ 100: 0.875\n",
            "DCG@ 500: 0.573 | Hits@ 500: 0.979\n",
            "DCG@1000: 0.576 | Hits@1000: 1.000\n",
            "\n"
          ]
        },
        {
          "data": {
            "application/vnd.jupyter.widget-view+json": {
              "model_id": "f87c448f2cea455d9f78d2eaf039993e",
              "version_major": 2,
              "version_minor": 0
            },
            "text/plain": [
              "  0%|          | 0/3760 [00:00<?, ?it/s]"
            ]
          },
          "metadata": {},
          "output_type": "display_data"
        },
        {
          "name": "stdout",
          "output_type": "stream",
          "text": [
            "min_count = 4, window = 5\n"
          ]
        },
        {
          "data": {
            "application/vnd.jupyter.widget-view+json": {
              "model_id": "2252edc7336a4d2d8f5dec336ac365bd",
              "version_major": 2,
              "version_minor": 0
            },
            "text/plain": [
              "  0%|          | 0/6 [00:00<?, ?it/s]"
            ]
          },
          "metadata": {},
          "output_type": "display_data"
        },
        {
          "name": "stdout",
          "output_type": "stream",
          "text": [
            "DCG@   1: 0.394 | Hits@   1: 0.394\n",
            "DCG@   5: 0.493 | Hits@   5: 0.580\n",
            "DCG@  10: 0.515 | Hits@  10: 0.650\n",
            "DCG@ 100: 0.562 | Hits@ 100: 0.878\n",
            "DCG@ 500: 0.575 | Hits@ 500: 0.978\n",
            "DCG@1000: 0.577 | Hits@1000: 1.000\n",
            "\n"
          ]
        },
        {
          "data": {
            "application/vnd.jupyter.widget-view+json": {
              "model_id": "f953addcb97c4d60a7bcc51ff805cb86",
              "version_major": 2,
              "version_minor": 0
            },
            "text/plain": [
              "  0%|          | 0/3760 [00:00<?, ?it/s]"
            ]
          },
          "metadata": {},
          "output_type": "display_data"
        },
        {
          "name": "stdout",
          "output_type": "stream",
          "text": [
            "min_count = 4, window = 6\n"
          ]
        },
        {
          "data": {
            "application/vnd.jupyter.widget-view+json": {
              "model_id": "e898b9e6848c4855864aa3937c2f01e9",
              "version_major": 2,
              "version_minor": 0
            },
            "text/plain": [
              "  0%|          | 0/6 [00:00<?, ?it/s]"
            ]
          },
          "metadata": {},
          "output_type": "display_data"
        },
        {
          "name": "stdout",
          "output_type": "stream",
          "text": [
            "DCG@   1: 0.398 | Hits@   1: 0.398\n",
            "DCG@   5: 0.494 | Hits@   5: 0.578\n",
            "DCG@  10: 0.520 | Hits@  10: 0.660\n",
            "DCG@ 100: 0.567 | Hits@ 100: 0.887\n",
            "DCG@ 500: 0.579 | Hits@ 500: 0.976\n",
            "DCG@1000: 0.581 | Hits@1000: 1.000\n",
            "\n"
          ]
        },
        {
          "data": {
            "application/vnd.jupyter.widget-view+json": {
              "model_id": "94a05361d1834537b35dad1c57a931fd",
              "version_major": 2,
              "version_minor": 0
            },
            "text/plain": [
              "  0%|          | 0/3760 [00:00<?, ?it/s]"
            ]
          },
          "metadata": {},
          "output_type": "display_data"
        },
        {
          "name": "stdout",
          "output_type": "stream",
          "text": [
            "min_count = 4, window = 7\n"
          ]
        },
        {
          "data": {
            "application/vnd.jupyter.widget-view+json": {
              "model_id": "f21f5adefe774b40947b8ebff7410eed",
              "version_major": 2,
              "version_minor": 0
            },
            "text/plain": [
              "  0%|          | 0/6 [00:00<?, ?it/s]"
            ]
          },
          "metadata": {},
          "output_type": "display_data"
        },
        {
          "name": "stdout",
          "output_type": "stream",
          "text": [
            "DCG@   1: 0.406 | Hits@   1: 0.406\n",
            "DCG@   5: 0.502 | Hits@   5: 0.584\n",
            "DCG@  10: 0.526 | Hits@  10: 0.658\n",
            "DCG@ 100: 0.573 | Hits@ 100: 0.885\n",
            "DCG@ 500: 0.585 | Hits@ 500: 0.979\n",
            "DCG@1000: 0.587 | Hits@1000: 1.000\n",
            "\n"
          ]
        },
        {
          "data": {
            "application/vnd.jupyter.widget-view+json": {
              "model_id": "b5015b80481643c3b09915b3eac4efae",
              "version_major": 2,
              "version_minor": 0
            },
            "text/plain": [
              "  0%|          | 0/3760 [00:00<?, ?it/s]"
            ]
          },
          "metadata": {},
          "output_type": "display_data"
        },
        {
          "name": "stdout",
          "output_type": "stream",
          "text": [
            "min_count = 4, window = 8\n"
          ]
        },
        {
          "data": {
            "application/vnd.jupyter.widget-view+json": {
              "model_id": "4e647ff2f76c4532a6bcc43f14662f2d",
              "version_major": 2,
              "version_minor": 0
            },
            "text/plain": [
              "  0%|          | 0/6 [00:00<?, ?it/s]"
            ]
          },
          "metadata": {},
          "output_type": "display_data"
        },
        {
          "name": "stdout",
          "output_type": "stream",
          "text": [
            "DCG@   1: 0.405 | Hits@   1: 0.405\n",
            "DCG@   5: 0.502 | Hits@   5: 0.587\n",
            "DCG@  10: 0.527 | Hits@  10: 0.661\n",
            "DCG@ 100: 0.572 | Hits@ 100: 0.879\n",
            "DCG@ 500: 0.585 | Hits@ 500: 0.976\n",
            "DCG@1000: 0.587 | Hits@1000: 1.000\n",
            "\n"
          ]
        },
        {
          "data": {
            "application/vnd.jupyter.widget-view+json": {
              "model_id": "bbabb967c0ab473186f8bcc8f4556dff",
              "version_major": 2,
              "version_minor": 0
            },
            "text/plain": [
              "  0%|          | 0/3760 [00:00<?, ?it/s]"
            ]
          },
          "metadata": {},
          "output_type": "display_data"
        },
        {
          "name": "stdout",
          "output_type": "stream",
          "text": [
            "min_count = 4, window = 9\n"
          ]
        },
        {
          "data": {
            "application/vnd.jupyter.widget-view+json": {
              "model_id": "324a9836d6804dfa85669ee567c7d5b5",
              "version_major": 2,
              "version_minor": 0
            },
            "text/plain": [
              "  0%|          | 0/6 [00:00<?, ?it/s]"
            ]
          },
          "metadata": {},
          "output_type": "display_data"
        },
        {
          "name": "stdout",
          "output_type": "stream",
          "text": [
            "DCG@   1: 0.413 | Hits@   1: 0.413\n",
            "DCG@   5: 0.508 | Hits@   5: 0.591\n",
            "DCG@  10: 0.531 | Hits@  10: 0.664\n",
            "DCG@ 100: 0.576 | Hits@ 100: 0.881\n",
            "DCG@ 500: 0.589 | Hits@ 500: 0.980\n",
            "DCG@1000: 0.591 | Hits@1000: 1.000\n",
            "\n"
          ]
        },
        {
          "data": {
            "application/vnd.jupyter.widget-view+json": {
              "model_id": "400c076728684384a326b2baecee70b6",
              "version_major": 2,
              "version_minor": 0
            },
            "text/plain": [
              "  0%|          | 0/3760 [00:00<?, ?it/s]"
            ]
          },
          "metadata": {},
          "output_type": "display_data"
        },
        {
          "name": "stdout",
          "output_type": "stream",
          "text": [
            "min_count = 5, window = 1\n"
          ]
        },
        {
          "data": {
            "application/vnd.jupyter.widget-view+json": {
              "model_id": "b0a00d9a9d774421b8d49b5203e7c57f",
              "version_major": 2,
              "version_minor": 0
            },
            "text/plain": [
              "  0%|          | 0/6 [00:00<?, ?it/s]"
            ]
          },
          "metadata": {},
          "output_type": "display_data"
        },
        {
          "name": "stdout",
          "output_type": "stream",
          "text": [
            "DCG@   1: 0.391 | Hits@   1: 0.391\n",
            "DCG@   5: 0.477 | Hits@   5: 0.555\n",
            "DCG@  10: 0.506 | Hits@  10: 0.645\n",
            "DCG@ 100: 0.547 | Hits@ 100: 0.849\n",
            "DCG@ 500: 0.562 | Hits@ 500: 0.965\n",
            "DCG@1000: 0.565 | Hits@1000: 1.000\n",
            "\n"
          ]
        },
        {
          "data": {
            "application/vnd.jupyter.widget-view+json": {
              "model_id": "2ca758ddfde44bd2a3b17e2b4e009b0f",
              "version_major": 2,
              "version_minor": 0
            },
            "text/plain": [
              "  0%|          | 0/3760 [00:00<?, ?it/s]"
            ]
          },
          "metadata": {},
          "output_type": "display_data"
        },
        {
          "name": "stdout",
          "output_type": "stream",
          "text": [
            "min_count = 5, window = 2\n"
          ]
        },
        {
          "data": {
            "application/vnd.jupyter.widget-view+json": {
              "model_id": "35fb87b80c8f4eddba8ed1fdf8bcbdf0",
              "version_major": 2,
              "version_minor": 0
            },
            "text/plain": [
              "  0%|          | 0/6 [00:00<?, ?it/s]"
            ]
          },
          "metadata": {},
          "output_type": "display_data"
        },
        {
          "name": "stdout",
          "output_type": "stream",
          "text": [
            "DCG@   1: 0.385 | Hits@   1: 0.385\n",
            "DCG@   5: 0.478 | Hits@   5: 0.561\n",
            "DCG@  10: 0.503 | Hits@  10: 0.640\n",
            "DCG@ 100: 0.549 | Hits@ 100: 0.866\n",
            "DCG@ 500: 0.563 | Hits@ 500: 0.971\n",
            "DCG@1000: 0.566 | Hits@1000: 1.000\n",
            "\n"
          ]
        },
        {
          "data": {
            "application/vnd.jupyter.widget-view+json": {
              "model_id": "4bfefc29a1334eed82da8b0660627153",
              "version_major": 2,
              "version_minor": 0
            },
            "text/plain": [
              "  0%|          | 0/3760 [00:00<?, ?it/s]"
            ]
          },
          "metadata": {},
          "output_type": "display_data"
        },
        {
          "name": "stdout",
          "output_type": "stream",
          "text": [
            "min_count = 5, window = 3\n"
          ]
        },
        {
          "data": {
            "application/vnd.jupyter.widget-view+json": {
              "model_id": "a1afa3ac68414f7883c7db43b5f5fe6f",
              "version_major": 2,
              "version_minor": 0
            },
            "text/plain": [
              "  0%|          | 0/6 [00:00<?, ?it/s]"
            ]
          },
          "metadata": {},
          "output_type": "display_data"
        },
        {
          "name": "stdout",
          "output_type": "stream",
          "text": [
            "DCG@   1: 0.392 | Hits@   1: 0.392\n",
            "DCG@   5: 0.484 | Hits@   5: 0.565\n",
            "DCG@  10: 0.509 | Hits@  10: 0.641\n",
            "DCG@ 100: 0.556 | Hits@ 100: 0.873\n",
            "DCG@ 500: 0.570 | Hits@ 500: 0.976\n",
            "DCG@1000: 0.572 | Hits@1000: 1.000\n",
            "\n"
          ]
        },
        {
          "data": {
            "application/vnd.jupyter.widget-view+json": {
              "model_id": "9f37b1884e21468c88afaa2970296e8c",
              "version_major": 2,
              "version_minor": 0
            },
            "text/plain": [
              "  0%|          | 0/3760 [00:00<?, ?it/s]"
            ]
          },
          "metadata": {},
          "output_type": "display_data"
        },
        {
          "name": "stdout",
          "output_type": "stream",
          "text": [
            "min_count = 5, window = 4\n"
          ]
        },
        {
          "data": {
            "application/vnd.jupyter.widget-view+json": {
              "model_id": "f5891f83d4974e40bee103c34c39315d",
              "version_major": 2,
              "version_minor": 0
            },
            "text/plain": [
              "  0%|          | 0/6 [00:00<?, ?it/s]"
            ]
          },
          "metadata": {},
          "output_type": "display_data"
        },
        {
          "name": "stdout",
          "output_type": "stream",
          "text": [
            "DCG@   1: 0.391 | Hits@   1: 0.391\n",
            "DCG@   5: 0.486 | Hits@   5: 0.567\n",
            "DCG@  10: 0.512 | Hits@  10: 0.646\n",
            "DCG@ 100: 0.559 | Hits@ 100: 0.879\n",
            "DCG@ 500: 0.571 | Hits@ 500: 0.973\n",
            "DCG@1000: 0.574 | Hits@1000: 1.000\n",
            "\n"
          ]
        },
        {
          "data": {
            "application/vnd.jupyter.widget-view+json": {
              "model_id": "400eb7880b69400681269d65ad07f947",
              "version_major": 2,
              "version_minor": 0
            },
            "text/plain": [
              "  0%|          | 0/3760 [00:00<?, ?it/s]"
            ]
          },
          "metadata": {},
          "output_type": "display_data"
        },
        {
          "name": "stdout",
          "output_type": "stream",
          "text": [
            "min_count = 5, window = 5\n"
          ]
        },
        {
          "data": {
            "application/vnd.jupyter.widget-view+json": {
              "model_id": "9486d98ecebd4e258e642f126e977804",
              "version_major": 2,
              "version_minor": 0
            },
            "text/plain": [
              "  0%|          | 0/6 [00:00<?, ?it/s]"
            ]
          },
          "metadata": {},
          "output_type": "display_data"
        },
        {
          "name": "stdout",
          "output_type": "stream",
          "text": [
            "DCG@   1: 0.396 | Hits@   1: 0.396\n",
            "DCG@   5: 0.492 | Hits@   5: 0.576\n",
            "DCG@  10: 0.516 | Hits@  10: 0.651\n",
            "DCG@ 100: 0.563 | Hits@ 100: 0.880\n",
            "DCG@ 500: 0.576 | Hits@ 500: 0.976\n",
            "DCG@1000: 0.578 | Hits@1000: 1.000\n",
            "\n"
          ]
        },
        {
          "data": {
            "application/vnd.jupyter.widget-view+json": {
              "model_id": "61dda156d1c847a18a7e04cd50edc57e",
              "version_major": 2,
              "version_minor": 0
            },
            "text/plain": [
              "  0%|          | 0/3760 [00:00<?, ?it/s]"
            ]
          },
          "metadata": {},
          "output_type": "display_data"
        },
        {
          "name": "stdout",
          "output_type": "stream",
          "text": [
            "min_count = 5, window = 6\n"
          ]
        },
        {
          "data": {
            "application/vnd.jupyter.widget-view+json": {
              "model_id": "76086853c7464676bfb0b1123b43dd11",
              "version_major": 2,
              "version_minor": 0
            },
            "text/plain": [
              "  0%|          | 0/6 [00:00<?, ?it/s]"
            ]
          },
          "metadata": {},
          "output_type": "display_data"
        },
        {
          "name": "stdout",
          "output_type": "stream",
          "text": [
            "DCG@   1: 0.404 | Hits@   1: 0.404\n",
            "DCG@   5: 0.498 | Hits@   5: 0.580\n",
            "DCG@  10: 0.523 | Hits@  10: 0.655\n",
            "DCG@ 100: 0.568 | Hits@ 100: 0.876\n",
            "DCG@ 500: 0.582 | Hits@ 500: 0.979\n",
            "DCG@1000: 0.584 | Hits@1000: 1.000\n",
            "\n"
          ]
        },
        {
          "data": {
            "application/vnd.jupyter.widget-view+json": {
              "model_id": "10787ffd3ea843ebb0280e3b87e2e0b0",
              "version_major": 2,
              "version_minor": 0
            },
            "text/plain": [
              "  0%|          | 0/3760 [00:00<?, ?it/s]"
            ]
          },
          "metadata": {},
          "output_type": "display_data"
        },
        {
          "name": "stdout",
          "output_type": "stream",
          "text": [
            "min_count = 5, window = 7\n"
          ]
        },
        {
          "data": {
            "application/vnd.jupyter.widget-view+json": {
              "model_id": "80141169ed814ab99e5eba532d14728f",
              "version_major": 2,
              "version_minor": 0
            },
            "text/plain": [
              "  0%|          | 0/6 [00:00<?, ?it/s]"
            ]
          },
          "metadata": {},
          "output_type": "display_data"
        },
        {
          "name": "stdout",
          "output_type": "stream",
          "text": [
            "DCG@   1: 0.405 | Hits@   1: 0.405\n",
            "DCG@   5: 0.502 | Hits@   5: 0.585\n",
            "DCG@  10: 0.526 | Hits@  10: 0.657\n",
            "DCG@ 100: 0.572 | Hits@ 100: 0.880\n",
            "DCG@ 500: 0.584 | Hits@ 500: 0.976\n",
            "DCG@1000: 0.587 | Hits@1000: 1.000\n",
            "\n"
          ]
        },
        {
          "data": {
            "application/vnd.jupyter.widget-view+json": {
              "model_id": "1073b22cfd5645b0bc8c1eca57ba132a",
              "version_major": 2,
              "version_minor": 0
            },
            "text/plain": [
              "  0%|          | 0/3760 [00:00<?, ?it/s]"
            ]
          },
          "metadata": {},
          "output_type": "display_data"
        },
        {
          "name": "stdout",
          "output_type": "stream",
          "text": [
            "min_count = 5, window = 8\n"
          ]
        },
        {
          "data": {
            "application/vnd.jupyter.widget-view+json": {
              "model_id": "36cd362992c1469d9d5d1c3a1eebe0ba",
              "version_major": 2,
              "version_minor": 0
            },
            "text/plain": [
              "  0%|          | 0/6 [00:00<?, ?it/s]"
            ]
          },
          "metadata": {},
          "output_type": "display_data"
        },
        {
          "name": "stdout",
          "output_type": "stream",
          "text": [
            "DCG@   1: 0.411 | Hits@   1: 0.411\n",
            "DCG@   5: 0.506 | Hits@   5: 0.590\n",
            "DCG@  10: 0.529 | Hits@  10: 0.661\n",
            "DCG@ 100: 0.575 | Hits@ 100: 0.883\n",
            "DCG@ 500: 0.588 | Hits@ 500: 0.977\n",
            "DCG@1000: 0.590 | Hits@1000: 1.000\n",
            "\n"
          ]
        },
        {
          "data": {
            "application/vnd.jupyter.widget-view+json": {
              "model_id": "314456ae2029427da1ba8ff8af863ead",
              "version_major": 2,
              "version_minor": 0
            },
            "text/plain": [
              "  0%|          | 0/3760 [00:00<?, ?it/s]"
            ]
          },
          "metadata": {},
          "output_type": "display_data"
        },
        {
          "name": "stdout",
          "output_type": "stream",
          "text": [
            "min_count = 5, window = 9\n"
          ]
        },
        {
          "data": {
            "application/vnd.jupyter.widget-view+json": {
              "model_id": "1bf9b114bfa14dceae33bef9bf2e7adc",
              "version_major": 2,
              "version_minor": 0
            },
            "text/plain": [
              "  0%|          | 0/6 [00:00<?, ?it/s]"
            ]
          },
          "metadata": {},
          "output_type": "display_data"
        },
        {
          "name": "stdout",
          "output_type": "stream",
          "text": [
            "DCG@   1: 0.411 | Hits@   1: 0.411\n",
            "DCG@   5: 0.503 | Hits@   5: 0.583\n",
            "DCG@  10: 0.529 | Hits@  10: 0.660\n",
            "DCG@ 100: 0.575 | Hits@ 100: 0.884\n",
            "DCG@ 500: 0.588 | Hits@ 500: 0.977\n",
            "DCG@1000: 0.590 | Hits@1000: 1.000\n",
            "\n"
          ]
        },
        {
          "data": {
            "application/vnd.jupyter.widget-view+json": {
              "model_id": "50361c9ab85a4d6abfe3df0c6678cbab",
              "version_major": 2,
              "version_minor": 0
            },
            "text/plain": [
              "  0%|          | 0/3760 [00:00<?, ?it/s]"
            ]
          },
          "metadata": {},
          "output_type": "display_data"
        },
        {
          "name": "stdout",
          "output_type": "stream",
          "text": [
            "min_count = 6, window = 1\n"
          ]
        },
        {
          "data": {
            "application/vnd.jupyter.widget-view+json": {
              "model_id": "e65ba51aaf0947d39b7a9920881e7c27",
              "version_major": 2,
              "version_minor": 0
            },
            "text/plain": [
              "  0%|          | 0/6 [00:00<?, ?it/s]"
            ]
          },
          "metadata": {},
          "output_type": "display_data"
        },
        {
          "name": "stdout",
          "output_type": "stream",
          "text": [
            "DCG@   1: 0.386 | Hits@   1: 0.386\n",
            "DCG@   5: 0.476 | Hits@   5: 0.560\n",
            "DCG@  10: 0.501 | Hits@  10: 0.638\n",
            "DCG@ 100: 0.545 | Hits@ 100: 0.849\n",
            "DCG@ 500: 0.560 | Hits@ 500: 0.964\n",
            "DCG@1000: 0.563 | Hits@1000: 1.000\n",
            "\n"
          ]
        },
        {
          "data": {
            "application/vnd.jupyter.widget-view+json": {
              "model_id": "b62c07a0668c49c9a51e242093a08575",
              "version_major": 2,
              "version_minor": 0
            },
            "text/plain": [
              "  0%|          | 0/3760 [00:00<?, ?it/s]"
            ]
          },
          "metadata": {},
          "output_type": "display_data"
        },
        {
          "name": "stdout",
          "output_type": "stream",
          "text": [
            "min_count = 6, window = 2\n"
          ]
        },
        {
          "data": {
            "application/vnd.jupyter.widget-view+json": {
              "model_id": "3d0a74cf905d4cc0ba61571fcd26e8ac",
              "version_major": 2,
              "version_minor": 0
            },
            "text/plain": [
              "  0%|          | 0/6 [00:00<?, ?it/s]"
            ]
          },
          "metadata": {},
          "output_type": "display_data"
        },
        {
          "name": "stdout",
          "output_type": "stream",
          "text": [
            "DCG@   1: 0.381 | Hits@   1: 0.381\n",
            "DCG@   5: 0.476 | Hits@   5: 0.558\n",
            "DCG@  10: 0.502 | Hits@  10: 0.638\n",
            "DCG@ 100: 0.547 | Hits@ 100: 0.864\n",
            "DCG@ 500: 0.561 | Hits@ 500: 0.972\n",
            "DCG@1000: 0.564 | Hits@1000: 1.000\n",
            "\n"
          ]
        },
        {
          "data": {
            "application/vnd.jupyter.widget-view+json": {
              "model_id": "e263ca1f73814312a85f02e9fe7d9180",
              "version_major": 2,
              "version_minor": 0
            },
            "text/plain": [
              "  0%|          | 0/3760 [00:00<?, ?it/s]"
            ]
          },
          "metadata": {},
          "output_type": "display_data"
        },
        {
          "name": "stdout",
          "output_type": "stream",
          "text": [
            "min_count = 6, window = 3\n"
          ]
        },
        {
          "data": {
            "application/vnd.jupyter.widget-view+json": {
              "model_id": "c28a3a1a816a4673beabe2c586af4b4c",
              "version_major": 2,
              "version_minor": 0
            },
            "text/plain": [
              "  0%|          | 0/6 [00:00<?, ?it/s]"
            ]
          },
          "metadata": {},
          "output_type": "display_data"
        },
        {
          "name": "stdout",
          "output_type": "stream",
          "text": [
            "DCG@   1: 0.385 | Hits@   1: 0.385\n",
            "DCG@   5: 0.481 | Hits@   5: 0.566\n",
            "DCG@  10: 0.506 | Hits@  10: 0.645\n",
            "DCG@ 100: 0.552 | Hits@ 100: 0.868\n",
            "DCG@ 500: 0.566 | Hits@ 500: 0.977\n",
            "DCG@1000: 0.569 | Hits@1000: 1.000\n",
            "\n"
          ]
        },
        {
          "data": {
            "application/vnd.jupyter.widget-view+json": {
              "model_id": "c4423d12f8e4486cab01dd8b5ae6ac15",
              "version_major": 2,
              "version_minor": 0
            },
            "text/plain": [
              "  0%|          | 0/3760 [00:00<?, ?it/s]"
            ]
          },
          "metadata": {},
          "output_type": "display_data"
        },
        {
          "name": "stdout",
          "output_type": "stream",
          "text": [
            "min_count = 6, window = 4\n"
          ]
        },
        {
          "data": {
            "application/vnd.jupyter.widget-view+json": {
              "model_id": "5e72b1b91f744458864cda6276169bd1",
              "version_major": 2,
              "version_minor": 0
            },
            "text/plain": [
              "  0%|          | 0/6 [00:00<?, ?it/s]"
            ]
          },
          "metadata": {},
          "output_type": "display_data"
        },
        {
          "name": "stdout",
          "output_type": "stream",
          "text": [
            "DCG@   1: 0.390 | Hits@   1: 0.390\n",
            "DCG@   5: 0.487 | Hits@   5: 0.571\n",
            "DCG@  10: 0.511 | Hits@  10: 0.645\n",
            "DCG@ 100: 0.559 | Hits@ 100: 0.876\n",
            "DCG@ 500: 0.572 | Hits@ 500: 0.979\n",
            "DCG@1000: 0.574 | Hits@1000: 1.000\n",
            "\n"
          ]
        },
        {
          "data": {
            "application/vnd.jupyter.widget-view+json": {
              "model_id": "ea6142018cd842548fc90bcfb5ece450",
              "version_major": 2,
              "version_minor": 0
            },
            "text/plain": [
              "  0%|          | 0/3760 [00:00<?, ?it/s]"
            ]
          },
          "metadata": {},
          "output_type": "display_data"
        },
        {
          "name": "stdout",
          "output_type": "stream",
          "text": [
            "min_count = 6, window = 5\n"
          ]
        },
        {
          "data": {
            "application/vnd.jupyter.widget-view+json": {
              "model_id": "ac167500f95443ae88f0948c4dc78738",
              "version_major": 2,
              "version_minor": 0
            },
            "text/plain": [
              "  0%|          | 0/6 [00:00<?, ?it/s]"
            ]
          },
          "metadata": {},
          "output_type": "display_data"
        },
        {
          "name": "stdout",
          "output_type": "stream",
          "text": [
            "DCG@   1: 0.397 | Hits@   1: 0.397\n",
            "DCG@   5: 0.495 | Hits@   5: 0.583\n",
            "DCG@  10: 0.518 | Hits@  10: 0.654\n",
            "DCG@ 100: 0.564 | Hits@ 100: 0.879\n",
            "DCG@ 500: 0.576 | Hits@ 500: 0.977\n",
            "DCG@1000: 0.579 | Hits@1000: 1.000\n",
            "\n"
          ]
        },
        {
          "data": {
            "application/vnd.jupyter.widget-view+json": {
              "model_id": "b5d2d24d90334b1bbab61f2b66c5e544",
              "version_major": 2,
              "version_minor": 0
            },
            "text/plain": [
              "  0%|          | 0/3760 [00:00<?, ?it/s]"
            ]
          },
          "metadata": {},
          "output_type": "display_data"
        },
        {
          "name": "stdout",
          "output_type": "stream",
          "text": [
            "min_count = 6, window = 6\n"
          ]
        },
        {
          "data": {
            "application/vnd.jupyter.widget-view+json": {
              "model_id": "78b2e9d99b7445fca2a369802228133a",
              "version_major": 2,
              "version_minor": 0
            },
            "text/plain": [
              "  0%|          | 0/6 [00:00<?, ?it/s]"
            ]
          },
          "metadata": {},
          "output_type": "display_data"
        },
        {
          "name": "stdout",
          "output_type": "stream",
          "text": [
            "DCG@   1: 0.402 | Hits@   1: 0.402\n",
            "DCG@   5: 0.496 | Hits@   5: 0.577\n",
            "DCG@  10: 0.520 | Hits@  10: 0.652\n",
            "DCG@ 100: 0.567 | Hits@ 100: 0.878\n",
            "DCG@ 500: 0.580 | Hits@ 500: 0.977\n",
            "DCG@1000: 0.583 | Hits@1000: 1.000\n",
            "\n"
          ]
        },
        {
          "data": {
            "application/vnd.jupyter.widget-view+json": {
              "model_id": "8358b3214adb4cacbd91a6260236d8ea",
              "version_major": 2,
              "version_minor": 0
            },
            "text/plain": [
              "  0%|          | 0/3760 [00:00<?, ?it/s]"
            ]
          },
          "metadata": {},
          "output_type": "display_data"
        },
        {
          "name": "stdout",
          "output_type": "stream",
          "text": [
            "min_count = 6, window = 7\n"
          ]
        },
        {
          "data": {
            "application/vnd.jupyter.widget-view+json": {
              "model_id": "877a2b623d4645dfa1ba649c3f759969",
              "version_major": 2,
              "version_minor": 0
            },
            "text/plain": [
              "  0%|          | 0/6 [00:00<?, ?it/s]"
            ]
          },
          "metadata": {},
          "output_type": "display_data"
        },
        {
          "name": "stdout",
          "output_type": "stream",
          "text": [
            "DCG@   1: 0.404 | Hits@   1: 0.404\n",
            "DCG@   5: 0.499 | Hits@   5: 0.579\n",
            "DCG@  10: 0.524 | Hits@  10: 0.659\n",
            "DCG@ 100: 0.571 | Hits@ 100: 0.882\n",
            "DCG@ 500: 0.583 | Hits@ 500: 0.979\n",
            "DCG@1000: 0.586 | Hits@1000: 1.000\n",
            "\n"
          ]
        },
        {
          "data": {
            "application/vnd.jupyter.widget-view+json": {
              "model_id": "ff843aa61ac7438a8f3e8af17a1bfab6",
              "version_major": 2,
              "version_minor": 0
            },
            "text/plain": [
              "  0%|          | 0/3760 [00:00<?, ?it/s]"
            ]
          },
          "metadata": {},
          "output_type": "display_data"
        },
        {
          "name": "stdout",
          "output_type": "stream",
          "text": [
            "min_count = 6, window = 8\n"
          ]
        },
        {
          "data": {
            "application/vnd.jupyter.widget-view+json": {
              "model_id": "910026643e2a40ee8899dd69ab7472e1",
              "version_major": 2,
              "version_minor": 0
            },
            "text/plain": [
              "  0%|          | 0/6 [00:00<?, ?it/s]"
            ]
          },
          "metadata": {},
          "output_type": "display_data"
        },
        {
          "name": "stdout",
          "output_type": "stream",
          "text": [
            "DCG@   1: 0.411 | Hits@   1: 0.411\n",
            "DCG@   5: 0.510 | Hits@   5: 0.597\n",
            "DCG@  10: 0.530 | Hits@  10: 0.659\n",
            "DCG@ 100: 0.576 | Hits@ 100: 0.883\n",
            "DCG@ 500: 0.589 | Hits@ 500: 0.978\n",
            "DCG@1000: 0.591 | Hits@1000: 1.000\n",
            "\n"
          ]
        },
        {
          "data": {
            "application/vnd.jupyter.widget-view+json": {
              "model_id": "705c140dbd6e426bbcb9c6cfafe928f4",
              "version_major": 2,
              "version_minor": 0
            },
            "text/plain": [
              "  0%|          | 0/3760 [00:00<?, ?it/s]"
            ]
          },
          "metadata": {},
          "output_type": "display_data"
        },
        {
          "name": "stdout",
          "output_type": "stream",
          "text": [
            "min_count = 6, window = 9\n"
          ]
        },
        {
          "data": {
            "application/vnd.jupyter.widget-view+json": {
              "model_id": "e4c2f2068d03446ea83b8ac91f414882",
              "version_major": 2,
              "version_minor": 0
            },
            "text/plain": [
              "  0%|          | 0/6 [00:00<?, ?it/s]"
            ]
          },
          "metadata": {},
          "output_type": "display_data"
        },
        {
          "name": "stdout",
          "output_type": "stream",
          "text": [
            "DCG@   1: 0.412 | Hits@   1: 0.412\n",
            "DCG@   5: 0.508 | Hits@   5: 0.593\n",
            "DCG@  10: 0.532 | Hits@  10: 0.667\n",
            "DCG@ 100: 0.577 | Hits@ 100: 0.887\n",
            "DCG@ 500: 0.589 | Hits@ 500: 0.980\n",
            "DCG@1000: 0.591 | Hits@1000: 1.000\n",
            "\n"
          ]
        },
        {
          "data": {
            "application/vnd.jupyter.widget-view+json": {
              "model_id": "2568efa099d941ce88a5c18a83836ee1",
              "version_major": 2,
              "version_minor": 0
            },
            "text/plain": [
              "  0%|          | 0/3760 [00:00<?, ?it/s]"
            ]
          },
          "metadata": {},
          "output_type": "display_data"
        },
        {
          "name": "stdout",
          "output_type": "stream",
          "text": [
            "min_count = 7, window = 1\n"
          ]
        },
        {
          "data": {
            "application/vnd.jupyter.widget-view+json": {
              "model_id": "337b5637487f4aba8f01c3ba4715a5ca",
              "version_major": 2,
              "version_minor": 0
            },
            "text/plain": [
              "  0%|          | 0/6 [00:00<?, ?it/s]"
            ]
          },
          "metadata": {},
          "output_type": "display_data"
        },
        {
          "name": "stdout",
          "output_type": "stream",
          "text": [
            "DCG@   1: 0.390 | Hits@   1: 0.390\n",
            "DCG@   5: 0.475 | Hits@   5: 0.549\n",
            "DCG@  10: 0.505 | Hits@  10: 0.642\n",
            "DCG@ 100: 0.548 | Hits@ 100: 0.854\n",
            "DCG@ 500: 0.562 | Hits@ 500: 0.962\n",
            "DCG@1000: 0.566 | Hits@1000: 1.000\n",
            "\n"
          ]
        },
        {
          "data": {
            "application/vnd.jupyter.widget-view+json": {
              "model_id": "dc9e5759b42342f78fe1561e907d438c",
              "version_major": 2,
              "version_minor": 0
            },
            "text/plain": [
              "  0%|          | 0/3760 [00:00<?, ?it/s]"
            ]
          },
          "metadata": {},
          "output_type": "display_data"
        },
        {
          "name": "stdout",
          "output_type": "stream",
          "text": [
            "min_count = 7, window = 2\n"
          ]
        },
        {
          "data": {
            "application/vnd.jupyter.widget-view+json": {
              "model_id": "963b1034aa4f4153b8763c9ffd06e519",
              "version_major": 2,
              "version_minor": 0
            },
            "text/plain": [
              "  0%|          | 0/6 [00:00<?, ?it/s]"
            ]
          },
          "metadata": {},
          "output_type": "display_data"
        },
        {
          "name": "stdout",
          "output_type": "stream",
          "text": [
            "DCG@   1: 0.385 | Hits@   1: 0.385\n",
            "DCG@   5: 0.480 | Hits@   5: 0.566\n",
            "DCG@  10: 0.504 | Hits@  10: 0.641\n",
            "DCG@ 100: 0.549 | Hits@ 100: 0.866\n",
            "DCG@ 500: 0.563 | Hits@ 500: 0.970\n",
            "DCG@1000: 0.566 | Hits@1000: 1.000\n",
            "\n"
          ]
        },
        {
          "data": {
            "application/vnd.jupyter.widget-view+json": {
              "model_id": "b9ec8bfd716e4bc19e1043aefda8ca1a",
              "version_major": 2,
              "version_minor": 0
            },
            "text/plain": [
              "  0%|          | 0/3760 [00:00<?, ?it/s]"
            ]
          },
          "metadata": {},
          "output_type": "display_data"
        },
        {
          "name": "stdout",
          "output_type": "stream",
          "text": [
            "min_count = 7, window = 3\n"
          ]
        },
        {
          "data": {
            "application/vnd.jupyter.widget-view+json": {
              "model_id": "118baf703ac243728cfdfdfbe3e5d1c0",
              "version_major": 2,
              "version_minor": 0
            },
            "text/plain": [
              "  0%|          | 0/6 [00:00<?, ?it/s]"
            ]
          },
          "metadata": {},
          "output_type": "display_data"
        },
        {
          "name": "stdout",
          "output_type": "stream",
          "text": [
            "DCG@   1: 0.390 | Hits@   1: 0.390\n",
            "DCG@   5: 0.484 | Hits@   5: 0.568\n",
            "DCG@  10: 0.508 | Hits@  10: 0.641\n",
            "DCG@ 100: 0.554 | Hits@ 100: 0.864\n",
            "DCG@ 500: 0.568 | Hits@ 500: 0.973\n",
            "DCG@1000: 0.571 | Hits@1000: 1.000\n",
            "\n"
          ]
        },
        {
          "data": {
            "application/vnd.jupyter.widget-view+json": {
              "model_id": "9d7b529c91e94c80af9737076beb694f",
              "version_major": 2,
              "version_minor": 0
            },
            "text/plain": [
              "  0%|          | 0/3760 [00:00<?, ?it/s]"
            ]
          },
          "metadata": {},
          "output_type": "display_data"
        },
        {
          "name": "stdout",
          "output_type": "stream",
          "text": [
            "min_count = 7, window = 4\n"
          ]
        },
        {
          "data": {
            "application/vnd.jupyter.widget-view+json": {
              "model_id": "7957c42dcc9d48e4b499d5048f7d3700",
              "version_major": 2,
              "version_minor": 0
            },
            "text/plain": [
              "  0%|          | 0/6 [00:00<?, ?it/s]"
            ]
          },
          "metadata": {},
          "output_type": "display_data"
        },
        {
          "name": "stdout",
          "output_type": "stream",
          "text": [
            "DCG@   1: 0.398 | Hits@   1: 0.398\n",
            "DCG@   5: 0.489 | Hits@   5: 0.569\n",
            "DCG@  10: 0.515 | Hits@  10: 0.647\n",
            "DCG@ 100: 0.561 | Hits@ 100: 0.873\n",
            "DCG@ 500: 0.575 | Hits@ 500: 0.976\n",
            "DCG@1000: 0.577 | Hits@1000: 1.000\n",
            "\n"
          ]
        },
        {
          "data": {
            "application/vnd.jupyter.widget-view+json": {
              "model_id": "ab12b075d3c74f6492caa2fcdb6f7095",
              "version_major": 2,
              "version_minor": 0
            },
            "text/plain": [
              "  0%|          | 0/3760 [00:00<?, ?it/s]"
            ]
          },
          "metadata": {},
          "output_type": "display_data"
        },
        {
          "name": "stdout",
          "output_type": "stream",
          "text": [
            "min_count = 7, window = 5\n"
          ]
        },
        {
          "data": {
            "application/vnd.jupyter.widget-view+json": {
              "model_id": "896715d833ec42769a04598d17a444c8",
              "version_major": 2,
              "version_minor": 0
            },
            "text/plain": [
              "  0%|          | 0/6 [00:00<?, ?it/s]"
            ]
          },
          "metadata": {},
          "output_type": "display_data"
        },
        {
          "name": "stdout",
          "output_type": "stream",
          "text": [
            "DCG@   1: 0.397 | Hits@   1: 0.397\n",
            "DCG@   5: 0.493 | Hits@   5: 0.580\n",
            "DCG@  10: 0.517 | Hits@  10: 0.655\n",
            "DCG@ 100: 0.562 | Hits@ 100: 0.877\n",
            "DCG@ 500: 0.575 | Hits@ 500: 0.976\n",
            "DCG@1000: 0.578 | Hits@1000: 1.000\n",
            "\n"
          ]
        },
        {
          "data": {
            "application/vnd.jupyter.widget-view+json": {
              "model_id": "88be81dc9c464f7d80245a84ffc1b432",
              "version_major": 2,
              "version_minor": 0
            },
            "text/plain": [
              "  0%|          | 0/3760 [00:00<?, ?it/s]"
            ]
          },
          "metadata": {},
          "output_type": "display_data"
        },
        {
          "name": "stdout",
          "output_type": "stream",
          "text": [
            "min_count = 7, window = 6\n"
          ]
        },
        {
          "data": {
            "application/vnd.jupyter.widget-view+json": {
              "model_id": "9f1e5f850f7a4ed4ba87db9e55b76809",
              "version_major": 2,
              "version_minor": 0
            },
            "text/plain": [
              "  0%|          | 0/6 [00:00<?, ?it/s]"
            ]
          },
          "metadata": {},
          "output_type": "display_data"
        },
        {
          "name": "stdout",
          "output_type": "stream",
          "text": [
            "DCG@   1: 0.399 | Hits@   1: 0.399\n",
            "DCG@   5: 0.496 | Hits@   5: 0.580\n",
            "DCG@  10: 0.521 | Hits@  10: 0.656\n",
            "DCG@ 100: 0.568 | Hits@ 100: 0.883\n",
            "DCG@ 500: 0.580 | Hits@ 500: 0.976\n",
            "DCG@1000: 0.582 | Hits@1000: 1.000\n",
            "\n"
          ]
        },
        {
          "data": {
            "application/vnd.jupyter.widget-view+json": {
              "model_id": "3ce6328bcaf44e62b7c3421138291bdc",
              "version_major": 2,
              "version_minor": 0
            },
            "text/plain": [
              "  0%|          | 0/3760 [00:00<?, ?it/s]"
            ]
          },
          "metadata": {},
          "output_type": "display_data"
        },
        {
          "name": "stdout",
          "output_type": "stream",
          "text": [
            "min_count = 7, window = 7\n"
          ]
        },
        {
          "data": {
            "application/vnd.jupyter.widget-view+json": {
              "model_id": "b2d20ce128e44b81b671a8495411ff3b",
              "version_major": 2,
              "version_minor": 0
            },
            "text/plain": [
              "  0%|          | 0/6 [00:00<?, ?it/s]"
            ]
          },
          "metadata": {},
          "output_type": "display_data"
        },
        {
          "name": "stdout",
          "output_type": "stream",
          "text": [
            "DCG@   1: 0.407 | Hits@   1: 0.407\n",
            "DCG@   5: 0.502 | Hits@   5: 0.584\n",
            "DCG@  10: 0.526 | Hits@  10: 0.659\n",
            "DCG@ 100: 0.573 | Hits@ 100: 0.885\n",
            "DCG@ 500: 0.585 | Hits@ 500: 0.979\n",
            "DCG@1000: 0.587 | Hits@1000: 1.000\n",
            "\n"
          ]
        },
        {
          "data": {
            "application/vnd.jupyter.widget-view+json": {
              "model_id": "8ee82ecd58eb41479e3f0a066821c141",
              "version_major": 2,
              "version_minor": 0
            },
            "text/plain": [
              "  0%|          | 0/3760 [00:00<?, ?it/s]"
            ]
          },
          "metadata": {},
          "output_type": "display_data"
        },
        {
          "name": "stdout",
          "output_type": "stream",
          "text": [
            "min_count = 7, window = 8\n"
          ]
        },
        {
          "data": {
            "application/vnd.jupyter.widget-view+json": {
              "model_id": "e835236d11854bc1b5855bfd10e9c915",
              "version_major": 2,
              "version_minor": 0
            },
            "text/plain": [
              "  0%|          | 0/6 [00:00<?, ?it/s]"
            ]
          },
          "metadata": {},
          "output_type": "display_data"
        },
        {
          "name": "stdout",
          "output_type": "stream",
          "text": [
            "DCG@   1: 0.401 | Hits@   1: 0.401\n",
            "DCG@   5: 0.500 | Hits@   5: 0.584\n",
            "DCG@  10: 0.526 | Hits@  10: 0.664\n",
            "DCG@ 100: 0.571 | Hits@ 100: 0.882\n",
            "DCG@ 500: 0.583 | Hits@ 500: 0.976\n",
            "DCG@1000: 0.586 | Hits@1000: 1.000\n",
            "\n"
          ]
        },
        {
          "data": {
            "application/vnd.jupyter.widget-view+json": {
              "model_id": "6b66774dd29b467fb6ad849d5190d829",
              "version_major": 2,
              "version_minor": 0
            },
            "text/plain": [
              "  0%|          | 0/3760 [00:00<?, ?it/s]"
            ]
          },
          "metadata": {},
          "output_type": "display_data"
        },
        {
          "name": "stdout",
          "output_type": "stream",
          "text": [
            "min_count = 7, window = 9\n"
          ]
        },
        {
          "data": {
            "application/vnd.jupyter.widget-view+json": {
              "model_id": "504d65687998481aa5c59997a4b5be6d",
              "version_major": 2,
              "version_minor": 0
            },
            "text/plain": [
              "  0%|          | 0/6 [00:00<?, ?it/s]"
            ]
          },
          "metadata": {},
          "output_type": "display_data"
        },
        {
          "name": "stdout",
          "output_type": "stream",
          "text": [
            "DCG@   1: 0.417 | Hits@   1: 0.417\n",
            "DCG@   5: 0.509 | Hits@   5: 0.590\n",
            "DCG@  10: 0.533 | Hits@  10: 0.664\n",
            "DCG@ 100: 0.578 | Hits@ 100: 0.883\n",
            "DCG@ 500: 0.591 | Hits@ 500: 0.980\n",
            "DCG@1000: 0.593 | Hits@1000: 1.000\n",
            "\n"
          ]
        },
        {
          "data": {
            "application/vnd.jupyter.widget-view+json": {
              "model_id": "c81253a73b5e435a96228f5cca5ab2eb",
              "version_major": 2,
              "version_minor": 0
            },
            "text/plain": [
              "  0%|          | 0/3760 [00:00<?, ?it/s]"
            ]
          },
          "metadata": {},
          "output_type": "display_data"
        },
        {
          "name": "stdout",
          "output_type": "stream",
          "text": [
            "min_count = 8, window = 1\n"
          ]
        },
        {
          "data": {
            "application/vnd.jupyter.widget-view+json": {
              "model_id": "adb9bb0ef81840f6b01e05dae489f453",
              "version_major": 2,
              "version_minor": 0
            },
            "text/plain": [
              "  0%|          | 0/6 [00:00<?, ?it/s]"
            ]
          },
          "metadata": {},
          "output_type": "display_data"
        },
        {
          "name": "stdout",
          "output_type": "stream",
          "text": [
            "DCG@   1: 0.388 | Hits@   1: 0.388\n",
            "DCG@   5: 0.476 | Hits@   5: 0.555\n",
            "DCG@  10: 0.505 | Hits@  10: 0.644\n",
            "DCG@ 100: 0.547 | Hits@ 100: 0.852\n",
            "DCG@ 500: 0.562 | Hits@ 500: 0.967\n",
            "DCG@1000: 0.566 | Hits@1000: 1.000\n",
            "\n"
          ]
        },
        {
          "data": {
            "application/vnd.jupyter.widget-view+json": {
              "model_id": "378fdb9fa5c74d25858356a5f88a8a41",
              "version_major": 2,
              "version_minor": 0
            },
            "text/plain": [
              "  0%|          | 0/3760 [00:00<?, ?it/s]"
            ]
          },
          "metadata": {},
          "output_type": "display_data"
        },
        {
          "name": "stdout",
          "output_type": "stream",
          "text": [
            "min_count = 8, window = 2\n"
          ]
        },
        {
          "data": {
            "application/vnd.jupyter.widget-view+json": {
              "model_id": "14bc43d541eb48959930223cb4429c45",
              "version_major": 2,
              "version_minor": 0
            },
            "text/plain": [
              "  0%|          | 0/6 [00:00<?, ?it/s]"
            ]
          },
          "metadata": {},
          "output_type": "display_data"
        },
        {
          "name": "stdout",
          "output_type": "stream",
          "text": [
            "DCG@   1: 0.388 | Hits@   1: 0.388\n",
            "DCG@   5: 0.480 | Hits@   5: 0.565\n",
            "DCG@  10: 0.503 | Hits@  10: 0.636\n",
            "DCG@ 100: 0.550 | Hits@ 100: 0.863\n",
            "DCG@ 500: 0.564 | Hits@ 500: 0.973\n",
            "DCG@1000: 0.567 | Hits@1000: 1.000\n",
            "\n"
          ]
        },
        {
          "data": {
            "application/vnd.jupyter.widget-view+json": {
              "model_id": "ebb9180237ff4043b69dc964974713d1",
              "version_major": 2,
              "version_minor": 0
            },
            "text/plain": [
              "  0%|          | 0/3760 [00:00<?, ?it/s]"
            ]
          },
          "metadata": {},
          "output_type": "display_data"
        },
        {
          "name": "stdout",
          "output_type": "stream",
          "text": [
            "min_count = 8, window = 3\n"
          ]
        },
        {
          "data": {
            "application/vnd.jupyter.widget-view+json": {
              "model_id": "56bfc4cf85a345368ae12fbe93da7cb5",
              "version_major": 2,
              "version_minor": 0
            },
            "text/plain": [
              "  0%|          | 0/6 [00:00<?, ?it/s]"
            ]
          },
          "metadata": {},
          "output_type": "display_data"
        },
        {
          "name": "stdout",
          "output_type": "stream",
          "text": [
            "DCG@   1: 0.397 | Hits@   1: 0.397\n",
            "DCG@   5: 0.487 | Hits@   5: 0.567\n",
            "DCG@  10: 0.510 | Hits@  10: 0.637\n",
            "DCG@ 100: 0.557 | Hits@ 100: 0.867\n",
            "DCG@ 500: 0.572 | Hits@ 500: 0.979\n",
            "DCG@1000: 0.574 | Hits@1000: 1.000\n",
            "\n"
          ]
        },
        {
          "data": {
            "application/vnd.jupyter.widget-view+json": {
              "model_id": "8474fb0e296241b4acd9d8f9a9dd2b30",
              "version_major": 2,
              "version_minor": 0
            },
            "text/plain": [
              "  0%|          | 0/3760 [00:00<?, ?it/s]"
            ]
          },
          "metadata": {},
          "output_type": "display_data"
        },
        {
          "name": "stdout",
          "output_type": "stream",
          "text": [
            "min_count = 8, window = 4\n"
          ]
        },
        {
          "data": {
            "application/vnd.jupyter.widget-view+json": {
              "model_id": "6a0982f816b441a5b272c439d21b54ab",
              "version_major": 2,
              "version_minor": 0
            },
            "text/plain": [
              "  0%|          | 0/6 [00:00<?, ?it/s]"
            ]
          },
          "metadata": {},
          "output_type": "display_data"
        },
        {
          "name": "stdout",
          "output_type": "stream",
          "text": [
            "DCG@   1: 0.396 | Hits@   1: 0.396\n",
            "DCG@   5: 0.489 | Hits@   5: 0.573\n",
            "DCG@  10: 0.512 | Hits@  10: 0.644\n",
            "DCG@ 100: 0.560 | Hits@ 100: 0.876\n",
            "DCG@ 500: 0.573 | Hits@ 500: 0.977\n",
            "DCG@1000: 0.576 | Hits@1000: 1.000\n",
            "\n"
          ]
        },
        {
          "data": {
            "application/vnd.jupyter.widget-view+json": {
              "model_id": "628cf9fa1d644d6196db208211c4f4fa",
              "version_major": 2,
              "version_minor": 0
            },
            "text/plain": [
              "  0%|          | 0/3760 [00:00<?, ?it/s]"
            ]
          },
          "metadata": {},
          "output_type": "display_data"
        },
        {
          "name": "stdout",
          "output_type": "stream",
          "text": [
            "min_count = 8, window = 5\n"
          ]
        },
        {
          "data": {
            "application/vnd.jupyter.widget-view+json": {
              "model_id": "62dd4dc1b29c48f0862d6e25acae81fb",
              "version_major": 2,
              "version_minor": 0
            },
            "text/plain": [
              "  0%|          | 0/6 [00:00<?, ?it/s]"
            ]
          },
          "metadata": {},
          "output_type": "display_data"
        },
        {
          "name": "stdout",
          "output_type": "stream",
          "text": [
            "DCG@   1: 0.392 | Hits@   1: 0.392\n",
            "DCG@   5: 0.493 | Hits@   5: 0.579\n",
            "DCG@  10: 0.516 | Hits@  10: 0.652\n",
            "DCG@ 100: 0.562 | Hits@ 100: 0.873\n",
            "DCG@ 500: 0.575 | Hits@ 500: 0.978\n",
            "DCG@1000: 0.578 | Hits@1000: 1.000\n",
            "\n"
          ]
        },
        {
          "data": {
            "application/vnd.jupyter.widget-view+json": {
              "model_id": "da57ecba42814de9bd89f141a6fae411",
              "version_major": 2,
              "version_minor": 0
            },
            "text/plain": [
              "  0%|          | 0/3760 [00:00<?, ?it/s]"
            ]
          },
          "metadata": {},
          "output_type": "display_data"
        },
        {
          "name": "stdout",
          "output_type": "stream",
          "text": [
            "min_count = 8, window = 6\n"
          ]
        },
        {
          "data": {
            "application/vnd.jupyter.widget-view+json": {
              "model_id": "7c11d65fe4db4957bbafc7a884f2ebc7",
              "version_major": 2,
              "version_minor": 0
            },
            "text/plain": [
              "  0%|          | 0/6 [00:00<?, ?it/s]"
            ]
          },
          "metadata": {},
          "output_type": "display_data"
        },
        {
          "name": "stdout",
          "output_type": "stream",
          "text": [
            "DCG@   1: 0.405 | Hits@   1: 0.405\n",
            "DCG@   5: 0.498 | Hits@   5: 0.577\n",
            "DCG@  10: 0.523 | Hits@  10: 0.655\n",
            "DCG@ 100: 0.570 | Hits@ 100: 0.884\n",
            "DCG@ 500: 0.582 | Hits@ 500: 0.978\n",
            "DCG@1000: 0.585 | Hits@1000: 1.000\n",
            "\n"
          ]
        },
        {
          "data": {
            "application/vnd.jupyter.widget-view+json": {
              "model_id": "fccb628c21a740999b05f6d51a6ac7e8",
              "version_major": 2,
              "version_minor": 0
            },
            "text/plain": [
              "  0%|          | 0/3760 [00:00<?, ?it/s]"
            ]
          },
          "metadata": {},
          "output_type": "display_data"
        },
        {
          "name": "stdout",
          "output_type": "stream",
          "text": [
            "min_count = 8, window = 7\n"
          ]
        },
        {
          "data": {
            "application/vnd.jupyter.widget-view+json": {
              "model_id": "6f0ca796e19c4e77b9d432f2f13c6521",
              "version_major": 2,
              "version_minor": 0
            },
            "text/plain": [
              "  0%|          | 0/6 [00:00<?, ?it/s]"
            ]
          },
          "metadata": {},
          "output_type": "display_data"
        },
        {
          "name": "stdout",
          "output_type": "stream",
          "text": [
            "DCG@   1: 0.411 | Hits@   1: 0.411\n",
            "DCG@   5: 0.505 | Hits@   5: 0.586\n",
            "DCG@  10: 0.529 | Hits@  10: 0.662\n",
            "DCG@ 100: 0.574 | Hits@ 100: 0.881\n",
            "DCG@ 500: 0.587 | Hits@ 500: 0.978\n",
            "DCG@1000: 0.589 | Hits@1000: 1.000\n",
            "\n"
          ]
        },
        {
          "data": {
            "application/vnd.jupyter.widget-view+json": {
              "model_id": "cd33acd8d00c48ee9ca42293ece0d95a",
              "version_major": 2,
              "version_minor": 0
            },
            "text/plain": [
              "  0%|          | 0/3760 [00:00<?, ?it/s]"
            ]
          },
          "metadata": {},
          "output_type": "display_data"
        },
        {
          "name": "stdout",
          "output_type": "stream",
          "text": [
            "min_count = 8, window = 8\n"
          ]
        },
        {
          "data": {
            "application/vnd.jupyter.widget-view+json": {
              "model_id": "8b0b5b709aae4c12aaf42a9eabc54f11",
              "version_major": 2,
              "version_minor": 0
            },
            "text/plain": [
              "  0%|          | 0/6 [00:00<?, ?it/s]"
            ]
          },
          "metadata": {},
          "output_type": "display_data"
        },
        {
          "name": "stdout",
          "output_type": "stream",
          "text": [
            "DCG@   1: 0.406 | Hits@   1: 0.406\n",
            "DCG@   5: 0.507 | Hits@   5: 0.594\n",
            "DCG@  10: 0.529 | Hits@  10: 0.664\n",
            "DCG@ 100: 0.574 | Hits@ 100: 0.883\n",
            "DCG@ 500: 0.587 | Hits@ 500: 0.979\n",
            "DCG@1000: 0.589 | Hits@1000: 1.000\n",
            "\n"
          ]
        },
        {
          "data": {
            "application/vnd.jupyter.widget-view+json": {
              "model_id": "33885d63bebb4667a1dadec218e99c08",
              "version_major": 2,
              "version_minor": 0
            },
            "text/plain": [
              "  0%|          | 0/3760 [00:00<?, ?it/s]"
            ]
          },
          "metadata": {},
          "output_type": "display_data"
        },
        {
          "name": "stdout",
          "output_type": "stream",
          "text": [
            "min_count = 8, window = 9\n"
          ]
        },
        {
          "data": {
            "application/vnd.jupyter.widget-view+json": {
              "model_id": "c58de0da2c374224aafc2a5522fcc29f",
              "version_major": 2,
              "version_minor": 0
            },
            "text/plain": [
              "  0%|          | 0/6 [00:00<?, ?it/s]"
            ]
          },
          "metadata": {},
          "output_type": "display_data"
        },
        {
          "name": "stdout",
          "output_type": "stream",
          "text": [
            "DCG@   1: 0.415 | Hits@   1: 0.415\n",
            "DCG@   5: 0.507 | Hits@   5: 0.588\n",
            "DCG@  10: 0.532 | Hits@  10: 0.668\n",
            "DCG@ 100: 0.577 | Hits@ 100: 0.884\n",
            "DCG@ 500: 0.589 | Hits@ 500: 0.978\n",
            "DCG@1000: 0.592 | Hits@1000: 1.000\n",
            "\n"
          ]
        },
        {
          "data": {
            "application/vnd.jupyter.widget-view+json": {
              "model_id": "7bb87ba41b4a4908b8cc42395787ce70",
              "version_major": 2,
              "version_minor": 0
            },
            "text/plain": [
              "  0%|          | 0/3760 [00:00<?, ?it/s]"
            ]
          },
          "metadata": {},
          "output_type": "display_data"
        },
        {
          "name": "stdout",
          "output_type": "stream",
          "text": [
            "min_count = 9, window = 1\n"
          ]
        },
        {
          "data": {
            "application/vnd.jupyter.widget-view+json": {
              "model_id": "0e1d1dcb84a04857b3eb641a9c42cec2",
              "version_major": 2,
              "version_minor": 0
            },
            "text/plain": [
              "  0%|          | 0/6 [00:00<?, ?it/s]"
            ]
          },
          "metadata": {},
          "output_type": "display_data"
        },
        {
          "name": "stdout",
          "output_type": "stream",
          "text": [
            "DCG@   1: 0.394 | Hits@   1: 0.394\n",
            "DCG@   5: 0.481 | Hits@   5: 0.560\n",
            "DCG@  10: 0.509 | Hits@  10: 0.646\n",
            "DCG@ 100: 0.550 | Hits@ 100: 0.851\n",
            "DCG@ 500: 0.565 | Hits@ 500: 0.968\n",
            "DCG@1000: 0.569 | Hits@1000: 1.000\n",
            "\n"
          ]
        },
        {
          "data": {
            "application/vnd.jupyter.widget-view+json": {
              "model_id": "335b6ba31d044328b88bcebd1744d90a",
              "version_major": 2,
              "version_minor": 0
            },
            "text/plain": [
              "  0%|          | 0/3760 [00:00<?, ?it/s]"
            ]
          },
          "metadata": {},
          "output_type": "display_data"
        },
        {
          "name": "stdout",
          "output_type": "stream",
          "text": [
            "min_count = 9, window = 2\n"
          ]
        },
        {
          "data": {
            "application/vnd.jupyter.widget-view+json": {
              "model_id": "62eceb07fbdc4a26a7c72580554354c1",
              "version_major": 2,
              "version_minor": 0
            },
            "text/plain": [
              "  0%|          | 0/6 [00:00<?, ?it/s]"
            ]
          },
          "metadata": {},
          "output_type": "display_data"
        },
        {
          "name": "stdout",
          "output_type": "stream",
          "text": [
            "DCG@   1: 0.389 | Hits@   1: 0.389\n",
            "DCG@   5: 0.483 | Hits@   5: 0.569\n",
            "DCG@  10: 0.506 | Hits@  10: 0.640\n",
            "DCG@ 100: 0.551 | Hits@ 100: 0.864\n",
            "DCG@ 500: 0.566 | Hits@ 500: 0.973\n",
            "DCG@1000: 0.568 | Hits@1000: 1.000\n",
            "\n"
          ]
        },
        {
          "data": {
            "application/vnd.jupyter.widget-view+json": {
              "model_id": "54d69f040d204af8aa5037e70b681c35",
              "version_major": 2,
              "version_minor": 0
            },
            "text/plain": [
              "  0%|          | 0/3760 [00:00<?, ?it/s]"
            ]
          },
          "metadata": {},
          "output_type": "display_data"
        },
        {
          "name": "stdout",
          "output_type": "stream",
          "text": [
            "min_count = 9, window = 3\n"
          ]
        },
        {
          "data": {
            "application/vnd.jupyter.widget-view+json": {
              "model_id": "661593f7d57a417f8a8f30904db23638",
              "version_major": 2,
              "version_minor": 0
            },
            "text/plain": [
              "  0%|          | 0/6 [00:00<?, ?it/s]"
            ]
          },
          "metadata": {},
          "output_type": "display_data"
        },
        {
          "name": "stdout",
          "output_type": "stream",
          "text": [
            "DCG@   1: 0.383 | Hits@   1: 0.383\n",
            "DCG@   5: 0.481 | Hits@   5: 0.568\n",
            "DCG@  10: 0.505 | Hits@  10: 0.643\n",
            "DCG@ 100: 0.550 | Hits@ 100: 0.863\n",
            "DCG@ 500: 0.565 | Hits@ 500: 0.977\n",
            "DCG@1000: 0.568 | Hits@1000: 1.000\n",
            "\n"
          ]
        },
        {
          "data": {
            "application/vnd.jupyter.widget-view+json": {
              "model_id": "70716ff304f74418bfb2cde01c40de4a",
              "version_major": 2,
              "version_minor": 0
            },
            "text/plain": [
              "  0%|          | 0/3760 [00:00<?, ?it/s]"
            ]
          },
          "metadata": {},
          "output_type": "display_data"
        },
        {
          "name": "stdout",
          "output_type": "stream",
          "text": [
            "min_count = 9, window = 4\n"
          ]
        },
        {
          "data": {
            "application/vnd.jupyter.widget-view+json": {
              "model_id": "73918227122d4788af12ade46c323004",
              "version_major": 2,
              "version_minor": 0
            },
            "text/plain": [
              "  0%|          | 0/6 [00:00<?, ?it/s]"
            ]
          },
          "metadata": {},
          "output_type": "display_data"
        },
        {
          "name": "stdout",
          "output_type": "stream",
          "text": [
            "DCG@   1: 0.395 | Hits@   1: 0.395\n",
            "DCG@   5: 0.487 | Hits@   5: 0.568\n",
            "DCG@  10: 0.510 | Hits@  10: 0.640\n",
            "DCG@ 100: 0.559 | Hits@ 100: 0.875\n",
            "DCG@ 500: 0.572 | Hits@ 500: 0.975\n",
            "DCG@1000: 0.575 | Hits@1000: 1.000\n",
            "\n"
          ]
        },
        {
          "data": {
            "application/vnd.jupyter.widget-view+json": {
              "model_id": "cda3074cc200489c80e21d3479dbcab3",
              "version_major": 2,
              "version_minor": 0
            },
            "text/plain": [
              "  0%|          | 0/3760 [00:00<?, ?it/s]"
            ]
          },
          "metadata": {},
          "output_type": "display_data"
        },
        {
          "name": "stdout",
          "output_type": "stream",
          "text": [
            "min_count = 9, window = 5\n"
          ]
        },
        {
          "data": {
            "application/vnd.jupyter.widget-view+json": {
              "model_id": "1d8e7063dbdf4eb4ad91a36c26bce447",
              "version_major": 2,
              "version_minor": 0
            },
            "text/plain": [
              "  0%|          | 0/6 [00:00<?, ?it/s]"
            ]
          },
          "metadata": {},
          "output_type": "display_data"
        },
        {
          "name": "stdout",
          "output_type": "stream",
          "text": [
            "DCG@   1: 0.396 | Hits@   1: 0.396\n",
            "DCG@   5: 0.496 | Hits@   5: 0.580\n",
            "DCG@  10: 0.519 | Hits@  10: 0.655\n",
            "DCG@ 100: 0.564 | Hits@ 100: 0.874\n",
            "DCG@ 500: 0.578 | Hits@ 500: 0.978\n",
            "DCG@1000: 0.580 | Hits@1000: 1.000\n",
            "\n"
          ]
        },
        {
          "data": {
            "application/vnd.jupyter.widget-view+json": {
              "model_id": "976b928f3cc4462e92f0847a948a69d1",
              "version_major": 2,
              "version_minor": 0
            },
            "text/plain": [
              "  0%|          | 0/3760 [00:00<?, ?it/s]"
            ]
          },
          "metadata": {},
          "output_type": "display_data"
        },
        {
          "name": "stdout",
          "output_type": "stream",
          "text": [
            "min_count = 9, window = 6\n"
          ]
        },
        {
          "data": {
            "application/vnd.jupyter.widget-view+json": {
              "model_id": "ad54f518dab446afa4f0148c2b64e2a4",
              "version_major": 2,
              "version_minor": 0
            },
            "text/plain": [
              "  0%|          | 0/6 [00:00<?, ?it/s]"
            ]
          },
          "metadata": {},
          "output_type": "display_data"
        },
        {
          "name": "stdout",
          "output_type": "stream",
          "text": [
            "DCG@   1: 0.400 | Hits@   1: 0.400\n",
            "DCG@   5: 0.498 | Hits@   5: 0.582\n",
            "DCG@  10: 0.520 | Hits@  10: 0.652\n",
            "DCG@ 100: 0.568 | Hits@ 100: 0.880\n",
            "DCG@ 500: 0.581 | Hits@ 500: 0.979\n",
            "DCG@1000: 0.583 | Hits@1000: 1.000\n",
            "\n"
          ]
        },
        {
          "data": {
            "application/vnd.jupyter.widget-view+json": {
              "model_id": "bf5cbc5258c84780a8336811db03ce94",
              "version_major": 2,
              "version_minor": 0
            },
            "text/plain": [
              "  0%|          | 0/3760 [00:00<?, ?it/s]"
            ]
          },
          "metadata": {},
          "output_type": "display_data"
        },
        {
          "name": "stdout",
          "output_type": "stream",
          "text": [
            "min_count = 9, window = 7\n"
          ]
        },
        {
          "data": {
            "application/vnd.jupyter.widget-view+json": {
              "model_id": "f2505d5ca6dd4332a95ea98fb8cf1990",
              "version_major": 2,
              "version_minor": 0
            },
            "text/plain": [
              "  0%|          | 0/6 [00:00<?, ?it/s]"
            ]
          },
          "metadata": {},
          "output_type": "display_data"
        },
        {
          "name": "stdout",
          "output_type": "stream",
          "text": [
            "DCG@   1: 0.410 | Hits@   1: 0.410\n",
            "DCG@   5: 0.502 | Hits@   5: 0.581\n",
            "DCG@  10: 0.527 | Hits@  10: 0.658\n",
            "DCG@ 100: 0.573 | Hits@ 100: 0.882\n",
            "DCG@ 500: 0.585 | Hits@ 500: 0.976\n",
            "DCG@1000: 0.588 | Hits@1000: 1.000\n",
            "\n"
          ]
        },
        {
          "data": {
            "application/vnd.jupyter.widget-view+json": {
              "model_id": "d5576645d11b4673be118166feb4087f",
              "version_major": 2,
              "version_minor": 0
            },
            "text/plain": [
              "  0%|          | 0/3760 [00:00<?, ?it/s]"
            ]
          },
          "metadata": {},
          "output_type": "display_data"
        },
        {
          "name": "stdout",
          "output_type": "stream",
          "text": [
            "min_count = 9, window = 8\n"
          ]
        },
        {
          "data": {
            "application/vnd.jupyter.widget-view+json": {
              "model_id": "d1badfe5c1b74ab883884a5749ec0fe9",
              "version_major": 2,
              "version_minor": 0
            },
            "text/plain": [
              "  0%|          | 0/6 [00:00<?, ?it/s]"
            ]
          },
          "metadata": {},
          "output_type": "display_data"
        },
        {
          "name": "stdout",
          "output_type": "stream",
          "text": [
            "DCG@   1: 0.417 | Hits@   1: 0.417\n",
            "DCG@   5: 0.505 | Hits@   5: 0.583\n",
            "DCG@  10: 0.530 | Hits@  10: 0.659\n",
            "DCG@ 100: 0.577 | Hits@ 100: 0.884\n",
            "DCG@ 500: 0.589 | Hits@ 500: 0.978\n",
            "DCG@1000: 0.591 | Hits@1000: 1.000\n",
            "\n"
          ]
        },
        {
          "data": {
            "application/vnd.jupyter.widget-view+json": {
              "model_id": "c49ef1d925094f169a70eeaa9b8ed56c",
              "version_major": 2,
              "version_minor": 0
            },
            "text/plain": [
              "  0%|          | 0/3760 [00:00<?, ?it/s]"
            ]
          },
          "metadata": {},
          "output_type": "display_data"
        },
        {
          "name": "stdout",
          "output_type": "stream",
          "text": [
            "min_count = 9, window = 9\n"
          ]
        },
        {
          "data": {
            "application/vnd.jupyter.widget-view+json": {
              "model_id": "69c1ee51b2954fe6a300316da1424138",
              "version_major": 2,
              "version_minor": 0
            },
            "text/plain": [
              "  0%|          | 0/6 [00:00<?, ?it/s]"
            ]
          },
          "metadata": {},
          "output_type": "display_data"
        },
        {
          "name": "stdout",
          "output_type": "stream",
          "text": [
            "DCG@   1: 0.414 | Hits@   1: 0.414\n",
            "DCG@   5: 0.509 | Hits@   5: 0.591\n",
            "DCG@  10: 0.533 | Hits@  10: 0.665\n",
            "DCG@ 100: 0.579 | Hits@ 100: 0.886\n",
            "DCG@ 500: 0.591 | Hits@ 500: 0.979\n",
            "DCG@1000: 0.594 | Hits@1000: 1.000\n",
            "\n"
          ]
        }
      ],
      "source": [
        "from gensim.models import Word2Vec\n",
        "\n",
        "dcg_score_history = []\n",
        "hits_count_history = []\n",
        "\n",
        "for min_count in range(1, 10):\n",
        "    for window in range(1, 10):\n",
        "        embeddings_trained = Word2Vec(\n",
        "            sentences=corpus,        # Корпус токенизированных текстов\n",
        "            vector_size=200,         # Размерность векторов\n",
        "            window=window,                # Размер окна контекста\n",
        "            min_count=min_count,             # Минимальная частота слов\n",
        "            workers=8                # Количество потоков\n",
        "        ).wv\n",
        "\n",
        "        wv_ranking = []\n",
        "        max_validation_examples = 1000\n",
        "        tokenizer = MyTokenizer()\n",
        "        for i, line in enumerate(tqdm(validation_data)):\n",
        "            if i == max_validation_examples:\n",
        "                break\n",
        "            q, *ex = line\n",
        "            ranks = rank_candidates(q, ex, embeddings_trained, tokenizer)\n",
        "            wv_ranking.append([r[0] for r in ranks].index(0) + 1)\n",
        "        print(f\"min_count = {min_count}, window = {window}\")\n",
        "        for k in tqdm([1, 5, 10, 100, 500, 1000]):\n",
        "            print(\"DCG@%4d: %.3f | Hits@%4d: %.3f\" % (k, dcg_score(wv_ranking, k), k, hits_count(wv_ranking, k)))\n",
        "            dcg_score_history.append(dcg_score(wv_ranking, k))\n",
        "            hits_count_history.append(hits_count(wv_ranking, k))\n",
        "        print()\n",
        "        "
      ]
    },
    {
      "cell_type": "code",
      "execution_count": null,
      "metadata": {},
      "outputs": [
        {
          "data": {
            "text/html": [
              "<div>\n",
              "<style scoped>\n",
              "    .dataframe tbody tr th:only-of-type {\n",
              "        vertical-align: middle;\n",
              "    }\n",
              "\n",
              "    .dataframe tbody tr th {\n",
              "        vertical-align: top;\n",
              "    }\n",
              "\n",
              "    .dataframe thead th {\n",
              "        text-align: right;\n",
              "    }\n",
              "</style>\n",
              "<table border=\"1\" class=\"dataframe\">\n",
              "  <thead>\n",
              "    <tr style=\"text-align: right;\">\n",
              "      <th></th>\n",
              "      <th>DCG@1</th>\n",
              "      <th>DCG@5</th>\n",
              "      <th>DCG@10</th>\n",
              "      <th>DCG@100</th>\n",
              "      <th>DCG@500</th>\n",
              "      <th>DCG@1000</th>\n",
              "      <th>Hits@1</th>\n",
              "      <th>Hits@5</th>\n",
              "      <th>Hits@10</th>\n",
              "      <th>Hits@100</th>\n",
              "      <th>Hits@500</th>\n",
              "      <th>Hits@1000</th>\n",
              "      <th>SUM</th>\n",
              "    </tr>\n",
              "  </thead>\n",
              "  <tbody>\n",
              "    <tr>\n",
              "      <th>Min_1/Win_1</th>\n",
              "      <td>0.358</td>\n",
              "      <td>0.449294</td>\n",
              "      <td>0.473716</td>\n",
              "      <td>0.516790</td>\n",
              "      <td>0.533568</td>\n",
              "      <td>0.538747</td>\n",
              "      <td>0.358</td>\n",
              "      <td>0.534</td>\n",
              "      <td>0.610</td>\n",
              "      <td>0.821</td>\n",
              "      <td>0.951</td>\n",
              "      <td>1.0</td>\n",
              "      <td>7.144115</td>\n",
              "    </tr>\n",
              "    <tr>\n",
              "      <th>Min_1/Win_2</th>\n",
              "      <td>0.375</td>\n",
              "      <td>0.463723</td>\n",
              "      <td>0.488898</td>\n",
              "      <td>0.536146</td>\n",
              "      <td>0.551260</td>\n",
              "      <td>0.554427</td>\n",
              "      <td>0.375</td>\n",
              "      <td>0.540</td>\n",
              "      <td>0.618</td>\n",
              "      <td>0.852</td>\n",
              "      <td>0.970</td>\n",
              "      <td>1.0</td>\n",
              "      <td>7.324453</td>\n",
              "    </tr>\n",
              "    <tr>\n",
              "      <th>Min_1/Win_3</th>\n",
              "      <td>0.379</td>\n",
              "      <td>0.471943</td>\n",
              "      <td>0.494429</td>\n",
              "      <td>0.543389</td>\n",
              "      <td>0.557576</td>\n",
              "      <td>0.560668</td>\n",
              "      <td>0.379</td>\n",
              "      <td>0.554</td>\n",
              "      <td>0.624</td>\n",
              "      <td>0.862</td>\n",
              "      <td>0.971</td>\n",
              "      <td>1.0</td>\n",
              "      <td>7.397006</td>\n",
              "    </tr>\n",
              "    <tr>\n",
              "      <th>Min_1/Win_4</th>\n",
              "      <td>0.387</td>\n",
              "      <td>0.475923</td>\n",
              "      <td>0.501553</td>\n",
              "      <td>0.549254</td>\n",
              "      <td>0.563779</td>\n",
              "      <td>0.566212</td>\n",
              "      <td>0.387</td>\n",
              "      <td>0.554</td>\n",
              "      <td>0.634</td>\n",
              "      <td>0.866</td>\n",
              "      <td>0.977</td>\n",
              "      <td>1.0</td>\n",
              "      <td>7.461722</td>\n",
              "    </tr>\n",
              "    <tr>\n",
              "      <th>Min_1/Win_5</th>\n",
              "      <td>0.394</td>\n",
              "      <td>0.483231</td>\n",
              "      <td>0.509244</td>\n",
              "      <td>0.556287</td>\n",
              "      <td>0.569804</td>\n",
              "      <td>0.572355</td>\n",
              "      <td>0.394</td>\n",
              "      <td>0.564</td>\n",
              "      <td>0.644</td>\n",
              "      <td>0.873</td>\n",
              "      <td>0.976</td>\n",
              "      <td>1.0</td>\n",
              "      <td>7.535921</td>\n",
              "    </tr>\n",
              "    <tr>\n",
              "      <th>...</th>\n",
              "      <td>...</td>\n",
              "      <td>...</td>\n",
              "      <td>...</td>\n",
              "      <td>...</td>\n",
              "      <td>...</td>\n",
              "      <td>...</td>\n",
              "      <td>...</td>\n",
              "      <td>...</td>\n",
              "      <td>...</td>\n",
              "      <td>...</td>\n",
              "      <td>...</td>\n",
              "      <td>...</td>\n",
              "      <td>...</td>\n",
              "    </tr>\n",
              "    <tr>\n",
              "      <th>Min_9/Win_5</th>\n",
              "      <td>0.396</td>\n",
              "      <td>0.495562</td>\n",
              "      <td>0.519405</td>\n",
              "      <td>0.564440</td>\n",
              "      <td>0.578094</td>\n",
              "      <td>0.580445</td>\n",
              "      <td>0.396</td>\n",
              "      <td>0.580</td>\n",
              "      <td>0.655</td>\n",
              "      <td>0.874</td>\n",
              "      <td>0.978</td>\n",
              "      <td>1.0</td>\n",
              "      <td>7.616945</td>\n",
              "    </tr>\n",
              "    <tr>\n",
              "      <th>Min_9/Win_6</th>\n",
              "      <td>0.400</td>\n",
              "      <td>0.497833</td>\n",
              "      <td>0.520297</td>\n",
              "      <td>0.567748</td>\n",
              "      <td>0.580638</td>\n",
              "      <td>0.582883</td>\n",
              "      <td>0.400</td>\n",
              "      <td>0.582</td>\n",
              "      <td>0.652</td>\n",
              "      <td>0.880</td>\n",
              "      <td>0.979</td>\n",
              "      <td>1.0</td>\n",
              "      <td>7.642399</td>\n",
              "    </tr>\n",
              "    <tr>\n",
              "      <th>Min_9/Win_7</th>\n",
              "      <td>0.410</td>\n",
              "      <td>0.502007</td>\n",
              "      <td>0.526633</td>\n",
              "      <td>0.573088</td>\n",
              "      <td>0.585400</td>\n",
              "      <td>0.587969</td>\n",
              "      <td>0.410</td>\n",
              "      <td>0.581</td>\n",
              "      <td>0.658</td>\n",
              "      <td>0.882</td>\n",
              "      <td>0.976</td>\n",
              "      <td>1.0</td>\n",
              "      <td>7.692098</td>\n",
              "    </tr>\n",
              "    <tr>\n",
              "      <th>Min_9/Win_8</th>\n",
              "      <td>0.417</td>\n",
              "      <td>0.505241</td>\n",
              "      <td>0.529732</td>\n",
              "      <td>0.576538</td>\n",
              "      <td>0.588856</td>\n",
              "      <td>0.591215</td>\n",
              "      <td>0.417</td>\n",
              "      <td>0.583</td>\n",
              "      <td>0.659</td>\n",
              "      <td>0.884</td>\n",
              "      <td>0.978</td>\n",
              "      <td>1.0</td>\n",
              "      <td>7.729582</td>\n",
              "    </tr>\n",
              "    <tr>\n",
              "      <th>Min_9/Win_9</th>\n",
              "      <td>0.414</td>\n",
              "      <td>0.509155</td>\n",
              "      <td>0.533010</td>\n",
              "      <td>0.579187</td>\n",
              "      <td>0.591272</td>\n",
              "      <td>0.593518</td>\n",
              "      <td>0.414</td>\n",
              "      <td>0.591</td>\n",
              "      <td>0.665</td>\n",
              "      <td>0.886</td>\n",
              "      <td>0.979</td>\n",
              "      <td>1.0</td>\n",
              "      <td>7.755143</td>\n",
              "    </tr>\n",
              "  </tbody>\n",
              "</table>\n",
              "<p>81 rows × 13 columns</p>\n",
              "</div>"
            ],
            "text/plain": [
              "             DCG@1     DCG@5    DCG@10   DCG@100   DCG@500  DCG@1000  Hits@1  \\\n",
              "Min_1/Win_1  0.358  0.449294  0.473716  0.516790  0.533568  0.538747   0.358   \n",
              "Min_1/Win_2  0.375  0.463723  0.488898  0.536146  0.551260  0.554427   0.375   \n",
              "Min_1/Win_3  0.379  0.471943  0.494429  0.543389  0.557576  0.560668   0.379   \n",
              "Min_1/Win_4  0.387  0.475923  0.501553  0.549254  0.563779  0.566212   0.387   \n",
              "Min_1/Win_5  0.394  0.483231  0.509244  0.556287  0.569804  0.572355   0.394   \n",
              "...            ...       ...       ...       ...       ...       ...     ...   \n",
              "Min_9/Win_5  0.396  0.495562  0.519405  0.564440  0.578094  0.580445   0.396   \n",
              "Min_9/Win_6  0.400  0.497833  0.520297  0.567748  0.580638  0.582883   0.400   \n",
              "Min_9/Win_7  0.410  0.502007  0.526633  0.573088  0.585400  0.587969   0.410   \n",
              "Min_9/Win_8  0.417  0.505241  0.529732  0.576538  0.588856  0.591215   0.417   \n",
              "Min_9/Win_9  0.414  0.509155  0.533010  0.579187  0.591272  0.593518   0.414   \n",
              "\n",
              "             Hits@5  Hits@10  Hits@100  Hits@500  Hits@1000       SUM  \n",
              "Min_1/Win_1   0.534    0.610     0.821     0.951        1.0  7.144115  \n",
              "Min_1/Win_2   0.540    0.618     0.852     0.970        1.0  7.324453  \n",
              "Min_1/Win_3   0.554    0.624     0.862     0.971        1.0  7.397006  \n",
              "Min_1/Win_4   0.554    0.634     0.866     0.977        1.0  7.461722  \n",
              "Min_1/Win_5   0.564    0.644     0.873     0.976        1.0  7.535921  \n",
              "...             ...      ...       ...       ...        ...       ...  \n",
              "Min_9/Win_5   0.580    0.655     0.874     0.978        1.0  7.616945  \n",
              "Min_9/Win_6   0.582    0.652     0.880     0.979        1.0  7.642399  \n",
              "Min_9/Win_7   0.581    0.658     0.882     0.976        1.0  7.692098  \n",
              "Min_9/Win_8   0.583    0.659     0.884     0.978        1.0  7.729582  \n",
              "Min_9/Win_9   0.591    0.665     0.886     0.979        1.0  7.755143  \n",
              "\n",
              "[81 rows x 13 columns]"
            ]
          },
          "execution_count": 53,
          "metadata": {},
          "output_type": "execute_result"
        }
      ],
      "source": [
        "columns = ['DCG@1','DCG@5','DCG@10','DCG@100','DCG@500','DCG@1000',\n",
        "           'Hits@1','Hits@5','Hits@10','Hits@100','Hits@500','Hits@1000']\n",
        "row_list = []\n",
        "for i in range(1,10):\n",
        "    for j in range(1,10):\n",
        "        row_list.append('Min_' + str(i) + '/Win_' + str(j))\n",
        "\n",
        "df = pd.DataFrame()\n",
        "m = n = 0\n",
        "for row in row_list:\n",
        "    for dcg in columns[:6]:\n",
        "        df.loc[row, dcg] = dcg_score_history[m]\n",
        "        m += 1\n",
        "    for hits in columns[6:]:\n",
        "        df.loc[row, hits] = hits_count_history[n]\n",
        "        n += 1\n",
        "\n",
        "df['SUM'] = df.sum(axis=1)\n",
        "df"
      ]
    },
    {
      "cell_type": "code",
      "execution_count": 56,
      "metadata": {},
      "outputs": [
        {
          "data": {
            "text/html": [
              "<div>\n",
              "<style scoped>\n",
              "    .dataframe tbody tr th:only-of-type {\n",
              "        vertical-align: middle;\n",
              "    }\n",
              "\n",
              "    .dataframe tbody tr th {\n",
              "        vertical-align: top;\n",
              "    }\n",
              "\n",
              "    .dataframe thead th {\n",
              "        text-align: right;\n",
              "    }\n",
              "</style>\n",
              "<table border=\"1\" class=\"dataframe\">\n",
              "  <thead>\n",
              "    <tr style=\"text-align: right;\">\n",
              "      <th></th>\n",
              "      <th>DCG@1</th>\n",
              "      <th>DCG@5</th>\n",
              "      <th>DCG@10</th>\n",
              "      <th>DCG@100</th>\n",
              "      <th>DCG@500</th>\n",
              "      <th>DCG@1000</th>\n",
              "      <th>Hits@1</th>\n",
              "      <th>Hits@5</th>\n",
              "      <th>Hits@10</th>\n",
              "      <th>Hits@100</th>\n",
              "      <th>Hits@500</th>\n",
              "      <th>Hits@1000</th>\n",
              "      <th>SUM</th>\n",
              "    </tr>\n",
              "  </thead>\n",
              "  <tbody>\n",
              "    <tr>\n",
              "      <th>Min_7/Win_9</th>\n",
              "      <td>0.417</td>\n",
              "      <td>0.509045</td>\n",
              "      <td>0.533038</td>\n",
              "      <td>0.578429</td>\n",
              "      <td>0.591035</td>\n",
              "      <td>0.593165</td>\n",
              "      <td>0.417</td>\n",
              "      <td>0.59</td>\n",
              "      <td>0.664</td>\n",
              "      <td>0.883</td>\n",
              "      <td>0.98</td>\n",
              "      <td>1.0</td>\n",
              "      <td>7.755713</td>\n",
              "    </tr>\n",
              "  </tbody>\n",
              "</table>\n",
              "</div>"
            ],
            "text/plain": [
              "             DCG@1     DCG@5    DCG@10   DCG@100   DCG@500  DCG@1000  Hits@1  \\\n",
              "Min_7/Win_9  0.417  0.509045  0.533038  0.578429  0.591035  0.593165   0.417   \n",
              "\n",
              "             Hits@5  Hits@10  Hits@100  Hits@500  Hits@1000       SUM  \n",
              "Min_7/Win_9    0.59    0.664     0.883      0.98        1.0  7.755713  "
            ]
          },
          "execution_count": 56,
          "metadata": {},
          "output_type": "execute_result"
        }
      ],
      "source": [
        "df[df['SUM'] == df['SUM'].max()]"
      ]
    },
    {
      "cell_type": "markdown",
      "metadata": {},
      "source": [
        "Получается оптимальные значения min_count и window 7 и 9 соответственно"
      ]
    },
    {
      "cell_type": "markdown",
      "metadata": {},
      "source": [
        "#### Попробуем другой токенизатор"
      ]
    },
    {
      "cell_type": "code",
      "execution_count": null,
      "metadata": {},
      "outputs": [],
      "source": [
        "from nltk.tokenize import WordPunctTokenizer"
      ]
    },
    {
      "cell_type": "code",
      "execution_count": 58,
      "metadata": {},
      "outputs": [
        {
          "data": {
            "application/vnd.jupyter.widget-view+json": {
              "model_id": "8d3dc3c8e31e4c4bb2d4ce2de996e361",
              "version_major": 2,
              "version_minor": 0
            },
            "text/plain": [
              "  0%|          | 0/3760 [00:00<?, ?it/s]"
            ]
          },
          "metadata": {},
          "output_type": "display_data"
        },
        {
          "data": {
            "application/vnd.jupyter.widget-view+json": {
              "model_id": "574a21c690af41d0b27091203834bdec",
              "version_major": 2,
              "version_minor": 0
            },
            "text/plain": [
              "  0%|          | 0/6 [00:00<?, ?it/s]"
            ]
          },
          "metadata": {},
          "output_type": "display_data"
        },
        {
          "name": "stdout",
          "output_type": "stream",
          "text": [
            "DCG@   1: 0.411 | Hits@   1: 0.411\n",
            "DCG@   5: 0.491 | Hits@   5: 0.562\n",
            "DCG@  10: 0.517 | Hits@  10: 0.642\n",
            "DCG@ 100: 0.562 | Hits@ 100: 0.863\n",
            "DCG@ 500: 0.576 | Hits@ 500: 0.972\n",
            "DCG@1000: 0.579 | Hits@1000: 1.000\n"
          ]
        }
      ],
      "source": [
        "embeddings_trained = Word2Vec(\n",
        "    sentences=corpus,        # Корпус токенизированных текстов\n",
        "    vector_size=200,         # Размерность векторов\n",
        "    window=9,                # Размер окна контекста\n",
        "    min_count=7,             # Минимальная частота слов\n",
        "    workers=8                # Количество потоков\n",
        ").wv\n",
        "\n",
        "wv_ranking = []\n",
        "max_validation_examples = 1000\n",
        "tokenizer = WordPunctTokenizer()\n",
        "for i, line in enumerate(tqdm(validation_data)):\n",
        "    if i == max_validation_examples:\n",
        "        break\n",
        "    q, *ex = line\n",
        "    ranks = rank_candidates(q, ex, embeddings_trained, tokenizer)\n",
        "    wv_ranking.append([r[0] for r in ranks].index(0) + 1)\n",
        "for k in tqdm([1, 5, 10, 100, 500, 1000]):\n",
        "    print(\"DCG@%4d: %.3f | Hits@%4d: %.3f\" % (k, dcg_score(wv_ranking, k), k, hits_count(wv_ranking, k)))"
      ]
    },
    {
      "cell_type": "markdown",
      "metadata": {},
      "source": [
        "Результат оказался хуже"
      ]
    },
    {
      "cell_type": "markdown",
      "metadata": {},
      "source": [
        "#### Нормализация (лемматизация)"
      ]
    },
    {
      "cell_type": "code",
      "execution_count": 16,
      "metadata": {},
      "outputs": [],
      "source": [
        "import spacy"
      ]
    },
    {
      "cell_type": "markdown",
      "metadata": {},
      "source": [
        "Для нормализации придётся использовать токенизатор от Spacy"
      ]
    },
    {
      "cell_type": "code",
      "execution_count": 17,
      "metadata": {},
      "outputs": [],
      "source": [
        "nlp = spacy.load('en_core_web_sm')"
      ]
    },
    {
      "cell_type": "code",
      "execution_count": 18,
      "metadata": {},
      "outputs": [],
      "source": [
        "def preprocess(text):\n",
        "    spacy_text = nlp(text)\n",
        "    print(spacy_text)\n",
        "    lemma_text = ' '.join([token.lemma_ for token in spacy_text])\n",
        "    print(lemma_text)\n",
        "    result = ' '.join([word for word in word_tokenize(lemma_text.lower()) if word not in stopWords]) # из семинара\n",
        "    print(result)\n",
        "    return result"
      ]
    },
    {
      "cell_type": "code",
      "execution_count": null,
      "metadata": {},
      "outputs": [],
      "source": [
        "# Создаем общий корпус текстов\n",
        "corpus = []\n",
        "\n",
        "for idx, couple in enumerate(train_data):\n",
        "    combined_text = couple[0] + \" \" + couple[1]\n",
        "    corpus.append(preprocess(combined_text).split())\n",
        "    print(f\"Обрабатывается элемент {idx}\")\n"
      ]
    },
    {
      "cell_type": "code",
      "execution_count": 20,
      "metadata": {},
      "outputs": [
        {
          "data": {
            "text/plain": [
              "['converting string to list',\n",
              " 'Convert Google results object (pure js) to Python object']"
            ]
          },
          "execution_count": 20,
          "metadata": {},
          "output_type": "execute_result"
        }
      ],
      "source": [
        "train_data[0]"
      ]
    },
    {
      "cell_type": "code",
      "execution_count": 21,
      "metadata": {},
      "outputs": [
        {
          "data": {
            "text/plain": [
              "['convert',\n",
              " 'string',\n",
              " 'list',\n",
              " 'convert',\n",
              " 'google',\n",
              " 'result',\n",
              " 'object',\n",
              " '(',\n",
              " 'pure',\n",
              " 'js',\n",
              " ')',\n",
              " 'python',\n",
              " 'object']"
            ]
          },
          "execution_count": 21,
          "metadata": {},
          "output_type": "execute_result"
        }
      ],
      "source": [
        "corpus[0]"
      ]
    },
    {
      "cell_type": "code",
      "execution_count": 26,
      "metadata": {},
      "outputs": [
        {
          "data": {
            "application/vnd.jupyter.widget-view+json": {
              "model_id": "c472865845a84f028a5adbd989b21244",
              "version_major": 2,
              "version_minor": 0
            },
            "text/plain": [
              "  0%|          | 0/3760 [00:00<?, ?it/s]"
            ]
          },
          "metadata": {},
          "output_type": "display_data"
        },
        {
          "data": {
            "application/vnd.jupyter.widget-view+json": {
              "model_id": "9d6fbe7c8ec14ade8916cb7fc1b2a5e4",
              "version_major": 2,
              "version_minor": 0
            },
            "text/plain": [
              "  0%|          | 0/6 [00:00<?, ?it/s]"
            ]
          },
          "metadata": {},
          "output_type": "display_data"
        },
        {
          "name": "stdout",
          "output_type": "stream",
          "text": [
            "DCG@   1: 0.406 | Hits@   1: 0.406\n",
            "DCG@   5: 0.498 | Hits@   5: 0.579\n",
            "DCG@  10: 0.523 | Hits@  10: 0.655\n",
            "DCG@ 100: 0.568 | Hits@ 100: 0.872\n",
            "DCG@ 500: 0.582 | Hits@ 500: 0.980\n",
            "DCG@1000: 0.584 | Hits@1000: 1.000\n"
          ]
        }
      ],
      "source": [
        "embeddings_trained = Word2Vec(\n",
        "    sentences=corpus,        # Корпус токенизированных текстов\n",
        "    vector_size=200,         # Размерность векторов\n",
        "    window=9,                # Размер окна контекста\n",
        "    min_count=7,             # Минимальная частота слов\n",
        "    workers=8                # Количество потоков\n",
        ").wv\n",
        "\n",
        "wv_ranking = []\n",
        "max_validation_examples = 1000\n",
        "tokenizer = MyTokenizer()\n",
        "for i, line in enumerate(tqdm(validation_data)):\n",
        "    if i == max_validation_examples:\n",
        "        break\n",
        "    q, *ex = line\n",
        "    ranks = rank_candidates(q, ex, embeddings_trained, tokenizer)\n",
        "    wv_ranking.append([r[0] for r in ranks].index(0) + 1)\n",
        "for k in tqdm([1, 5, 10, 100, 500, 1000]):\n",
        "    print(\"DCG@%4d: %.3f | Hits@%4d: %.3f\" % (k, dcg_score(wv_ranking, k), k, hits_count(wv_ranking, k)))"
      ]
    },
    {
      "cell_type": "markdown",
      "metadata": {},
      "source": [
        "Результат оказался хуже"
      ]
    },
    {
      "cell_type": "markdown",
      "metadata": {
        "id": "tY8PxB0j-ThG"
      },
      "source": [
        "### Замечание:\n",
        "Решить эту задачу с помощью обучения полноценной нейронной сети будет вам предложено, как часть задания в одной из домашних работ по теме \"Диалоговые системы\"."
      ]
    },
    {
      "cell_type": "markdown",
      "metadata": {
        "id": "vymVj8IxO2PO"
      },
      "source": [
        "Напишите свой вывод о полученных результатах.\n",
        "* Какой принцип токенизации даёт качество лучше и почему?\n",
        "* Помогает ли нормализация слов?\n",
        "* Какие эмбеддинги лучше справляются с задачей и почему?\n",
        "* Почему получилось плохое качество решения задачи?\n",
        "* Предложите свой подход к решению задачи.\n",
        "\n",
        "## Вывод:\n"
      ]
    },
    {
      "cell_type": "markdown",
      "metadata": {
        "id": "emODHztAQUQz"
      },
      "source": [
        "**Какой принцип токенизации даёт качество лучше и почему?**\n",
        "\n",
        "Лучшее качество даёт токенизация с помощью регулярных выражений и без лемматизации, т.к таким образом для данного текста получается лучшее ранжирование"
      ]
    },
    {
      "cell_type": "markdown",
      "metadata": {},
      "source": [
        "**Помогает ли нормализация слов?**\n",
        "\n",
        "С данным текстом нормализация слов не помогает"
      ]
    },
    {
      "cell_type": "markdown",
      "metadata": {},
      "source": [
        "**Какие эмбеддинги лучше справляются с задачей и почему?**\n",
        "\n",
        "Лучше всего справляются эмбеддинги с гиперпараметром min_count = 7, что позволяло пропускать повторяющиеся слова, с гиперпараметром window = 9, что позволяло использовать большое сколзящее окно, и с отсутствием нормализации."
      ]
    },
    {
      "cell_type": "markdown",
      "metadata": {},
      "source": [
        "**Почему получилось плохое качество решения задачи?**\n",
        "\n",
        "Скорее всего это связано с тем, что модель Word2Vec довольно старое решение, не учитывающее многие аспекты: контекст, плохая обработка редко встречающихся слов."
      ]
    },
    {
      "cell_type": "markdown",
      "metadata": {},
      "source": [
        "**Предложите свой подход к решению задачи.**\n",
        "\n",
        "Улучшить результат можно использованием более современных моделей - GloVe и FastText, которые устраняют вышеописанные недостатки."
      ]
    }
  ],
  "metadata": {
    "colab": {
      "provenance": []
    },
    "kernelspec": {
      "display_name": "base",
      "language": "python",
      "name": "python3"
    },
    "language_info": {
      "codemirror_mode": {
        "name": "ipython",
        "version": 3
      },
      "file_extension": ".py",
      "mimetype": "text/x-python",
      "name": "python",
      "nbconvert_exporter": "python",
      "pygments_lexer": "ipython3",
      "version": "3.12.7"
    }
  },
  "nbformat": 4,
  "nbformat_minor": 0
}
