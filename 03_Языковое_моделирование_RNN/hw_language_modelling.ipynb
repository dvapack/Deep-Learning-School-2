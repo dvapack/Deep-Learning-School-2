{
  "cells": [
    {
      "cell_type": "markdown",
      "metadata": {
        "id": "d0ADTojbpfLt"
      },
      "source": [
        "<p style=\"align: center;\"><img src=\"https://static.tildacdn.com/tild6636-3531-4239-b465-376364646465/Deep_Learning_School.png\" width=\"400\"></p>\n",
        "\n",
        "# Домашнее задание. Обучение языковой модели с помощью LSTM (10 баллов)"
      ]
    },
    {
      "cell_type": "markdown",
      "metadata": {
        "id": "ldHSmYY6p_mZ"
      },
      "source": [
        "Э\n",
        "В этом задании Вам предстоит обучить языковую модель с помощью рекуррентной нейронной сети. В отличие от семинарского занятия, Вам необходимо будет работать с отдельными словами, а не буквами.\n",
        "\n",
        "\n",
        "Установим модуль ```datasets```, чтобы нам проще было работать с данными."
      ]
    },
    {
      "cell_type": "markdown",
      "metadata": {
        "id": "rh9ZXSeCpng9"
      },
      "source": [
        "Импорт необходимых библиотек"
      ]
    },
    {
      "cell_type": "code",
      "execution_count": 1,
      "metadata": {
        "id": "XOJi16bLpd_O"
      },
      "outputs": [],
      "source": [
        "import torch\n",
        "import torch.nn as nn\n",
        "from torch.utils.data import Dataset, DataLoader\n",
        "\n",
        "import numpy as np\n",
        "import matplotlib.pyplot as plt\n",
        "\n",
        "from tqdm.auto import tqdm\n",
        "from datasets import load_dataset\n",
        "from nltk.tokenize import sent_tokenize, word_tokenize\n",
        "from sklearn.model_selection import train_test_split\n",
        "import nltk\n",
        "\n",
        "from collections import Counter\n",
        "from typing import List\n",
        "\n",
        "import seaborn\n",
        "seaborn.set(palette='summer')"
      ]
    },
    {
      "cell_type": "code",
      "execution_count": 2,
      "metadata": {
        "id": "91JuM0SQvXud"
      },
      "outputs": [
        {
          "name": "stderr",
          "output_type": "stream",
          "text": [
            "[nltk_data] Downloading package punkt to\n",
            "[nltk_data]     C:\\Users\\mserg\\AppData\\Roaming\\nltk_data...\n",
            "[nltk_data]   Package punkt is already up-to-date!\n"
          ]
        },
        {
          "data": {
            "text/plain": [
              "True"
            ]
          },
          "execution_count": 2,
          "metadata": {},
          "output_type": "execute_result"
        }
      ],
      "source": [
        "nltk.download('punkt')"
      ]
    },
    {
      "cell_type": "code",
      "execution_count": 3,
      "metadata": {
        "id": "adJC8ShFq9HM"
      },
      "outputs": [
        {
          "data": {
            "text/plain": [
              "'cuda'"
            ]
          },
          "execution_count": 3,
          "metadata": {},
          "output_type": "execute_result"
        }
      ],
      "source": [
        "device = 'cuda' if torch.cuda.is_available() else 'cpu'\n",
        "device"
      ]
    },
    {
      "cell_type": "markdown",
      "metadata": {
        "id": "pwsfS1ENq5ig"
      },
      "source": [
        "## Подготовка данных\n",
        "\n",
        "Воспользуемся датасетом imdb. В нем хранятся отзывы о фильмах с сайта imdb. Загрузим данные с помощью функции ```load_dataset```"
      ]
    },
    {
      "cell_type": "code",
      "execution_count": 4,
      "metadata": {
        "id": "qHLNWOfJqSfc"
      },
      "outputs": [],
      "source": [
        "# Загрузим датасет\n",
        "dataset = load_dataset('imdb')"
      ]
    },
    {
      "cell_type": "markdown",
      "metadata": {
        "id": "24gn7CuZ9agP"
      },
      "source": [
        "### Препроцессинг данных и создание словаря (1 балл)\n",
        "\n",
        "Далее вам необходмо самостоятельно произвести препроцессинг данных и получить словарь или же просто ```set``` строк. Что необходимо сделать:\n",
        "\n",
        "1. Разделить отдельные тренировочные примеры на отдельные предложения с помощью функции ```sent_tokenize``` из бибилиотеки ```nltk```. Каждое отдельное предложение будет одним тренировочным примером.\n",
        "2. Оставить только те предложения, в которых меньше ```word_threshold``` слов.\n",
        "3. Посчитать частоту вхождения каждого слова в оставшихся предложениях. Для деления предлоения на отдельные слова удобно использовать функцию ```word_tokenize```.\n",
        "4. Создать объект ```vocab``` класса ```set```, положить в него служебные токены '\\<unk\\>', '\\<bos\\>', '\\<eos\\>', '\\<pad\\>' и vocab_size самых частовстречающихся слов.   "
      ]
    },
    {
      "cell_type": "code",
      "execution_count": 19,
      "metadata": {},
      "outputs": [],
      "source": [
        "def preprocess_text(text):\n",
        "    # Удалить табуляции, лишние пробелы и символы новой строки\n",
        "    text = \" \".join(text.split())\n",
        "    text = text.replace('<', '').replace('>', '').replace('br', '').replace('/', '')\n",
        "    return text"
      ]
    },
    {
      "cell_type": "code",
      "execution_count": 20,
      "metadata": {
        "id": "Ins2tVCdsS47"
      },
      "outputs": [
        {
          "data": {
            "application/vnd.jupyter.widget-view+json": {
              "model_id": "ac4addec10cb493cbdda7855949ecd9e",
              "version_major": 2,
              "version_minor": 0
            },
            "text/plain": [
              "  0%|          | 0/25000 [00:00<?, ?it/s]"
            ]
          },
          "metadata": {},
          "output_type": "display_data"
        }
      ],
      "source": [
        "sentences = []\n",
        "word_threshold = 32\n",
        "\n",
        "# Получить отдельные предложения и поместить их в sentences\n",
        "for sentence in tqdm(dataset['train']['text']):\n",
        "    sentences.extend(\n",
        "        [x.lower() for x in sent_tokenize(preprocess_text(sentence), language='english') if len(word_tokenize(x)) < word_threshold]\n",
        "        )"
      ]
    },
    {
      "cell_type": "code",
      "execution_count": 21,
      "metadata": {
        "id": "bxeBxP3J1Rj3"
      },
      "outputs": [
        {
          "name": "stdout",
          "output_type": "stream",
          "text": [
            "Всего предложений: 254303\n"
          ]
        }
      ],
      "source": [
        "print(\"Всего предложений:\", len(sentences))"
      ]
    },
    {
      "cell_type": "markdown",
      "metadata": {
        "id": "iT82XkT6ULA_"
      },
      "source": [
        "Посчитаем для каждого слова его встречаемость."
      ]
    },
    {
      "cell_type": "code",
      "execution_count": 22,
      "metadata": {
        "id": "nEvCN0Y1w1yH"
      },
      "outputs": [
        {
          "data": {
            "application/vnd.jupyter.widget-view+json": {
              "model_id": "1d050f2c4e634e169bf2e8c3a993e214",
              "version_major": 2,
              "version_minor": 0
            },
            "text/plain": [
              "  0%|          | 0/254303 [00:00<?, ?it/s]"
            ]
          },
          "metadata": {},
          "output_type": "display_data"
        }
      ],
      "source": [
        "words = Counter()\n",
        "\n",
        "for sentence in tqdm(sentences):\n",
        "    for word in word_tokenize(sentence):\n",
        "        words[word] += 1"
      ]
    },
    {
      "cell_type": "code",
      "execution_count": 92,
      "metadata": {},
      "outputs": [
        {
          "data": {
            "text/plain": [
              "75908"
            ]
          },
          "execution_count": 92,
          "metadata": {},
          "output_type": "execute_result"
        }
      ],
      "source": [
        "len(words)"
      ]
    },
    {
      "cell_type": "markdown",
      "metadata": {
        "id": "B4k4uSoHUSI0"
      },
      "source": [
        "Добавим в словарь ```vocab_size``` самых встречающихся слов."
      ]
    },
    {
      "cell_type": "code",
      "execution_count": 25,
      "metadata": {
        "id": "oUBNwsK9xLIu"
      },
      "outputs": [],
      "source": [
        "vocab = set(['<unk>', '<bos>', '<eos>', '<pad>'])\n",
        "vocab_size = 40000\n",
        "size = 0\n",
        "\n",
        "for word, cnt in words.items():\n",
        "    if size >= 40000:\n",
        "        break\n",
        "    vocab.add(word)\n",
        "    size += 1"
      ]
    },
    {
      "cell_type": "code",
      "execution_count": 26,
      "metadata": {
        "id": "ieT0DFUpXnV2"
      },
      "outputs": [],
      "source": [
        "assert '<unk>' in vocab\n",
        "assert '<bos>' in vocab\n",
        "assert '<eos>' in vocab\n",
        "assert '<pad>' in vocab\n",
        "assert len(vocab) == vocab_size + 4"
      ]
    },
    {
      "cell_type": "code",
      "execution_count": 27,
      "metadata": {
        "id": "JhACW2CQyck5"
      },
      "outputs": [
        {
          "name": "stdout",
          "output_type": "stream",
          "text": [
            "Всего слов в словаре: 40004\n"
          ]
        }
      ],
      "source": [
        "print(\"Всего слов в словаре:\", len(vocab))"
      ]
    },
    {
      "cell_type": "markdown",
      "metadata": {
        "id": "UmeRYKSIUcdE"
      },
      "source": [
        "### Подготовка датасета (1 балл)\n",
        "\n",
        "Далее, как и в семинарском занятии, подготовим датасеты и даталоадеры.\n",
        "\n",
        "В классе ```WordDataset``` вам необходимо реализовать метод ```__getitem__```, который будет возвращать сэмпл данных по входному idx, то есть список целых чисел (индексов слов).\n",
        "\n",
        "Внутри этого метода необходимо добавить служебные токены начала и конца последовательности, а также токенизировать соответствующее предложение с помощью ```word_tokenize``` и сопоставить ему индексы из ```word2ind```."
      ]
    },
    {
      "cell_type": "code",
      "execution_count": 28,
      "metadata": {
        "id": "iD7SmSy3v2dl"
      },
      "outputs": [],
      "source": [
        "word2ind = {word: i for i, word in enumerate(vocab)}\n",
        "ind2word = {i: word for word, i in word2ind.items()}"
      ]
    },
    {
      "cell_type": "code",
      "execution_count": 29,
      "metadata": {
        "id": "FVzXL17PzC7K"
      },
      "outputs": [],
      "source": [
        "class WordDataset:\n",
        "    def __init__(self, sentences):\n",
        "        self.data = sentences\n",
        "        self.unk_id = word2ind['<unk>']\n",
        "        self.bos_id = word2ind['<bos>']\n",
        "        self.eos_id = word2ind['<eos>']\n",
        "        self.pad_id = word2ind['<pad>']\n",
        "\n",
        "    def __getitem__(self, idx: int) -> List[int]:\n",
        "        tokenized_sentence = [self.bos_id]\n",
        "        # Допишите код здесь\n",
        "        tokenized_sentence += [word2ind.get(word, self.unk_id) for word in word_tokenize(self.data[idx])] \n",
        "        tokenized_sentence += [self.eos_id]\n",
        "\n",
        "        return tokenized_sentence\n",
        "\n",
        "    def __len__(self) -> int:\n",
        "        return len(self.data)"
      ]
    },
    {
      "cell_type": "code",
      "execution_count": 30,
      "metadata": {
        "id": "I6CtYNMp2_g0"
      },
      "outputs": [],
      "source": [
        "def collate_fn_with_padding(\n",
        "    input_batch: List[List[int]], pad_id=word2ind['<pad>']) -> torch.Tensor:\n",
        "    seq_lens = [len(x) for x in input_batch]\n",
        "    max_seq_len = max(seq_lens)\n",
        "\n",
        "    new_batch = []\n",
        "    for sequence in input_batch:\n",
        "        for _ in range(max_seq_len - len(sequence)):\n",
        "            sequence.append(pad_id)\n",
        "        new_batch.append(sequence)\n",
        "\n",
        "    sequences = torch.LongTensor(new_batch).to(device)\n",
        "\n",
        "    new_batch = {\n",
        "        'input_ids': sequences[:,:-1],\n",
        "        'target_ids': sequences[:,1:]\n",
        "    }\n",
        "\n",
        "    return new_batch"
      ]
    },
    {
      "cell_type": "code",
      "execution_count": 33,
      "metadata": {
        "id": "6xmeK9Ys1BIG"
      },
      "outputs": [],
      "source": [
        "train_sentences, eval_sentences = train_test_split(sentences, test_size=0.2)\n",
        "eval_sentences, test_sentences = train_test_split(eval_sentences, test_size=0.5)\n",
        "\n",
        "train_dataset = WordDataset(train_sentences)\n",
        "eval_dataset = WordDataset(eval_sentences)\n",
        "test_dataset = WordDataset(test_sentences)\n",
        "\n",
        "batch_size = 128\n",
        "\n",
        "train_dataloader = DataLoader(\n",
        "    train_dataset, collate_fn=collate_fn_with_padding, batch_size=batch_size)\n",
        "\n",
        "eval_dataloader = DataLoader(\n",
        "    eval_dataset, collate_fn=collate_fn_with_padding, batch_size=batch_size)\n",
        "\n",
        "test_dataloader = DataLoader(\n",
        "    test_dataset, collate_fn=collate_fn_with_padding, batch_size=batch_size)"
      ]
    },
    {
      "cell_type": "code",
      "execution_count": 34,
      "metadata": {},
      "outputs": [
        {
          "name": "stdout",
          "output_type": "stream",
          "text": [
            "['<bos>', 'the', 'film', 'ends', 'on', 'a', 'sour', 'note', 'as', 'the', 'embarrassed', 'family', 'moves', 'out', 'of', 'their', 'fancy', 'digs', 'and', 'take', 'to', 'riding', 'around', 'beverly', 'hills', 'in', 'their', 'car', '.', '<eos>', '<pad>', '<pad>']\n"
          ]
        }
      ],
      "source": [
        "for x in test_dataloader:\n",
        "  print([ind2word[w.item()] for w in x['input_ids'][50]])\n",
        "  break"
      ]
    },
    {
      "cell_type": "markdown",
      "metadata": {
        "id": "SMAexY7Y45E4"
      },
      "source": [
        "## Обучение и архитектура модели\n",
        "\n",
        "Вам необходимо на практике проверить, что влияет на качество языковых моделей. В этом задании нужно провести серию экспериментов с различными вариантами языковых моделей и сравнить различия в конечной перплексии на тестовом множестве.\n",
        "\n",
        "Возмоэные идеи для экспериментов:\n",
        "\n",
        "* Различные RNN-блоки, например, LSTM или GRU. Также можно добавить сразу несколько RNN блоков друг над другом с помощью аргумента num_layers. Вам поможет официальная документация [здесь](https://pytorch.org/docs/stable/generated/torch.nn.LSTM.html)\n",
        "* Различные размеры скрытого состояния. Различное количество линейных слоев после RNN-блока. Различные функции активации.\n",
        "* Добавление нормализаций в виде Dropout, BatchNorm или LayerNorm\n",
        "* Различные аргументы для оптимизации, например, подбор оптимального learning rate или тип алгоритма оптимизации SGD, Adam, RMSProp и другие\n",
        "* Любые другие идеи и подходы\n",
        "\n",
        "После проведения экспериментов необходимо составить таблицу результатов, в которой описан каждый эксперимент и посчитана перплексия на тестовом множестве.\n",
        "\n",
        "Учтите, что эксперименты, которые различаются, например, только размером скрытого состояния или количеством линейных слоев считаются, как один эксперимент.\n",
        "\n",
        "Успехов!"
      ]
    },
    {
      "cell_type": "markdown",
      "metadata": {
        "id": "KP1cO-3bmDv9"
      },
      "source": [
        "### Функция evaluate (1 балл)\n",
        "\n",
        "Заполните функцию ```evaluate```"
      ]
    },
    {
      "cell_type": "code",
      "execution_count": 35,
      "metadata": {
        "id": "XUlMUVJ3mL4r"
      },
      "outputs": [],
      "source": [
        "def evaluate(model, criterion, dataloader) -> float:\n",
        "    model.eval()\n",
        "    perplexity = []\n",
        "    with torch.no_grad():\n",
        "        for batch in dataloader:\n",
        "            logits = model(batch['input_ids']).flatten(start_dim=0, end_dim=1) # Посчитайте логиты предсказаний следующих слов\n",
        "            loss = criterion(logits, batch['target_ids'].flatten())\n",
        "            perplexity.append(torch.exp(loss).item())\n",
        "\n",
        "    perplexity = sum(perplexity) / len(perplexity)\n",
        "\n",
        "    return perplexity"
      ]
    },
    {
      "cell_type": "markdown",
      "metadata": {
        "id": "bLV63Vsk7loy"
      },
      "source": [
        "### Train loop (1 балл)\n",
        "\n",
        "Напишите функцию для обучения модели."
      ]
    },
    {
      "cell_type": "code",
      "execution_count": 38,
      "metadata": {
        "id": "bSZmUC3YmocP"
      },
      "outputs": [],
      "source": [
        "def train_model(num_epoch, model, optimizer, criterion):\n",
        "    losses = []\n",
        "    perplexities_test = []\n",
        "    perplexities_eval = []\n",
        "\n",
        "    for epoch in range(num_epoch):\n",
        "        epoch_losses = []\n",
        "        model.train()\n",
        "        for batch in tqdm(train_dataloader, desc=f'Training epoch {epoch}:'):\n",
        "            optimizer.zero_grad()\n",
        "            logits = model(batch['input_ids']).flatten(start_dim=0, end_dim=1)\n",
        "            loss = criterion(\n",
        "                logits, batch['target_ids'].flatten())\n",
        "            loss.backward()\n",
        "            optimizer.step()\n",
        "\n",
        "            epoch_losses.append(loss.item())\n",
        "        \n",
        "        losses.append(sum(epoch_losses) / len(epoch_losses))\n",
        "        perplexities_test.append(evaluate(model, criterion, test_dataloader))\n",
        "        perplexities_eval.append(evaluate(model, criterion, eval_dataloader))\n",
        "    return losses, perplexities_test, perplexities_eval"
      ]
    },
    {
      "cell_type": "markdown",
      "metadata": {},
      "source": [
        "Считаем перплексию на тесте и валидации"
      ]
    },
    {
      "cell_type": "markdown",
      "metadata": {
        "id": "hXmeyhBQmuq4"
      },
      "source": [
        "### Первый эксперимент (2 балла)\n",
        "\n",
        "Определите архитектуру модели и обучите её."
      ]
    },
    {
      "cell_type": "code",
      "execution_count": 42,
      "metadata": {},
      "outputs": [],
      "source": [
        "class FirstLanguageModel(nn.Module):\n",
        "    def __init__(self, hidden_dim: int, vocab_size: int):\n",
        "        super().__init__()\n",
        "        # Опишите свою нейронную сеть здесь\n",
        "        self.embedding = nn.Embedding(vocab_size, hidden_dim)\n",
        "        self.rnn = nn.GRU(hidden_dim, hidden_dim, num_layers=4, batch_first=True) # увеличил количество слоёв\n",
        "        self.linear = nn.Linear(hidden_dim, hidden_dim)\n",
        "        self.projection = nn.Linear(hidden_dim, vocab_size)\n",
        "\n",
        "        self.non_lin = nn.Tanh()\n",
        "        self.dropout_1 = nn.Dropout(p=0.2) # увеличил dropout\n",
        "\n",
        "    def forward(self, input_batch: torch.Tensor) -> torch.Tensor:\n",
        "        # А тут опишите forward pass модели\n",
        "        embeddings = self.embedding(input_batch)  # [batch_size, seq_len, hidden_dim]\n",
        "        output, _ = self.rnn(embeddings)  # [batch_size, seq_len, hidden_dim]\n",
        "        output = self.dropout_1(self.linear(self.non_lin(output)))  # [batch_size, seq_len, hidden_dim]\n",
        "        projection = self.projection(self.non_lin(output))  # [batch_size, seq_len, vocab_size]\n",
        "\n",
        "        return projection"
      ]
    },
    {
      "cell_type": "markdown",
      "metadata": {},
      "source": [
        "Для начала попробуем такую архитектуру"
      ]
    },
    {
      "cell_type": "code",
      "execution_count": 43,
      "metadata": {
        "id": "TxbEzn5fnBOY"
      },
      "outputs": [],
      "source": [
        "model = FirstLanguageModel(hidden_dim=512, vocab_size=len(vocab)).to(device)\n",
        "criterion = nn.CrossEntropyLoss(ignore_index=word2ind['<pad>'])\n",
        "optimizer = torch.optim.Adam(model.parameters(), lr=0.01, weight_decay=0.001)"
      ]
    },
    {
      "cell_type": "code",
      "execution_count": 44,
      "metadata": {},
      "outputs": [],
      "source": [
        "experiment_params = {}\n",
        "experiment_losses = {}\n",
        "experiment_perplexities_test = {}\n",
        "experiment_perplexities_eval = {}"
      ]
    },
    {
      "cell_type": "code",
      "execution_count": null,
      "metadata": {},
      "outputs": [
        {
          "data": {
            "application/vnd.jupyter.widget-view+json": {
              "model_id": "0981c42dde3f4ba1b1814b4ae412a67c",
              "version_major": 2,
              "version_minor": 0
            },
            "text/plain": [
              "Training epoch 0::   0%|          | 0/1590 [00:00<?, ?it/s]"
            ]
          },
          "metadata": {},
          "output_type": "display_data"
        },
        {
          "data": {
            "application/vnd.jupyter.widget-view+json": {
              "model_id": "8e1608bc81524b5bb3f8ba8f111e9ae2",
              "version_major": 2,
              "version_minor": 0
            },
            "text/plain": [
              "Training epoch 1::   0%|          | 0/1590 [00:00<?, ?it/s]"
            ]
          },
          "metadata": {},
          "output_type": "display_data"
        },
        {
          "data": {
            "application/vnd.jupyter.widget-view+json": {
              "model_id": "df9add5f7a544c43b1b10aeb75c48cdb",
              "version_major": 2,
              "version_minor": 0
            },
            "text/plain": [
              "Training epoch 2::   0%|          | 0/1590 [00:00<?, ?it/s]"
            ]
          },
          "metadata": {},
          "output_type": "display_data"
        },
        {
          "data": {
            "application/vnd.jupyter.widget-view+json": {
              "model_id": "afcaab091f0b4b959414c2d3240ef2ce",
              "version_major": 2,
              "version_minor": 0
            },
            "text/plain": [
              "Training epoch 3::   0%|          | 0/1590 [00:00<?, ?it/s]"
            ]
          },
          "metadata": {},
          "output_type": "display_data"
        },
        {
          "data": {
            "application/vnd.jupyter.widget-view+json": {
              "model_id": "737463416d734882b67947a6a4458756",
              "version_major": 2,
              "version_minor": 0
            },
            "text/plain": [
              "Training epoch 4::   0%|          | 0/1590 [00:00<?, ?it/s]"
            ]
          },
          "metadata": {},
          "output_type": "display_data"
        },
        {
          "data": {
            "application/vnd.jupyter.widget-view+json": {
              "model_id": "ca6afc601da74e5a859590a9833f5ece",
              "version_major": 2,
              "version_minor": 0
            },
            "text/plain": [
              "Training epoch 5::   0%|          | 0/1590 [00:00<?, ?it/s]"
            ]
          },
          "metadata": {},
          "output_type": "display_data"
        },
        {
          "data": {
            "application/vnd.jupyter.widget-view+json": {
              "model_id": "69962d48dce44a41ba9621e82552a5a6",
              "version_major": 2,
              "version_minor": 0
            },
            "text/plain": [
              "Training epoch 6::   0%|          | 0/1590 [00:00<?, ?it/s]"
            ]
          },
          "metadata": {},
          "output_type": "display_data"
        },
        {
          "data": {
            "application/vnd.jupyter.widget-view+json": {
              "model_id": "b430904039074676b2cf1eb70f7d68d4",
              "version_major": 2,
              "version_minor": 0
            },
            "text/plain": [
              "Training epoch 7::   0%|          | 0/1590 [00:00<?, ?it/s]"
            ]
          },
          "metadata": {},
          "output_type": "display_data"
        },
        {
          "data": {
            "application/vnd.jupyter.widget-view+json": {
              "model_id": "8a58dbd3f4784e0ba41191bd117c5ab3",
              "version_major": 2,
              "version_minor": 0
            },
            "text/plain": [
              "Training epoch 8::   0%|          | 0/1590 [00:00<?, ?it/s]"
            ]
          },
          "metadata": {},
          "output_type": "display_data"
        },
        {
          "data": {
            "application/vnd.jupyter.widget-view+json": {
              "model_id": "7e6e57bab3634ba0a80cd15e99dab081",
              "version_major": 2,
              "version_minor": 0
            },
            "text/plain": [
              "Training epoch 9::   0%|          | 0/1590 [00:00<?, ?it/s]"
            ]
          },
          "metadata": {},
          "output_type": "display_data"
        },
        {
          "data": {
            "application/vnd.jupyter.widget-view+json": {
              "model_id": "f677689fd7dc4e7b82c8e5ac69d6480c",
              "version_major": 2,
              "version_minor": 0
            },
            "text/plain": [
              "Training epoch 10::   0%|          | 0/1590 [00:00<?, ?it/s]"
            ]
          },
          "metadata": {},
          "output_type": "display_data"
        },
        {
          "data": {
            "application/vnd.jupyter.widget-view+json": {
              "model_id": "0db91c69058d4b769327936d84284338",
              "version_major": 2,
              "version_minor": 0
            },
            "text/plain": [
              "Training epoch 11::   0%|          | 0/1590 [00:00<?, ?it/s]"
            ]
          },
          "metadata": {},
          "output_type": "display_data"
        },
        {
          "data": {
            "application/vnd.jupyter.widget-view+json": {
              "model_id": "ad21ccc943934df88382b12f46afb6b1",
              "version_major": 2,
              "version_minor": 0
            },
            "text/plain": [
              "Training epoch 12::   0%|          | 0/1590 [00:00<?, ?it/s]"
            ]
          },
          "metadata": {},
          "output_type": "display_data"
        },
        {
          "data": {
            "application/vnd.jupyter.widget-view+json": {
              "model_id": "6ecd1892b24c47449692cda2af6b8824",
              "version_major": 2,
              "version_minor": 0
            },
            "text/plain": [
              "Training epoch 13::   0%|          | 0/1590 [00:00<?, ?it/s]"
            ]
          },
          "metadata": {},
          "output_type": "display_data"
        },
        {
          "data": {
            "application/vnd.jupyter.widget-view+json": {
              "model_id": "049619f463f34e3baccd8c9b0681a119",
              "version_major": 2,
              "version_minor": 0
            },
            "text/plain": [
              "Training epoch 14::   0%|          | 0/1590 [00:00<?, ?it/s]"
            ]
          },
          "metadata": {},
          "output_type": "display_data"
        }
      ],
      "source": [
        "experiment_params[1] = ['lr = 0.01', 'weight_decay = 0.01', 'num_epoch = 15', '4 layers GRU', '1 dropout']\n",
        "experiment_losses[1], experiment_perplexities_test[1], experiment_perplexities_eval[1] = train_model(15, model, optimizer, criterion)"
      ]
    },
    {
      "cell_type": "code",
      "execution_count": 46,
      "metadata": {},
      "outputs": [
        {
          "data": {
            "image/png": "[encoded data removed]",
            "text/plain": [
              "<Figure size 640x480 with 1 Axes>"
            ]
          },
          "metadata": {},
          "output_type": "display_data"
        }
      ],
      "source": [
        "plt.plot(np.arange(len(experiment_losses[1])), experiment_losses[1])\n",
        "plt.title('Losses on first experiment')\n",
        "plt.xlabel(\"epoch\")\n",
        "plt.show()"
      ]
    },
    {
      "cell_type": "code",
      "execution_count": 57,
      "metadata": {},
      "outputs": [
        {
          "data": {
            "image/png": "[encoded data removed]",
            "text/plain": [
              "<Figure size 1000x500 with 2 Axes>"
            ]
          },
          "metadata": {},
          "output_type": "display_data"
        }
      ],
      "source": [
        "fig, (ax1, ax2) = plt.subplots(1, 2, figsize=(10, 5))\n",
        "\n",
        "ax1.plot(np.arange(len(experiment_perplexities_test[1])), experiment_perplexities_test[1])\n",
        "ax2.plot(np.arange(len(experiment_perplexities_eval[1])), experiment_perplexities_eval[1])\n",
        "\n",
        "ax1.set_title('Perplexity on test data')\n",
        "ax1.set_xlabel(\"epoch\")\n",
        "ax1.set_ylabel(\"Perplexity\")\n",
        "\n",
        "ax2.set_title('Perplexity on eval data')\n",
        "ax2.set_xlabel(\"epoch\")\n",
        "ax2.set_ylabel(\"Perplexity\")\n",
        "\n",
        "plt.tight_layout()\n",
        "plt.show()"
      ]
    },
    {
      "cell_type": "code",
      "execution_count": 58,
      "metadata": {},
      "outputs": [],
      "source": [
        "def generate_sequence(model, starting_seq: str, max_seq_len: int = 128) -> str:\n",
        "    device = 'cpu'\n",
        "    model = model.to(device)\n",
        "    input_ids = [word2ind['<bos>']] + [\n",
        "        word2ind.get(word, word2ind['<unk>']) for word in word_tokenize(starting_seq)]\n",
        "    input_ids = torch.LongTensor(input_ids).to(device)\n",
        "    \n",
        "    model.eval()\n",
        "    with torch.no_grad():\n",
        "        for i in range(max_seq_len):\n",
        "            next_word_distribution = model(input_ids)[-1]\n",
        "            next_word = next_word_distribution.squeeze().argmax()\n",
        "            input_ids = torch.cat([input_ids, next_word.unsqueeze(0)])\n",
        "\n",
        "            if next_word.item() == word2ind['<eos>']:\n",
        "                break\n",
        "    \n",
        "    words = ' '.join([ind2word[idx.item()] for idx in input_ids])\n",
        "\n",
        "    return words"
      ]
    },
    {
      "cell_type": "code",
      "execution_count": 63,
      "metadata": {},
      "outputs": [
        {
          "data": {
            "text/plain": [
              "'<bos> i think this dregs dregs dregs dregs dregs dregs <eos>'"
            ]
          },
          "execution_count": 63,
          "metadata": {},
          "output_type": "execute_result"
        }
      ],
      "source": [
        "generate_sequence(model, starting_seq='i think this')"
      ]
    },
    {
      "cell_type": "markdown",
      "metadata": {},
      "source": [
        "Что-то неладное..."
      ]
    },
    {
      "cell_type": "code",
      "execution_count": 66,
      "metadata": {},
      "outputs": [],
      "source": [
        "torch.cuda.empty_cache()"
      ]
    },
    {
      "cell_type": "markdown",
      "metadata": {
        "id": "X1EW4faIm0tl"
      },
      "source": [
        "### Второй эксперимент (2 балла)\n",
        "\n",
        "Попробуйте что-то поменять в модели или в пайплайне обучения, идеи для экспериментов можно подсмотреть выше."
      ]
    },
    {
      "cell_type": "code",
      "execution_count": 68,
      "metadata": {
        "id": "wkSE4jR1XzTg"
      },
      "outputs": [],
      "source": [
        "class SecondLanguageModel(nn.Module):\n",
        "    def __init__(self, hidden_dim: int, vocab_size: int):\n",
        "        super().__init__()\n",
        "        # Опишите свою нейронную сеть здесь\n",
        "        self.embedding = nn.Embedding(vocab_size, hidden_dim)\n",
        "        self.rnn = nn.GRU(hidden_dim, hidden_dim, num_layers=3, batch_first=True) # уменьшил количество слоёв\n",
        "        self.layer_norm = nn.LayerNorm(hidden_dim)\n",
        "        self.linear = nn.Linear(hidden_dim, hidden_dim)\n",
        "        self.projection = nn.Linear(hidden_dim, vocab_size)\n",
        "\n",
        "        self.non_lin = nn.Tanh()\n",
        "        self.dropout_1 = nn.Dropout(p=0.3) # увеличил dropout\n",
        "        self.dropout_2 = nn.Dropout(p=0.1) # добавил ещё один dropout\n",
        "\n",
        "    def forward(self, input_batch: torch.Tensor) -> torch.Tensor:\n",
        "        # А тут опишите forward pass модели\n",
        "        embeddings = self.embedding(input_batch)  # [batch_size, seq_len, hidden_dim]\n",
        "        embeddings = self.layer_norm(embeddings) # нормализация после эмбеддинга\n",
        "        output, _ = self.rnn(embeddings)  # [batch_size, seq_len, hidden_dim]\n",
        "        output = self.layer_norm(output) # нормализация после GRU\n",
        "        output = self.dropout_1(self.linear(self.non_lin(output)))  # [batch_size, seq_len, hidden_dim]\n",
        "        output = self.linear(self.non_lin(output))\n",
        "        output = self.dropout_2(self.linear(self.non_lin(output)))  # [batch_size, seq_len, hidden_dim]\n",
        "        projection = self.projection(self.non_lin(output))  # [batch_size, seq_len, vocab_size]\n",
        "\n",
        "        return projection"
      ]
    },
    {
      "cell_type": "code",
      "execution_count": 70,
      "metadata": {},
      "outputs": [],
      "source": [
        "model = SecondLanguageModel(hidden_dim=512, vocab_size=len(vocab)).to(device)\n",
        "criterion = nn.CrossEntropyLoss(ignore_index=word2ind['<pad>'])\n",
        "optimizer = torch.optim.Adam(model.parameters(), lr=0.001, weight_decay=0.0001)"
      ]
    },
    {
      "cell_type": "code",
      "execution_count": 71,
      "metadata": {},
      "outputs": [
        {
          "data": {
            "application/vnd.jupyter.widget-view+json": {
              "model_id": "e84e4c09547e47eab04ce0bbb756ce7a",
              "version_major": 2,
              "version_minor": 0
            },
            "text/plain": [
              "Training epoch 0::   0%|          | 0/1590 [00:00<?, ?it/s]"
            ]
          },
          "metadata": {},
          "output_type": "display_data"
        },
        {
          "data": {
            "application/vnd.jupyter.widget-view+json": {
              "model_id": "95fe93a8a0614bff8d4b85219f8e7e69",
              "version_major": 2,
              "version_minor": 0
            },
            "text/plain": [
              "Training epoch 1::   0%|          | 0/1590 [00:00<?, ?it/s]"
            ]
          },
          "metadata": {},
          "output_type": "display_data"
        },
        {
          "data": {
            "application/vnd.jupyter.widget-view+json": {
              "model_id": "40f44a620d7f40a1a1276050dc9a7acd",
              "version_major": 2,
              "version_minor": 0
            },
            "text/plain": [
              "Training epoch 2::   0%|          | 0/1590 [00:00<?, ?it/s]"
            ]
          },
          "metadata": {},
          "output_type": "display_data"
        },
        {
          "data": {
            "application/vnd.jupyter.widget-view+json": {
              "model_id": "a656c6adc71b444ab24ac0d6c7a7e9c4",
              "version_major": 2,
              "version_minor": 0
            },
            "text/plain": [
              "Training epoch 3::   0%|          | 0/1590 [00:00<?, ?it/s]"
            ]
          },
          "metadata": {},
          "output_type": "display_data"
        },
        {
          "data": {
            "application/vnd.jupyter.widget-view+json": {
              "model_id": "e3041fd477c840dcab1afa7e6d1f0b4a",
              "version_major": 2,
              "version_minor": 0
            },
            "text/plain": [
              "Training epoch 4::   0%|          | 0/1590 [00:00<?, ?it/s]"
            ]
          },
          "metadata": {},
          "output_type": "display_data"
        },
        {
          "data": {
            "application/vnd.jupyter.widget-view+json": {
              "model_id": "50aa1cff169b406380be2cdfe8cdb250",
              "version_major": 2,
              "version_minor": 0
            },
            "text/plain": [
              "Training epoch 5::   0%|          | 0/1590 [00:00<?, ?it/s]"
            ]
          },
          "metadata": {},
          "output_type": "display_data"
        },
        {
          "data": {
            "application/vnd.jupyter.widget-view+json": {
              "model_id": "0f4feb4635974045a6d7bc9566a859b8",
              "version_major": 2,
              "version_minor": 0
            },
            "text/plain": [
              "Training epoch 6::   0%|          | 0/1590 [00:00<?, ?it/s]"
            ]
          },
          "metadata": {},
          "output_type": "display_data"
        },
        {
          "data": {
            "application/vnd.jupyter.widget-view+json": {
              "model_id": "9a1c9859ae004a7596fdcf783647a3d3",
              "version_major": 2,
              "version_minor": 0
            },
            "text/plain": [
              "Training epoch 7::   0%|          | 0/1590 [00:00<?, ?it/s]"
            ]
          },
          "metadata": {},
          "output_type": "display_data"
        },
        {
          "data": {
            "application/vnd.jupyter.widget-view+json": {
              "model_id": "7505050ae360486db51babb14e3753aa",
              "version_major": 2,
              "version_minor": 0
            },
            "text/plain": [
              "Training epoch 8::   0%|          | 0/1590 [00:00<?, ?it/s]"
            ]
          },
          "metadata": {},
          "output_type": "display_data"
        },
        {
          "data": {
            "application/vnd.jupyter.widget-view+json": {
              "model_id": "4ea7a3c55596428dbee78a5fd99ec2c9",
              "version_major": 2,
              "version_minor": 0
            },
            "text/plain": [
              "Training epoch 9::   0%|          | 0/1590 [00:00<?, ?it/s]"
            ]
          },
          "metadata": {},
          "output_type": "display_data"
        },
        {
          "data": {
            "application/vnd.jupyter.widget-view+json": {
              "model_id": "83701ec49fab4d1c961724c28b411c8e",
              "version_major": 2,
              "version_minor": 0
            },
            "text/plain": [
              "Training epoch 10::   0%|          | 0/1590 [00:00<?, ?it/s]"
            ]
          },
          "metadata": {},
          "output_type": "display_data"
        },
        {
          "data": {
            "application/vnd.jupyter.widget-view+json": {
              "model_id": "e0aea0346634452782746e64ab9f1e00",
              "version_major": 2,
              "version_minor": 0
            },
            "text/plain": [
              "Training epoch 11::   0%|          | 0/1590 [00:00<?, ?it/s]"
            ]
          },
          "metadata": {},
          "output_type": "display_data"
        },
        {
          "data": {
            "application/vnd.jupyter.widget-view+json": {
              "model_id": "0edde2ccf436419abd334b1b081a3acc",
              "version_major": 2,
              "version_minor": 0
            },
            "text/plain": [
              "Training epoch 12::   0%|          | 0/1590 [00:00<?, ?it/s]"
            ]
          },
          "metadata": {},
          "output_type": "display_data"
        },
        {
          "data": {
            "application/vnd.jupyter.widget-view+json": {
              "model_id": "7d059f268ff741f1bfe174c4d13eb3c9",
              "version_major": 2,
              "version_minor": 0
            },
            "text/plain": [
              "Training epoch 13::   0%|          | 0/1590 [00:00<?, ?it/s]"
            ]
          },
          "metadata": {},
          "output_type": "display_data"
        },
        {
          "data": {
            "application/vnd.jupyter.widget-view+json": {
              "model_id": "a83de2915baa4b218a70f0dc7ae084b8",
              "version_major": 2,
              "version_minor": 0
            },
            "text/plain": [
              "Training epoch 14::   0%|          | 0/1590 [00:00<?, ?it/s]"
            ]
          },
          "metadata": {},
          "output_type": "display_data"
        },
        {
          "data": {
            "application/vnd.jupyter.widget-view+json": {
              "model_id": "fa9aedd18489443298793987517780fc",
              "version_major": 2,
              "version_minor": 0
            },
            "text/plain": [
              "Training epoch 15::   0%|          | 0/1590 [00:00<?, ?it/s]"
            ]
          },
          "metadata": {},
          "output_type": "display_data"
        },
        {
          "data": {
            "application/vnd.jupyter.widget-view+json": {
              "model_id": "4aa9b1d750a4413ab66df4963e811de3",
              "version_major": 2,
              "version_minor": 0
            },
            "text/plain": [
              "Training epoch 16::   0%|          | 0/1590 [00:00<?, ?it/s]"
            ]
          },
          "metadata": {},
          "output_type": "display_data"
        },
        {
          "data": {
            "application/vnd.jupyter.widget-view+json": {
              "model_id": "f3a7437195f14e42848dde1296cafa02",
              "version_major": 2,
              "version_minor": 0
            },
            "text/plain": [
              "Training epoch 17::   0%|          | 0/1590 [00:00<?, ?it/s]"
            ]
          },
          "metadata": {},
          "output_type": "display_data"
        },
        {
          "data": {
            "application/vnd.jupyter.widget-view+json": {
              "model_id": "11fad997bf5d44cc81f0c216da4996f5",
              "version_major": 2,
              "version_minor": 0
            },
            "text/plain": [
              "Training epoch 18::   0%|          | 0/1590 [00:00<?, ?it/s]"
            ]
          },
          "metadata": {},
          "output_type": "display_data"
        },
        {
          "data": {
            "application/vnd.jupyter.widget-view+json": {
              "model_id": "2f36f88e91814f849efe039c21261dcc",
              "version_major": 2,
              "version_minor": 0
            },
            "text/plain": [
              "Training epoch 19::   0%|          | 0/1590 [00:00<?, ?it/s]"
            ]
          },
          "metadata": {},
          "output_type": "display_data"
        },
        {
          "data": {
            "application/vnd.jupyter.widget-view+json": {
              "model_id": "9dd7220f894e45ff83f19b732e3b4d9c",
              "version_major": 2,
              "version_minor": 0
            },
            "text/plain": [
              "Training epoch 20::   0%|          | 0/1590 [00:00<?, ?it/s]"
            ]
          },
          "metadata": {},
          "output_type": "display_data"
        },
        {
          "data": {
            "application/vnd.jupyter.widget-view+json": {
              "model_id": "7df8c23f91bc4dbfa72265b43a9c9298",
              "version_major": 2,
              "version_minor": 0
            },
            "text/plain": [
              "Training epoch 21::   0%|          | 0/1590 [00:00<?, ?it/s]"
            ]
          },
          "metadata": {},
          "output_type": "display_data"
        },
        {
          "data": {
            "application/vnd.jupyter.widget-view+json": {
              "model_id": "65501571846c4499ae14f09a33f862e4",
              "version_major": 2,
              "version_minor": 0
            },
            "text/plain": [
              "Training epoch 22::   0%|          | 0/1590 [00:00<?, ?it/s]"
            ]
          },
          "metadata": {},
          "output_type": "display_data"
        },
        {
          "data": {
            "application/vnd.jupyter.widget-view+json": {
              "model_id": "2893e4e902b44618bd4b1dfe74e2274f",
              "version_major": 2,
              "version_minor": 0
            },
            "text/plain": [
              "Training epoch 23::   0%|          | 0/1590 [00:00<?, ?it/s]"
            ]
          },
          "metadata": {},
          "output_type": "display_data"
        },
        {
          "data": {
            "application/vnd.jupyter.widget-view+json": {
              "model_id": "3029a1f3ed7e45ef8ad2cdccc1b93778",
              "version_major": 2,
              "version_minor": 0
            },
            "text/plain": [
              "Training epoch 24::   0%|          | 0/1590 [00:00<?, ?it/s]"
            ]
          },
          "metadata": {},
          "output_type": "display_data"
        },
        {
          "data": {
            "application/vnd.jupyter.widget-view+json": {
              "model_id": "47ba3b4443744e359ccf6207ade0d5a5",
              "version_major": 2,
              "version_minor": 0
            },
            "text/plain": [
              "Training epoch 25::   0%|          | 0/1590 [00:00<?, ?it/s]"
            ]
          },
          "metadata": {},
          "output_type": "display_data"
        },
        {
          "data": {
            "application/vnd.jupyter.widget-view+json": {
              "model_id": "09f7db5fd89d47959f193865e2761439",
              "version_major": 2,
              "version_minor": 0
            },
            "text/plain": [
              "Training epoch 26::   0%|          | 0/1590 [00:00<?, ?it/s]"
            ]
          },
          "metadata": {},
          "output_type": "display_data"
        },
        {
          "data": {
            "application/vnd.jupyter.widget-view+json": {
              "model_id": "cbffb14c50ec4388b8790f7b298fff45",
              "version_major": 2,
              "version_minor": 0
            },
            "text/plain": [
              "Training epoch 27::   0%|          | 0/1590 [00:00<?, ?it/s]"
            ]
          },
          "metadata": {},
          "output_type": "display_data"
        },
        {
          "data": {
            "application/vnd.jupyter.widget-view+json": {
              "model_id": "be98dc1df4f34534b6ce3cb68255cecf",
              "version_major": 2,
              "version_minor": 0
            },
            "text/plain": [
              "Training epoch 28::   0%|          | 0/1590 [00:00<?, ?it/s]"
            ]
          },
          "metadata": {},
          "output_type": "display_data"
        },
        {
          "data": {
            "application/vnd.jupyter.widget-view+json": {
              "model_id": "422faddb461743abbadb91b5d66df6d3",
              "version_major": 2,
              "version_minor": 0
            },
            "text/plain": [
              "Training epoch 29::   0%|          | 0/1590 [00:00<?, ?it/s]"
            ]
          },
          "metadata": {},
          "output_type": "display_data"
        }
      ],
      "source": [
        "experiment_params[2] = ['lr = 0.001', 'weight_decay = 0.0001', 'num_epoch = 30', '3 layers GRU', '2 dropout', '2 layer norms']\n",
        "experiment_losses[2], experiment_perplexities_test[2], experiment_perplexities_eval[2] = train_model(30, model, optimizer, criterion)"
      ]
    },
    {
      "cell_type": "code",
      "execution_count": 90,
      "metadata": {},
      "outputs": [
        {
          "data": {
            "image/png": "[encoded data removed]",
            "text/plain": [
              "<Figure size 640x480 with 1 Axes>"
            ]
          },
          "metadata": {},
          "output_type": "display_data"
        }
      ],
      "source": [
        "plt.plot(np.arange(len(experiment_losses[2])), experiment_losses[2])\n",
        "plt.title('Losses on second experiment')\n",
        "plt.xlabel(\"epoch\")\n",
        "plt.show()"
      ]
    },
    {
      "cell_type": "code",
      "execution_count": 74,
      "metadata": {},
      "outputs": [
        {
          "data": {
            "image/png": "[encoded data removed]",
            "text/plain": [
              "<Figure size 1000x500 with 2 Axes>"
            ]
          },
          "metadata": {},
          "output_type": "display_data"
        }
      ],
      "source": [
        "fig, (ax1, ax2) = plt.subplots(1, 2, figsize=(10, 5))\n",
        "\n",
        "ax1.plot(np.arange(len(experiment_perplexities_test[2])), experiment_perplexities_test[2])\n",
        "ax2.plot(np.arange(len(experiment_perplexities_eval[2])), experiment_perplexities_eval[2])\n",
        "\n",
        "ax1.set_title('Perplexity on test data')\n",
        "ax1.set_xlabel(\"epoch\")\n",
        "ax1.set_ylabel(\"Perplexity\")\n",
        "\n",
        "ax2.set_title('Perplexity on eval data')\n",
        "ax2.set_xlabel(\"epoch\")\n",
        "ax2.set_ylabel(\"Perplexity\")\n",
        "\n",
        "plt.tight_layout()\n",
        "plt.show()"
      ]
    },
    {
      "cell_type": "code",
      "execution_count": 81,
      "metadata": {},
      "outputs": [
        {
          "data": {
            "text/plain": [
              "\"<bos> he is a bad actor because he 's not a good actor . <eos>\""
            ]
          },
          "execution_count": 81,
          "metadata": {},
          "output_type": "execute_result"
        }
      ],
      "source": [
        "generate_sequence(model, starting_seq='he is a bad actor because')"
      ]
    },
    {
      "cell_type": "code",
      "execution_count": 83,
      "metadata": {},
      "outputs": [
        {
          "data": {
            "text/plain": [
              "\"<bos> i dont like this film because i 'm sure it was a bit of a comedy . <eos>\""
            ]
          },
          "execution_count": 83,
          "metadata": {},
          "output_type": "execute_result"
        }
      ],
      "source": [
        "generate_sequence(model, starting_seq='i dont like this film because')"
      ]
    },
    {
      "cell_type": "markdown",
      "metadata": {},
      "source": [
        "Выглядит очень хорошо. Попробуем во все тяжкие увеличить словарь, сеть и количество эпох"
      ]
    },
    {
      "cell_type": "code",
      "execution_count": 91,
      "metadata": {},
      "outputs": [],
      "source": [
        "torch.cuda.empty_cache()"
      ]
    },
    {
      "cell_type": "code",
      "execution_count": 93,
      "metadata": {},
      "outputs": [],
      "source": [
        "vocab = set(['<unk>', '<bos>', '<eos>', '<pad>'])\n",
        "vocab_size = 75000\n",
        "size = 0\n",
        "\n",
        "for word, cnt in words.items():\n",
        "    if size >= vocab_size:\n",
        "        break\n",
        "    vocab.add(word)\n",
        "    size += 1"
      ]
    },
    {
      "cell_type": "code",
      "execution_count": 94,
      "metadata": {},
      "outputs": [
        {
          "name": "stdout",
          "output_type": "stream",
          "text": [
            "Всего слов в словаре: 75004\n"
          ]
        }
      ],
      "source": [
        "print(\"Всего слов в словаре:\", len(vocab))"
      ]
    },
    {
      "cell_type": "code",
      "execution_count": 95,
      "metadata": {},
      "outputs": [],
      "source": [
        "word2ind = {word: i for i, word in enumerate(vocab)}\n",
        "ind2word = {i: word for word, i in word2ind.items()}"
      ]
    },
    {
      "cell_type": "code",
      "execution_count": 96,
      "metadata": {},
      "outputs": [],
      "source": [
        "class WordDataset:\n",
        "    def __init__(self, sentences):\n",
        "        self.data = sentences\n",
        "        self.unk_id = word2ind['<unk>']\n",
        "        self.bos_id = word2ind['<bos>']\n",
        "        self.eos_id = word2ind['<eos>']\n",
        "        self.pad_id = word2ind['<pad>']\n",
        "\n",
        "    def __getitem__(self, idx: int) -> List[int]:\n",
        "        tokenized_sentence = [self.bos_id]\n",
        "        # Допишите код здесь\n",
        "        tokenized_sentence += [word2ind.get(word, self.unk_id) for word in word_tokenize(self.data[idx])] \n",
        "        tokenized_sentence += [self.eos_id]\n",
        "\n",
        "        return tokenized_sentence\n",
        "\n",
        "    def __len__(self) -> int:\n",
        "        return len(self.data)"
      ]
    },
    {
      "cell_type": "code",
      "execution_count": 97,
      "metadata": {},
      "outputs": [],
      "source": [
        "def collate_fn_with_padding(\n",
        "    input_batch: List[List[int]], pad_id=word2ind['<pad>']) -> torch.Tensor:\n",
        "    seq_lens = [len(x) for x in input_batch]\n",
        "    max_seq_len = max(seq_lens)\n",
        "\n",
        "    new_batch = []\n",
        "    for sequence in input_batch:\n",
        "        for _ in range(max_seq_len - len(sequence)):\n",
        "            sequence.append(pad_id)\n",
        "        new_batch.append(sequence)\n",
        "\n",
        "    sequences = torch.LongTensor(new_batch).to(device)\n",
        "\n",
        "    new_batch = {\n",
        "        'input_ids': sequences[:,:-1],\n",
        "        'target_ids': sequences[:,1:]\n",
        "    }\n",
        "\n",
        "    return new_batch"
      ]
    },
    {
      "cell_type": "code",
      "execution_count": 98,
      "metadata": {},
      "outputs": [],
      "source": [
        "train_sentences, eval_sentences = train_test_split(sentences, test_size=0.2)\n",
        "eval_sentences, test_sentences = train_test_split(eval_sentences, test_size=0.5)\n",
        "\n",
        "train_dataset = WordDataset(train_sentences)\n",
        "eval_dataset = WordDataset(eval_sentences)\n",
        "test_dataset = WordDataset(test_sentences)\n",
        "\n",
        "batch_size = 128\n",
        "\n",
        "train_dataloader = DataLoader(\n",
        "    train_dataset, collate_fn=collate_fn_with_padding, batch_size=batch_size)\n",
        "\n",
        "eval_dataloader = DataLoader(\n",
        "    eval_dataset, collate_fn=collate_fn_with_padding, batch_size=batch_size)\n",
        "\n",
        "test_dataloader = DataLoader(\n",
        "    test_dataset, collate_fn=collate_fn_with_padding, batch_size=batch_size)"
      ]
    },
    {
      "cell_type": "code",
      "execution_count": 99,
      "metadata": {},
      "outputs": [],
      "source": [
        "class ThirdLanguageModel(nn.Module):\n",
        "    def __init__(self, hidden_dim: int, vocab_size: int):\n",
        "        super().__init__()\n",
        "        # Опишите свою нейронную сеть здесь\n",
        "        self.embedding = nn.Embedding(vocab_size, hidden_dim)\n",
        "        self.rnn = nn.GRU(hidden_dim, hidden_dim, num_layers=5, batch_first=True) # уменьшил количество слоёв\n",
        "        self.layer_norm = nn.LayerNorm(hidden_dim)\n",
        "        self.linear = nn.Linear(hidden_dim, hidden_dim)\n",
        "        self.projection = nn.Linear(hidden_dim, vocab_size)\n",
        "\n",
        "        self.non_lin = nn.Tanh()\n",
        "        self.dropout_1 = nn.Dropout(p=0.3) # увеличил dropout\n",
        "        self.dropout_2 = nn.Dropout(p=0.2) # добавил ещё один dropout\n",
        "        self.dropout_3 = nn.Dropout(p=0.1) # добавил ещё один dropout\n",
        "\n",
        "    def forward(self, input_batch: torch.Tensor) -> torch.Tensor:\n",
        "        # А тут опишите forward pass модели\n",
        "        embeddings = self.embedding(input_batch)  # [batch_size, seq_len, hidden_dim]\n",
        "        embeddings = self.layer_norm(embeddings) # нормализация после эмбеддинга\n",
        "        output, _ = self.rnn(embeddings)  # [batch_size, seq_len, hidden_dim]\n",
        "        output = self.layer_norm(output) # нормализация после GRU\n",
        "        output = self.dropout_1(self.linear(self.non_lin(output)))  # [batch_size, seq_len, hidden_dim]\n",
        "        output = self.linear(self.non_lin(output))\n",
        "        output = self.dropout_2(self.linear(self.non_lin(output)))  # [batch_size, seq_len, hidden_dim]\n",
        "        output = self.linear(self.non_lin(output))\n",
        "        output = self.layer_norm(output)\n",
        "        output = self.dropout_3(self.linear(self.non_lin(output)))  # [batch_size, seq_len, hidden_dim]\n",
        "        projection = self.projection(self.non_lin(output))  # [batch_size, seq_len, vocab_size]\n",
        "\n",
        "        return projection"
      ]
    },
    {
      "cell_type": "code",
      "execution_count": 100,
      "metadata": {},
      "outputs": [],
      "source": [
        "model = ThirdLanguageModel(hidden_dim=512, vocab_size=len(vocab)).to(device)\n",
        "criterion = nn.CrossEntropyLoss(ignore_index=word2ind['<pad>'])\n",
        "optimizer = torch.optim.Adam(model.parameters(), lr=0.001, weight_decay=0.0001)"
      ]
    },
    {
      "cell_type": "code",
      "execution_count": 101,
      "metadata": {},
      "outputs": [
        {
          "data": {
            "application/vnd.jupyter.widget-view+json": {
              "model_id": "d78f0ead5d26425692783cf8b83b2a97",
              "version_major": 2,
              "version_minor": 0
            },
            "text/plain": [
              "Training epoch 0::   0%|          | 0/1590 [00:00<?, ?it/s]"
            ]
          },
          "metadata": {},
          "output_type": "display_data"
        },
        {
          "data": {
            "application/vnd.jupyter.widget-view+json": {
              "model_id": "f6c6c2537c0144a59288f8f39bbb434c",
              "version_major": 2,
              "version_minor": 0
            },
            "text/plain": [
              "Training epoch 1::   0%|          | 0/1590 [00:00<?, ?it/s]"
            ]
          },
          "metadata": {},
          "output_type": "display_data"
        },
        {
          "data": {
            "application/vnd.jupyter.widget-view+json": {
              "model_id": "f7f86c893cab4f8d96ef2d0d41119d21",
              "version_major": 2,
              "version_minor": 0
            },
            "text/plain": [
              "Training epoch 2::   0%|          | 0/1590 [00:00<?, ?it/s]"
            ]
          },
          "metadata": {},
          "output_type": "display_data"
        },
        {
          "data": {
            "application/vnd.jupyter.widget-view+json": {
              "model_id": "9895de7164a94ed3b3bd2d8ab07b1265",
              "version_major": 2,
              "version_minor": 0
            },
            "text/plain": [
              "Training epoch 3::   0%|          | 0/1590 [00:00<?, ?it/s]"
            ]
          },
          "metadata": {},
          "output_type": "display_data"
        },
        {
          "data": {
            "application/vnd.jupyter.widget-view+json": {
              "model_id": "7d48ab053f37406f801048622a32d881",
              "version_major": 2,
              "version_minor": 0
            },
            "text/plain": [
              "Training epoch 4::   0%|          | 0/1590 [00:00<?, ?it/s]"
            ]
          },
          "metadata": {},
          "output_type": "display_data"
        },
        {
          "data": {
            "application/vnd.jupyter.widget-view+json": {
              "model_id": "bfa001c5448b4f9998af961165833d43",
              "version_major": 2,
              "version_minor": 0
            },
            "text/plain": [
              "Training epoch 5::   0%|          | 0/1590 [00:00<?, ?it/s]"
            ]
          },
          "metadata": {},
          "output_type": "display_data"
        },
        {
          "data": {
            "application/vnd.jupyter.widget-view+json": {
              "model_id": "cf9a8ea69fe64fb9b0799fe1f309ba45",
              "version_major": 2,
              "version_minor": 0
            },
            "text/plain": [
              "Training epoch 6::   0%|          | 0/1590 [00:00<?, ?it/s]"
            ]
          },
          "metadata": {},
          "output_type": "display_data"
        },
        {
          "data": {
            "application/vnd.jupyter.widget-view+json": {
              "model_id": "60be2797bb33489aa99fa2b3a9ab2940",
              "version_major": 2,
              "version_minor": 0
            },
            "text/plain": [
              "Training epoch 7::   0%|          | 0/1590 [00:00<?, ?it/s]"
            ]
          },
          "metadata": {},
          "output_type": "display_data"
        },
        {
          "data": {
            "application/vnd.jupyter.widget-view+json": {
              "model_id": "3a99d2da206e4f5fa7ded0b2518fef38",
              "version_major": 2,
              "version_minor": 0
            },
            "text/plain": [
              "Training epoch 8::   0%|          | 0/1590 [00:00<?, ?it/s]"
            ]
          },
          "metadata": {},
          "output_type": "display_data"
        },
        {
          "data": {
            "application/vnd.jupyter.widget-view+json": {
              "model_id": "f850eddc4b8b45beb46260ced9a6dc1c",
              "version_major": 2,
              "version_minor": 0
            },
            "text/plain": [
              "Training epoch 9::   0%|          | 0/1590 [00:00<?, ?it/s]"
            ]
          },
          "metadata": {},
          "output_type": "display_data"
        },
        {
          "data": {
            "application/vnd.jupyter.widget-view+json": {
              "model_id": "6dc792a7157c4432b91d569cb82dbeab",
              "version_major": 2,
              "version_minor": 0
            },
            "text/plain": [
              "Training epoch 10::   0%|          | 0/1590 [00:00<?, ?it/s]"
            ]
          },
          "metadata": {},
          "output_type": "display_data"
        },
        {
          "data": {
            "application/vnd.jupyter.widget-view+json": {
              "model_id": "0028a869ed5b47978c8f728f8e80bf73",
              "version_major": 2,
              "version_minor": 0
            },
            "text/plain": [
              "Training epoch 11::   0%|          | 0/1590 [00:00<?, ?it/s]"
            ]
          },
          "metadata": {},
          "output_type": "display_data"
        },
        {
          "data": {
            "application/vnd.jupyter.widget-view+json": {
              "model_id": "982833a7cb0148baa2639f1281712670",
              "version_major": 2,
              "version_minor": 0
            },
            "text/plain": [
              "Training epoch 12::   0%|          | 0/1590 [00:00<?, ?it/s]"
            ]
          },
          "metadata": {},
          "output_type": "display_data"
        },
        {
          "data": {
            "application/vnd.jupyter.widget-view+json": {
              "model_id": "08b32d830ab84e95aee32c83eb38a78f",
              "version_major": 2,
              "version_minor": 0
            },
            "text/plain": [
              "Training epoch 13::   0%|          | 0/1590 [00:00<?, ?it/s]"
            ]
          },
          "metadata": {},
          "output_type": "display_data"
        },
        {
          "data": {
            "application/vnd.jupyter.widget-view+json": {
              "model_id": "f44c71f21d1e4c82b1d9f8988e1c9d00",
              "version_major": 2,
              "version_minor": 0
            },
            "text/plain": [
              "Training epoch 14::   0%|          | 0/1590 [00:00<?, ?it/s]"
            ]
          },
          "metadata": {},
          "output_type": "display_data"
        },
        {
          "data": {
            "application/vnd.jupyter.widget-view+json": {
              "model_id": "eaf2192b2dc747a8b7928ef4d967428a",
              "version_major": 2,
              "version_minor": 0
            },
            "text/plain": [
              "Training epoch 15::   0%|          | 0/1590 [00:00<?, ?it/s]"
            ]
          },
          "metadata": {},
          "output_type": "display_data"
        },
        {
          "data": {
            "application/vnd.jupyter.widget-view+json": {
              "model_id": "34469c82b342473f8903b77c31691f56",
              "version_major": 2,
              "version_minor": 0
            },
            "text/plain": [
              "Training epoch 16::   0%|          | 0/1590 [00:00<?, ?it/s]"
            ]
          },
          "metadata": {},
          "output_type": "display_data"
        },
        {
          "data": {
            "application/vnd.jupyter.widget-view+json": {
              "model_id": "ff9022b397c14c66843676cad46964c7",
              "version_major": 2,
              "version_minor": 0
            },
            "text/plain": [
              "Training epoch 17::   0%|          | 0/1590 [00:00<?, ?it/s]"
            ]
          },
          "metadata": {},
          "output_type": "display_data"
        },
        {
          "data": {
            "application/vnd.jupyter.widget-view+json": {
              "model_id": "ffe292df8bbc4559a7abc116f1747992",
              "version_major": 2,
              "version_minor": 0
            },
            "text/plain": [
              "Training epoch 18::   0%|          | 0/1590 [00:00<?, ?it/s]"
            ]
          },
          "metadata": {},
          "output_type": "display_data"
        },
        {
          "data": {
            "application/vnd.jupyter.widget-view+json": {
              "model_id": "e58e3cd809344aada95284345ec39e51",
              "version_major": 2,
              "version_minor": 0
            },
            "text/plain": [
              "Training epoch 19::   0%|          | 0/1590 [00:00<?, ?it/s]"
            ]
          },
          "metadata": {},
          "output_type": "display_data"
        },
        {
          "data": {
            "application/vnd.jupyter.widget-view+json": {
              "model_id": "57a0c6fa8a484844b78e23f37f336362",
              "version_major": 2,
              "version_minor": 0
            },
            "text/plain": [
              "Training epoch 20::   0%|          | 0/1590 [00:00<?, ?it/s]"
            ]
          },
          "metadata": {},
          "output_type": "display_data"
        },
        {
          "data": {
            "application/vnd.jupyter.widget-view+json": {
              "model_id": "8259d0d4151a4e288b340f9fe1e7d32a",
              "version_major": 2,
              "version_minor": 0
            },
            "text/plain": [
              "Training epoch 21::   0%|          | 0/1590 [00:00<?, ?it/s]"
            ]
          },
          "metadata": {},
          "output_type": "display_data"
        },
        {
          "data": {
            "application/vnd.jupyter.widget-view+json": {
              "model_id": "03019475746e4692b773991af6ab65b9",
              "version_major": 2,
              "version_minor": 0
            },
            "text/plain": [
              "Training epoch 22::   0%|          | 0/1590 [00:00<?, ?it/s]"
            ]
          },
          "metadata": {},
          "output_type": "display_data"
        },
        {
          "data": {
            "application/vnd.jupyter.widget-view+json": {
              "model_id": "30b5f08c7ebd4463a6269fc4daf77830",
              "version_major": 2,
              "version_minor": 0
            },
            "text/plain": [
              "Training epoch 23::   0%|          | 0/1590 [00:00<?, ?it/s]"
            ]
          },
          "metadata": {},
          "output_type": "display_data"
        },
        {
          "data": {
            "application/vnd.jupyter.widget-view+json": {
              "model_id": "ba9209c46b1742b19701eb70de0a098e",
              "version_major": 2,
              "version_minor": 0
            },
            "text/plain": [
              "Training epoch 24::   0%|          | 0/1590 [00:00<?, ?it/s]"
            ]
          },
          "metadata": {},
          "output_type": "display_data"
        },
        {
          "data": {
            "application/vnd.jupyter.widget-view+json": {
              "model_id": "8a41e28a086842f79c0b9d34d5f48970",
              "version_major": 2,
              "version_minor": 0
            },
            "text/plain": [
              "Training epoch 25::   0%|          | 0/1590 [00:00<?, ?it/s]"
            ]
          },
          "metadata": {},
          "output_type": "display_data"
        },
        {
          "data": {
            "application/vnd.jupyter.widget-view+json": {
              "model_id": "6d36c92a0dfd4fac8272a8053638e231",
              "version_major": 2,
              "version_minor": 0
            },
            "text/plain": [
              "Training epoch 26::   0%|          | 0/1590 [00:00<?, ?it/s]"
            ]
          },
          "metadata": {},
          "output_type": "display_data"
        },
        {
          "data": {
            "application/vnd.jupyter.widget-view+json": {
              "model_id": "d6b244de0cb64f09aff94de4daac20a1",
              "version_major": 2,
              "version_minor": 0
            },
            "text/plain": [
              "Training epoch 27::   0%|          | 0/1590 [00:00<?, ?it/s]"
            ]
          },
          "metadata": {},
          "output_type": "display_data"
        },
        {
          "data": {
            "application/vnd.jupyter.widget-view+json": {
              "model_id": "0eec12cda62143b2b6b2c01a0b748a52",
              "version_major": 2,
              "version_minor": 0
            },
            "text/plain": [
              "Training epoch 28::   0%|          | 0/1590 [00:00<?, ?it/s]"
            ]
          },
          "metadata": {},
          "output_type": "display_data"
        },
        {
          "data": {
            "application/vnd.jupyter.widget-view+json": {
              "model_id": "1ec066c16456442fb770cdb1773778c0",
              "version_major": 2,
              "version_minor": 0
            },
            "text/plain": [
              "Training epoch 29::   0%|          | 0/1590 [00:00<?, ?it/s]"
            ]
          },
          "metadata": {},
          "output_type": "display_data"
        },
        {
          "data": {
            "application/vnd.jupyter.widget-view+json": {
              "model_id": "6487bdf430bb426db384faa54e9ebb8f",
              "version_major": 2,
              "version_minor": 0
            },
            "text/plain": [
              "Training epoch 30::   0%|          | 0/1590 [00:00<?, ?it/s]"
            ]
          },
          "metadata": {},
          "output_type": "display_data"
        },
        {
          "data": {
            "application/vnd.jupyter.widget-view+json": {
              "model_id": "e4c9021ebbb849da82bab8939059d002",
              "version_major": 2,
              "version_minor": 0
            },
            "text/plain": [
              "Training epoch 31::   0%|          | 0/1590 [00:00<?, ?it/s]"
            ]
          },
          "metadata": {},
          "output_type": "display_data"
        },
        {
          "data": {
            "application/vnd.jupyter.widget-view+json": {
              "model_id": "8342211d12264bb9861e2407f5996d7e",
              "version_major": 2,
              "version_minor": 0
            },
            "text/plain": [
              "Training epoch 32::   0%|          | 0/1590 [00:00<?, ?it/s]"
            ]
          },
          "metadata": {},
          "output_type": "display_data"
        },
        {
          "data": {
            "application/vnd.jupyter.widget-view+json": {
              "model_id": "66ab6ff5243b42bf8590b9ec8b12fd24",
              "version_major": 2,
              "version_minor": 0
            },
            "text/plain": [
              "Training epoch 33::   0%|          | 0/1590 [00:00<?, ?it/s]"
            ]
          },
          "metadata": {},
          "output_type": "display_data"
        },
        {
          "data": {
            "application/vnd.jupyter.widget-view+json": {
              "model_id": "2c0985a61ca54c6d827eeefc8012cac6",
              "version_major": 2,
              "version_minor": 0
            },
            "text/plain": [
              "Training epoch 34::   0%|          | 0/1590 [00:00<?, ?it/s]"
            ]
          },
          "metadata": {},
          "output_type": "display_data"
        },
        {
          "data": {
            "application/vnd.jupyter.widget-view+json": {
              "model_id": "edda8ee515444fb98838381a30c6e75c",
              "version_major": 2,
              "version_minor": 0
            },
            "text/plain": [
              "Training epoch 35::   0%|          | 0/1590 [00:00<?, ?it/s]"
            ]
          },
          "metadata": {},
          "output_type": "display_data"
        },
        {
          "data": {
            "application/vnd.jupyter.widget-view+json": {
              "model_id": "596a9a8b4cfc4ce980563cfe4513717c",
              "version_major": 2,
              "version_minor": 0
            },
            "text/plain": [
              "Training epoch 36::   0%|          | 0/1590 [00:00<?, ?it/s]"
            ]
          },
          "metadata": {},
          "output_type": "display_data"
        },
        {
          "data": {
            "application/vnd.jupyter.widget-view+json": {
              "model_id": "7ae934926b854b3cbbfa8858fa8c3988",
              "version_major": 2,
              "version_minor": 0
            },
            "text/plain": [
              "Training epoch 37::   0%|          | 0/1590 [00:00<?, ?it/s]"
            ]
          },
          "metadata": {},
          "output_type": "display_data"
        },
        {
          "data": {
            "application/vnd.jupyter.widget-view+json": {
              "model_id": "7ead06e8ae7446d5a4d57ee082d4ef83",
              "version_major": 2,
              "version_minor": 0
            },
            "text/plain": [
              "Training epoch 38::   0%|          | 0/1590 [00:00<?, ?it/s]"
            ]
          },
          "metadata": {},
          "output_type": "display_data"
        },
        {
          "data": {
            "application/vnd.jupyter.widget-view+json": {
              "model_id": "4721e971d6d4415ebd4683eaee71ab9e",
              "version_major": 2,
              "version_minor": 0
            },
            "text/plain": [
              "Training epoch 39::   0%|          | 0/1590 [00:00<?, ?it/s]"
            ]
          },
          "metadata": {},
          "output_type": "display_data"
        },
        {
          "data": {
            "application/vnd.jupyter.widget-view+json": {
              "model_id": "31b1f3d71d0c4e7a8f652da651efa781",
              "version_major": 2,
              "version_minor": 0
            },
            "text/plain": [
              "Training epoch 40::   0%|          | 0/1590 [00:00<?, ?it/s]"
            ]
          },
          "metadata": {},
          "output_type": "display_data"
        },
        {
          "data": {
            "application/vnd.jupyter.widget-view+json": {
              "model_id": "9fb82b6524224ea2897967a3c00e0186",
              "version_major": 2,
              "version_minor": 0
            },
            "text/plain": [
              "Training epoch 41::   0%|          | 0/1590 [00:00<?, ?it/s]"
            ]
          },
          "metadata": {},
          "output_type": "display_data"
        },
        {
          "data": {
            "application/vnd.jupyter.widget-view+json": {
              "model_id": "72c022a8843446bcb3a374d06fe7edf0",
              "version_major": 2,
              "version_minor": 0
            },
            "text/plain": [
              "Training epoch 42::   0%|          | 0/1590 [00:00<?, ?it/s]"
            ]
          },
          "metadata": {},
          "output_type": "display_data"
        },
        {
          "data": {
            "application/vnd.jupyter.widget-view+json": {
              "model_id": "94e95fab16914bacb88ab151d227a4ad",
              "version_major": 2,
              "version_minor": 0
            },
            "text/plain": [
              "Training epoch 43::   0%|          | 0/1590 [00:00<?, ?it/s]"
            ]
          },
          "metadata": {},
          "output_type": "display_data"
        },
        {
          "data": {
            "application/vnd.jupyter.widget-view+json": {
              "model_id": "0af01a0438e84afd9f05a01bce2dcec8",
              "version_major": 2,
              "version_minor": 0
            },
            "text/plain": [
              "Training epoch 44::   0%|          | 0/1590 [00:00<?, ?it/s]"
            ]
          },
          "metadata": {},
          "output_type": "display_data"
        },
        {
          "data": {
            "application/vnd.jupyter.widget-view+json": {
              "model_id": "c6689a9797794cf68e253e09bd481368",
              "version_major": 2,
              "version_minor": 0
            },
            "text/plain": [
              "Training epoch 45::   0%|          | 0/1590 [00:00<?, ?it/s]"
            ]
          },
          "metadata": {},
          "output_type": "display_data"
        },
        {
          "data": {
            "application/vnd.jupyter.widget-view+json": {
              "model_id": "d6499c1ef30a4e419b15b5aeb98e1a91",
              "version_major": 2,
              "version_minor": 0
            },
            "text/plain": [
              "Training epoch 46::   0%|          | 0/1590 [00:00<?, ?it/s]"
            ]
          },
          "metadata": {},
          "output_type": "display_data"
        },
        {
          "data": {
            "application/vnd.jupyter.widget-view+json": {
              "model_id": "64321b492042490cb9dd31520d4e053c",
              "version_major": 2,
              "version_minor": 0
            },
            "text/plain": [
              "Training epoch 47::   0%|          | 0/1590 [00:00<?, ?it/s]"
            ]
          },
          "metadata": {},
          "output_type": "display_data"
        },
        {
          "data": {
            "application/vnd.jupyter.widget-view+json": {
              "model_id": "981f84ebe99143da8ace870624cda0af",
              "version_major": 2,
              "version_minor": 0
            },
            "text/plain": [
              "Training epoch 48::   0%|          | 0/1590 [00:00<?, ?it/s]"
            ]
          },
          "metadata": {},
          "output_type": "display_data"
        },
        {
          "data": {
            "application/vnd.jupyter.widget-view+json": {
              "model_id": "62fc73d08299443da1f6f15f7ad9668c",
              "version_major": 2,
              "version_minor": 0
            },
            "text/plain": [
              "Training epoch 49::   0%|          | 0/1590 [00:00<?, ?it/s]"
            ]
          },
          "metadata": {},
          "output_type": "display_data"
        }
      ],
      "source": [
        "experiment_params[3] = ['lr = 0.001', 'weight_decay = 0.0001', 'num_epoch = 50', '5 layers GRU', '3 dropout', '3 layer norms']\n",
        "experiment_losses[3], experiment_perplexities_test[3], experiment_perplexities_eval[3] = train_model(50, model, optimizer, criterion)"
      ]
    },
    {
      "cell_type": "code",
      "execution_count": 102,
      "metadata": {},
      "outputs": [
        {
          "data": {
            "image/png": "[encoded data removed]",
            "text/plain": [
              "<Figure size 640x480 with 1 Axes>"
            ]
          },
          "metadata": {},
          "output_type": "display_data"
        }
      ],
      "source": [
        "plt.plot(np.arange(len(experiment_losses[3])), experiment_losses[3])\n",
        "plt.title('Losses on third experiment')\n",
        "plt.xlabel(\"epoch\")\n",
        "plt.show()"
      ]
    },
    {
      "cell_type": "code",
      "execution_count": 103,
      "metadata": {},
      "outputs": [
        {
          "data": {
            "image/png": "[encoded data removed]",
            "text/plain": [
              "<Figure size 1000x500 with 2 Axes>"
            ]
          },
          "metadata": {},
          "output_type": "display_data"
        }
      ],
      "source": [
        "fig, (ax1, ax2) = plt.subplots(1, 2, figsize=(10, 5))\n",
        "\n",
        "ax1.plot(np.arange(len(experiment_perplexities_test[3])), experiment_perplexities_test[3])\n",
        "ax2.plot(np.arange(len(experiment_perplexities_eval[3])), experiment_perplexities_eval[3])\n",
        "\n",
        "ax1.set_title('Perplexity on test data')\n",
        "ax1.set_xlabel(\"epoch\")\n",
        "ax1.set_ylabel(\"Perplexity\")\n",
        "\n",
        "ax2.set_title('Perplexity on eval data')\n",
        "ax2.set_xlabel(\"epoch\")\n",
        "ax2.set_ylabel(\"Perplexity\")\n",
        "\n",
        "plt.tight_layout()\n",
        "plt.show()"
      ]
    },
    {
      "cell_type": "code",
      "execution_count": 104,
      "metadata": {},
      "outputs": [
        {
          "data": {
            "text/plain": [
              "\"<bos> he is a bad actor because he 's a great actor . <eos>\""
            ]
          },
          "execution_count": 104,
          "metadata": {},
          "output_type": "execute_result"
        }
      ],
      "source": [
        "generate_sequence(model, starting_seq='he is a bad actor because')"
      ]
    },
    {
      "cell_type": "code",
      "execution_count": 105,
      "metadata": {},
      "outputs": [
        {
          "data": {
            "text/plain": [
              "\"<bos> i dont like this film because it 's a great movie . <eos>\""
            ]
          },
          "execution_count": 105,
          "metadata": {},
          "output_type": "execute_result"
        }
      ],
      "source": [
        "generate_sequence(model, starting_seq='i dont like this film because')"
      ]
    },
    {
      "cell_type": "markdown",
      "metadata": {},
      "source": [
        "К улучшению не привело :("
      ]
    },
    {
      "cell_type": "markdown",
      "metadata": {
        "id": "Y5V9H3eoFeAu"
      },
      "source": [
        "### Отчет (2 балла)\n",
        "\n",
        "Опишите проведенные эксперименты. Сравните перплексии полученных моделей. Предложите идеи по улучшению качества моделей."
      ]
    },
    {
      "cell_type": "code",
      "execution_count": 109,
      "metadata": {
        "id": "M2GCDVeeF8LP"
      },
      "outputs": [
        {
          "name": "stdout",
          "output_type": "stream",
          "text": [
            "Params: ['lr = 0.01', 'weight_decay = 0.01', 'num_epoch = 15', '4 layers GRU', '1 dropout']\n",
            "Losses: [7.0792557047598015, 7.033110521724389, 7.067994409537166, 6.9583531949505115, 7.0904552165817165, 7.06044735938498, 6.9429542325577644, 6.666008161148935, 5.7979125223819565, 7.353991324046873, 7.041729883577839, 6.6272541277063715, 5.763239549240976, 5.701581845793334, 7.769347568128094]\n",
            "Perplexities on test dataset: [1764.4033411687342, 1148.0579864655308, 1398.9407333297347, 1464.4921003945508, 1696.9428471704225, 1277.5845818447708, 3458.4830217984454, 478.43534045962235, 362.9840074088705, 2019.871747654287, 1466.26228002807, 371.9179192164435, 331.5623716421463, 344.8384592640939, 2370.5312187156487]\n",
            "Perplexities on eval dataset: [1767.7388627708856, 1148.3346965540593, 1398.3119448561165, 1465.3201137523556, 1701.8693994876728, 1277.8681775577104, 3475.923024546561, 476.1148600362653, 362.6749765980783, 2020.7117361710898, 1472.960931979232, 370.3750515271671, 331.5478024123302, 344.3120367155602, 2383.5622724216787]\n",
            "\n",
            "Params: ['lr = 0.001', 'weight_decay = 0.0001', 'num_epoch = 30', '3 layers GRU', '2 dropout', '2 layer norms']\n",
            "Losses: [5.520399203090547, 4.956392615996067, 4.776776938468405, 4.684364561164904, 4.61678332502737, 4.5706536071105575, 4.535760950892226, 4.5087558890288735, 4.488651074703385, 4.472906728060741, 4.4592199836886905, 4.4481804627292565, 4.438821364648687, 4.430906383946257, 4.423885451322832, 4.417973865353087, 4.4124540927275175, 4.407543084006639, 4.4032550519367435, 4.399285146425355, 4.39584585855592, 4.392202229169929, 4.389450629102359, 4.3868417447468016, 4.383805679975066, 4.3809039085916, 4.379178185283013, 4.376426518638179, 4.374463452633072, 4.37266196439851]\n",
            "Perplexities on test dataset: [168.6811079475748, 129.92752071361446, 114.16968800913749, 107.32024065333994, 104.3116664790628, 101.62837947672935, 100.22812533738026, 99.64744307168165, 98.4976800889825, 98.88775596426959, 97.83972114294617, 97.69573970775508, 97.69305082541614, 97.40634477318231, 96.93502186530799, 96.8769829908208, 96.9015188936013, 96.99963532260914, 96.49637331555238, 96.39802581940464, 96.38193960525282, 96.38473380390724, 95.6547037632621, 96.04685387539504, 95.78826225702487, 96.00960226394423, 96.10752201559555, 95.89559127577586, 95.73561652102063, 95.81972403981578]\n",
            "Perplexities on eval dataset: [169.00762299197402, 130.35558667973658, 114.26830230406182, 107.5213204772029, 104.43236534080313, 101.51682193315209, 100.18771431314286, 99.53056178260688, 98.42407084709436, 98.79845194600934, 97.6475264199415, 97.62406227456864, 97.53238160406525, 97.28170438986926, 96.77843544351396, 96.71139407517323, 96.75453370060752, 96.80607877184997, 96.2225378985381, 96.22309844817349, 96.27045705210624, 96.15664496493699, 95.48560747309546, 95.88579287121644, 95.64449199120602, 95.83204332667978, 96.00095501616971, 95.8643550776956, 95.6569878276269, 95.7442231298092]\n",
            "\n",
            "Params: ['lr = 0.001', 'weight_decay = 0.0001', 'num_epoch = 50', '5 layers GRU', '3 dropout', '3 layer norms']\n",
            "Losses: [5.89555140651247, 5.246524141419608, 5.060635232025723, 4.959749950552887, 4.882234308254794, 4.830404646891468, 4.791179457550529, 4.760950040217465, 4.737487645419138, 4.718981854420788, 4.703440902518026, 4.6898088995015845, 4.679660194924792, 4.66990958489712, 4.6612352290243475, 4.653597763649323, 4.64689978143704, 4.6410517743548505, 4.636113729716847, 4.630895264643543, 4.6263555403775385, 4.622113653998705, 4.617746571774752, 4.614892618011378, 4.611682669921491, 4.608039213876304, 4.605467703357433, 4.60268393822436, 4.600033651507875, 4.597539830957569, 4.595637594378969, 4.593344048134186, 4.590770312075345, 4.589356304564566, 4.587368803804026, 4.585114094596239, 4.583595067450085, 4.581573110256555, 4.579993140922403, 4.57788817867543, 4.577082869691669, 4.575924885048057, 4.573785900919693, 4.571979738031543, 4.570808830201251, 4.569649916175027, 4.568880982968793, 4.567656047089295, 4.566677737685869, 4.5654279295003635]\n",
            "Perplexities on test dataset: [222.43324785855546, 173.30375978096046, 151.52568981994935, 142.41234255076654, 135.77045770386354, 131.2612747499092, 129.51779358830285, 128.04619372190544, 125.94570412947304, 125.04861473198513, 125.29353044979537, 124.22327139389574, 123.8965536913081, 123.08420397887878, 122.88164527931406, 123.356144584004, 122.98925992112663, 121.89486778681002, 122.35237815511886, 122.31512270980144, 121.9257138506252, 122.1716517156093, 121.58760124474914, 122.13524336311686, 121.62687640932936, 122.1386891273997, 121.5065895348937, 120.5856673274208, 121.08493697583376, 121.26430350452212, 121.28099945681778, 121.26047316508077, 120.67936767884834, 120.8441836103123, 121.06605702309153, 121.524263123172, 120.78418271625462, 121.01699430379436, 120.74399915532251, 119.88208709410088, 120.36410955687863, 120.61906091891342, 120.17113529377846, 121.46681297723971, 120.20592989514222, 119.75813212945833, 120.59387046008852, 119.6683168267485, 120.04014200181817, 120.04838259136257]\n",
            "Perplexities on eval dataset: [220.6728189746339, 172.36942505956296, 150.90538155253807, 142.240101799893, 135.5963267800796, 131.23388380501137, 129.42063056524074, 127.90803167448571, 125.76128337610906, 124.96894671569518, 125.1562014249102, 124.3155964990357, 123.76285192595056, 123.14329647658458, 122.86557298209799, 123.28273754024026, 123.12205559045226, 121.8455118533954, 122.28437901022446, 122.12143611428726, 122.03093746319487, 122.02966718817476, 121.36168501964167, 121.88850479509364, 121.50277142548681, 121.73972048352113, 121.35143655748223, 120.42573068129957, 120.79782438038582, 121.22026721436774, 120.93462245308574, 121.37143408233796, 120.6312072217165, 120.55766392233383, 120.75772455110022, 121.35082087684516, 120.48846332032477, 120.99689847859905, 120.54174359958975, 119.63241753506301, 120.0621879999362, 120.16303855090884, 119.90340366075985, 121.22363541952929, 120.03102982104124, 119.1984132929663, 120.17558763973678, 119.3790261733472, 119.99432001161814, 120.04468961936145]\n",
            "\n"
          ]
        }
      ],
      "source": [
        "for experiment in range(1, 4):\n",
        "    print(f'Params: {experiment_params[experiment]}')\n",
        "    print(f'Losses: {experiment_losses[experiment]}')\n",
        "    print(f'Perplexities on test dataset: {experiment_perplexities_test[experiment]}')\n",
        "    print(f'Perplexities on eval dataset: {experiment_perplexities_eval[experiment]}')\n",
        "    print()\n"
      ]
    },
    {
      "cell_type": "markdown",
      "metadata": {},
      "source": [
        "Наилучший результат был получен на втором эксперименте. Последующее увеличение словаря и усложнение модели не привело к успеху. Скорее всего модель, полученная при втором эксперименте, оказалась самой сбалансированной. Результат считаю хорошим."
      ]
    },
    {
      "cell_type": "code",
      "execution_count": 112,
      "metadata": {},
      "outputs": [
        {
          "data": {
            "image/png": "[encoded data removed]",
            "text/plain": [
              "<Figure size 1000x500 with 2 Axes>"
            ]
          },
          "metadata": {},
          "output_type": "display_data"
        }
      ],
      "source": [
        "fig, (ax1, ax2) = plt.subplots(1, 2, figsize=(10, 5))\n",
        "\n",
        "ax1.plot(np.arange(len(experiment_perplexities_test[1])), experiment_perplexities_test[1], color='indianred')\n",
        "ax1.plot(np.arange(len(experiment_perplexities_test[2])), experiment_perplexities_test[2], color='olivedrab')\n",
        "ax1.plot(np.arange(len(experiment_perplexities_test[3])), experiment_perplexities_test[3], color='teal')\n",
        "\n",
        "ax2.plot(np.arange(len(experiment_perplexities_eval[1])), experiment_perplexities_eval[1], color='indianred')\n",
        "ax2.plot(np.arange(len(experiment_perplexities_eval[2])), experiment_perplexities_eval[2], color='olivedrab')\n",
        "ax2.plot(np.arange(len(experiment_perplexities_eval[3])), experiment_perplexities_eval[3], color='teal')\n",
        "\n",
        "ax1.set_title('Perplexity on test data')\n",
        "ax1.set_xlabel(\"epoch\")\n",
        "ax1.set_ylabel(\"Perplexity\")\n",
        "\n",
        "ax2.set_title('Perplexity on eval data')\n",
        "ax2.set_xlabel(\"epoch\")\n",
        "ax2.set_ylabel(\"Perplexity\")\n",
        "\n",
        "plt.tight_layout()\n",
        "plt.show()"
      ]
    },
    {
      "cell_type": "markdown",
      "metadata": {},
      "source": [
        "Исключим первый эксперимент"
      ]
    },
    {
      "cell_type": "code",
      "execution_count": 113,
      "metadata": {},
      "outputs": [
        {
          "data": {
            "image/png": "[encoded data removed]",
            "text/plain": [
              "<Figure size 1000x500 with 2 Axes>"
            ]
          },
          "metadata": {},
          "output_type": "display_data"
        }
      ],
      "source": [
        "fig, (ax1, ax2) = plt.subplots(1, 2, figsize=(10, 5))\n",
        "\n",
        "ax1.plot(np.arange(len(experiment_perplexities_test[2])), experiment_perplexities_test[2], color='olivedrab')\n",
        "ax1.plot(np.arange(len(experiment_perplexities_test[3])), experiment_perplexities_test[3], color='teal')\n",
        "\n",
        "ax2.plot(np.arange(len(experiment_perplexities_eval[2])), experiment_perplexities_eval[2], color='olivedrab')\n",
        "ax2.plot(np.arange(len(experiment_perplexities_eval[3])), experiment_perplexities_eval[3], color='teal')\n",
        "\n",
        "ax1.set_title('Perplexity on test data')\n",
        "ax1.set_xlabel(\"epoch\")\n",
        "ax1.set_ylabel(\"Perplexity\")\n",
        "\n",
        "ax2.set_title('Perplexity on eval data')\n",
        "ax2.set_xlabel(\"epoch\")\n",
        "ax2.set_ylabel(\"Perplexity\")\n",
        "\n",
        "plt.tight_layout()\n",
        "plt.show()"
      ]
    },
    {
      "cell_type": "markdown",
      "metadata": {},
      "source": [
        "Идей, которые могут привести к улучшению, к сожалению, нет. Нужно пробовать разные комбинации, как оказалось накрутка всего и вся не всего приводит к хорошему результату"
      ]
    }
  ],
  "metadata": {
    "accelerator": "GPU",
    "colab": {
      "provenance": []
    },
    "gpuClass": "standard",
    "kernelspec": {
      "display_name": "base",
      "language": "python",
      "name": "python3"
    },
    "language_info": {
      "codemirror_mode": {
        "name": "ipython",
        "version": 3
      },
      "file_extension": ".py",
      "mimetype": "text/x-python",
      "name": "python",
      "nbconvert_exporter": "python",
      "pygments_lexer": "ipython3",
      "version": "3.12.7"
    }
  },
  "nbformat": 4,
  "nbformat_minor": 0
}
